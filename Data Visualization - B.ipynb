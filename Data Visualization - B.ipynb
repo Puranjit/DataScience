{
 "cells": [
  {
   "cell_type": "markdown",
   "id": "5f115b7e",
   "metadata": {},
   "source": [
    "# Data visualization (Part - B)\n",
    "\n",
    "We will go over some basic matplotlib visualization commands and try to understand it by plotting some basic plots, bar-charts, pie-charts etc.<br>\n",
    "You can refer to this [Link](https://matplotlib.org/stable/api/_as_gen/matplotlib.pyplot.html) for more information on how to use these built-functions that will be used in the tutorial \n",
    "\n",
    "### Using real-world examples for this session\n",
    "Download the .csv data provided\n",
    "#### Load gas-price.csv dataset\n",
    "1. `gas_prices.csv` - includes gas prices/gallon in different countries over a span of 19 years"
   ]
  },
  {
   "cell_type": "code",
   "execution_count": 2,
   "id": "b2b09cb3",
   "metadata": {},
   "outputs": [
    {
     "data": {
      "text/html": [
       "<div>\n",
       "<style scoped>\n",
       "    .dataframe tbody tr th:only-of-type {\n",
       "        vertical-align: middle;\n",
       "    }\n",
       "\n",
       "    .dataframe tbody tr th {\n",
       "        vertical-align: top;\n",
       "    }\n",
       "\n",
       "    .dataframe thead th {\n",
       "        text-align: right;\n",
       "    }\n",
       "</style>\n",
       "<table border=\"1\" class=\"dataframe\">\n",
       "  <thead>\n",
       "    <tr style=\"text-align: right;\">\n",
       "      <th></th>\n",
       "      <th>Year</th>\n",
       "      <th>Australia</th>\n",
       "      <th>Canada</th>\n",
       "      <th>France</th>\n",
       "      <th>Germany</th>\n",
       "      <th>Italy</th>\n",
       "      <th>Japan</th>\n",
       "      <th>Mexico</th>\n",
       "      <th>South Korea</th>\n",
       "      <th>UK</th>\n",
       "      <th>USA</th>\n",
       "    </tr>\n",
       "  </thead>\n",
       "  <tbody>\n",
       "    <tr>\n",
       "      <th>0</th>\n",
       "      <td>1990</td>\n",
       "      <td>NaN</td>\n",
       "      <td>1.87</td>\n",
       "      <td>3.63</td>\n",
       "      <td>2.65</td>\n",
       "      <td>4.59</td>\n",
       "      <td>3.16</td>\n",
       "      <td>1.00</td>\n",
       "      <td>2.05</td>\n",
       "      <td>2.82</td>\n",
       "      <td>1.16</td>\n",
       "    </tr>\n",
       "    <tr>\n",
       "      <th>1</th>\n",
       "      <td>1991</td>\n",
       "      <td>1.96</td>\n",
       "      <td>1.92</td>\n",
       "      <td>3.45</td>\n",
       "      <td>2.90</td>\n",
       "      <td>4.50</td>\n",
       "      <td>3.46</td>\n",
       "      <td>1.30</td>\n",
       "      <td>2.49</td>\n",
       "      <td>3.01</td>\n",
       "      <td>1.14</td>\n",
       "    </tr>\n",
       "    <tr>\n",
       "      <th>2</th>\n",
       "      <td>1992</td>\n",
       "      <td>1.89</td>\n",
       "      <td>1.73</td>\n",
       "      <td>3.56</td>\n",
       "      <td>3.27</td>\n",
       "      <td>4.53</td>\n",
       "      <td>3.58</td>\n",
       "      <td>1.50</td>\n",
       "      <td>2.65</td>\n",
       "      <td>3.06</td>\n",
       "      <td>1.13</td>\n",
       "    </tr>\n",
       "    <tr>\n",
       "      <th>3</th>\n",
       "      <td>1993</td>\n",
       "      <td>1.73</td>\n",
       "      <td>1.57</td>\n",
       "      <td>3.41</td>\n",
       "      <td>3.07</td>\n",
       "      <td>3.68</td>\n",
       "      <td>4.16</td>\n",
       "      <td>1.56</td>\n",
       "      <td>2.88</td>\n",
       "      <td>2.84</td>\n",
       "      <td>1.11</td>\n",
       "    </tr>\n",
       "    <tr>\n",
       "      <th>4</th>\n",
       "      <td>1994</td>\n",
       "      <td>1.84</td>\n",
       "      <td>1.45</td>\n",
       "      <td>3.59</td>\n",
       "      <td>3.52</td>\n",
       "      <td>3.70</td>\n",
       "      <td>4.36</td>\n",
       "      <td>1.48</td>\n",
       "      <td>2.87</td>\n",
       "      <td>2.99</td>\n",
       "      <td>1.11</td>\n",
       "    </tr>\n",
       "  </tbody>\n",
       "</table>\n",
       "</div>"
      ],
      "text/plain": [
       "   Year  Australia  Canada  France  Germany  Italy  Japan  Mexico  \\\n",
       "0  1990        NaN    1.87    3.63     2.65   4.59   3.16    1.00   \n",
       "1  1991       1.96    1.92    3.45     2.90   4.50   3.46    1.30   \n",
       "2  1992       1.89    1.73    3.56     3.27   4.53   3.58    1.50   \n",
       "3  1993       1.73    1.57    3.41     3.07   3.68   4.16    1.56   \n",
       "4  1994       1.84    1.45    3.59     3.52   3.70   4.36    1.48   \n",
       "\n",
       "   South Korea    UK   USA  \n",
       "0         2.05  2.82  1.16  \n",
       "1         2.49  3.01  1.14  \n",
       "2         2.65  3.06  1.13  \n",
       "3         2.88  2.84  1.11  \n",
       "4         2.87  2.99  1.11  "
      ]
     },
     "execution_count": 2,
     "metadata": {},
     "output_type": "execute_result"
    }
   ],
   "source": [
    "import pandas as pd\n",
    "import matplotlib.pyplot as plt\n",
    "\n",
    "gas = pd.read_csv('gas_prices.csv')\n",
    "gas.head()"
   ]
  },
  {
   "cell_type": "code",
   "execution_count": 5,
   "id": "7c1919e7",
   "metadata": {},
   "outputs": [
    {
     "data": {
      "text/html": [
       "<div>\n",
       "<style scoped>\n",
       "    .dataframe tbody tr th:only-of-type {\n",
       "        vertical-align: middle;\n",
       "    }\n",
       "\n",
       "    .dataframe tbody tr th {\n",
       "        vertical-align: top;\n",
       "    }\n",
       "\n",
       "    .dataframe thead th {\n",
       "        text-align: right;\n",
       "    }\n",
       "</style>\n",
       "<table border=\"1\" class=\"dataframe\">\n",
       "  <thead>\n",
       "    <tr style=\"text-align: right;\">\n",
       "      <th></th>\n",
       "      <th>Year</th>\n",
       "      <th>Australia</th>\n",
       "      <th>Canada</th>\n",
       "      <th>France</th>\n",
       "      <th>Germany</th>\n",
       "      <th>Italy</th>\n",
       "      <th>Japan</th>\n",
       "      <th>Mexico</th>\n",
       "      <th>South Korea</th>\n",
       "      <th>UK</th>\n",
       "      <th>USA</th>\n",
       "    </tr>\n",
       "  </thead>\n",
       "  <tbody>\n",
       "    <tr>\n",
       "      <th>14</th>\n",
       "      <td>2004</td>\n",
       "      <td>2.72</td>\n",
       "      <td>2.37</td>\n",
       "      <td>4.99</td>\n",
       "      <td>5.24</td>\n",
       "      <td>5.29</td>\n",
       "      <td>3.93</td>\n",
       "      <td>2.03</td>\n",
       "      <td>4.51</td>\n",
       "      <td>5.56</td>\n",
       "      <td>1.88</td>\n",
       "    </tr>\n",
       "    <tr>\n",
       "      <th>15</th>\n",
       "      <td>2005</td>\n",
       "      <td>3.23</td>\n",
       "      <td>2.89</td>\n",
       "      <td>5.46</td>\n",
       "      <td>5.66</td>\n",
       "      <td>5.74</td>\n",
       "      <td>4.28</td>\n",
       "      <td>2.22</td>\n",
       "      <td>5.28</td>\n",
       "      <td>5.97</td>\n",
       "      <td>2.30</td>\n",
       "    </tr>\n",
       "    <tr>\n",
       "      <th>16</th>\n",
       "      <td>2006</td>\n",
       "      <td>3.54</td>\n",
       "      <td>3.26</td>\n",
       "      <td>5.88</td>\n",
       "      <td>6.03</td>\n",
       "      <td>6.10</td>\n",
       "      <td>4.47</td>\n",
       "      <td>2.31</td>\n",
       "      <td>5.92</td>\n",
       "      <td>6.36</td>\n",
       "      <td>2.59</td>\n",
       "    </tr>\n",
       "    <tr>\n",
       "      <th>17</th>\n",
       "      <td>2007</td>\n",
       "      <td>3.85</td>\n",
       "      <td>3.59</td>\n",
       "      <td>6.60</td>\n",
       "      <td>6.88</td>\n",
       "      <td>6.73</td>\n",
       "      <td>4.49</td>\n",
       "      <td>2.40</td>\n",
       "      <td>6.21</td>\n",
       "      <td>7.13</td>\n",
       "      <td>2.80</td>\n",
       "    </tr>\n",
       "    <tr>\n",
       "      <th>18</th>\n",
       "      <td>2008</td>\n",
       "      <td>4.45</td>\n",
       "      <td>4.08</td>\n",
       "      <td>7.51</td>\n",
       "      <td>7.75</td>\n",
       "      <td>7.63</td>\n",
       "      <td>5.74</td>\n",
       "      <td>2.45</td>\n",
       "      <td>5.83</td>\n",
       "      <td>7.42</td>\n",
       "      <td>3.27</td>\n",
       "    </tr>\n",
       "  </tbody>\n",
       "</table>\n",
       "</div>"
      ],
      "text/plain": [
       "    Year  Australia  Canada  France  Germany  Italy  Japan  Mexico  \\\n",
       "14  2004       2.72    2.37    4.99     5.24   5.29   3.93    2.03   \n",
       "15  2005       3.23    2.89    5.46     5.66   5.74   4.28    2.22   \n",
       "16  2006       3.54    3.26    5.88     6.03   6.10   4.47    2.31   \n",
       "17  2007       3.85    3.59    6.60     6.88   6.73   4.49    2.40   \n",
       "18  2008       4.45    4.08    7.51     7.75   7.63   5.74    2.45   \n",
       "\n",
       "    South Korea    UK   USA  \n",
       "14         4.51  5.56  1.88  \n",
       "15         5.28  5.97  2.30  \n",
       "16         5.92  6.36  2.59  \n",
       "17         6.21  7.13  2.80  \n",
       "18         5.83  7.42  3.27  "
      ]
     },
     "execution_count": 5,
     "metadata": {},
     "output_type": "execute_result"
    }
   ],
   "source": [
    "gas.tail()\n",
    "# type(gas)"
   ]
  },
  {
   "cell_type": "code",
   "execution_count": 3,
   "id": "519bbb00",
   "metadata": {},
   "outputs": [
    {
     "data": {
      "image/png": "[encoded data removed]",
      "text/plain": [
       "<Figure size 432x288 with 1 Axes>"
      ]
     },
     "metadata": {
      "needs_background": "light"
     },
     "output_type": "display_data"
    }
   ],
   "source": [
    "plt.plot(gas.Year, gas.USA)\n",
    "plt.show()"
   ]
  },
  {
   "cell_type": "code",
   "execution_count": 4,
   "id": "c5b88491",
   "metadata": {},
   "outputs": [
    {
     "data": {
      "image/png": "[encoded data removed]",
      "text/plain": [
       "<Figure size 432x288 with 1 Axes>"
      ]
     },
     "metadata": {
      "needs_background": "light"
     },
     "output_type": "display_data"
    }
   ],
   "source": [
    "plt.plot(gas.Year, gas.USA)\n",
    "plt.plot(gas.Year, gas.UK)\n",
    "\n",
    "plt.show()"
   ]
  },
  {
   "cell_type": "code",
   "execution_count": 5,
   "id": "17769756",
   "metadata": {},
   "outputs": [
    {
     "data": {
      "image/png": "[encoded data removed]",
      "text/plain": [
       "<Figure size 432x288 with 1 Axes>"
      ]
     },
     "metadata": {
      "needs_background": "light"
     },
     "output_type": "display_data"
    }
   ],
   "source": [
    "plt.plot(gas.Year, gas.USA, label = 'USA')\n",
    "plt.plot(gas.Year, gas.UK, label = 'UK')\n",
    "\n",
    "# Plotting X & Y-axis\n",
    "plt.xlabel('Years')\n",
    "plt.ylabel('Gas-prices/gallaon in USD')\n",
    "plt.title('Gas-price/gallon comparison between USA & UK')\n",
    "\n",
    "plt.legend()\n",
    "plt.show()"
   ]
  },
  {
   "cell_type": "code",
   "execution_count": 6,
   "id": "b0e4b840",
   "metadata": {},
   "outputs": [
    {
     "data": {
      "image/png": "[encoded data removed]",
      "text/plain": [
       "<Figure size 432x288 with 1 Axes>"
      ]
     },
     "metadata": {
      "needs_background": "light"
     },
     "output_type": "display_data"
    }
   ],
   "source": [
    "plt.plot(gas.Year, gas.Mexico, label = 'Mexico')\n",
    "plt.plot(gas.Year, gas.Italy, label = 'Italy')\n",
    "plt.plot(gas.Year, gas['South Korea'], label = 'South Korea')\n",
    "\n",
    "# Plotting X & Y-axis\n",
    "plt.xlabel('Years')\n",
    "plt.ylabel('Gas-prices/gallaon in USD')\n",
    "plt.title('Gas-price/gallon comparison between different countries')\n",
    "\n",
    "plt.legend()\n",
    "plt.show()"
   ]
  },
  {
   "cell_type": "code",
   "execution_count": 8,
   "id": "c85afb1f",
   "metadata": {},
   "outputs": [
    {
     "data": {
      "image/png": "[encoded data removed]",
      "text/plain": [
       "<Figure size 720x576 with 1 Axes>"
      ]
     },
     "metadata": {
      "needs_background": "light"
     },
     "output_type": "display_data"
    }
   ],
   "source": [
    "plt.figure(figsize = (10,8))\n",
    "\n",
    "plt.plot(gas.Year, gas.Mexico, label = 'Mexico')\n",
    "plt.plot(gas.Year, gas.Italy, label = 'Italy')\n",
    "plt.plot(gas.Year, gas['South Korea'], label = 'South Korea')\n",
    "\n",
    "# Plotting X & Y-axis\n",
    "plt.xlabel('Years')\n",
    "plt.ylabel('USD')\n",
    "plt.title('Gas-price comparison between different countries', fontdict={'fontsize':18})\n",
    "\n",
    "# Selecting intervals that we want to include on our axis\n",
    "# plt.xticks([1990,1994,1998,2002,2006,2009])\n",
    "# plt.xticks([x for x in range(1990,2009,2)])\n",
    "# plt.xticks(gas.Year[::3])\n",
    "plt.xticks([x for x in range(gas.Year[0], gas.Year[0]+len(gas.Year),2)])\n",
    "plt.yticks([i for i in range(1,9)])\n",
    "\n",
    "plt.savefig('Gas_price_comparison.png', dpi = 300)\n",
    "\n",
    "plt.legend()\n",
    "plt.show()"
   ]
  },
  {
   "cell_type": "code",
   "execution_count": null,
   "id": "bb5a1e08",
   "metadata": {},
   "outputs": [],
   "source": []
  },
  {
   "cell_type": "markdown",
   "id": "21f54d28",
   "metadata": {},
   "source": [
    "#### Loading fifa.csv dataset"
   ]
  },
  {
   "cell_type": "code",
   "execution_count": 10,
   "id": "5e3fe4ca",
   "metadata": {},
   "outputs": [
    {
     "data": {
      "text/html": [
       "<div>\n",
       "<style scoped>\n",
       "    .dataframe tbody tr th:only-of-type {\n",
       "        vertical-align: middle;\n",
       "    }\n",
       "\n",
       "    .dataframe tbody tr th {\n",
       "        vertical-align: top;\n",
       "    }\n",
       "\n",
       "    .dataframe thead th {\n",
       "        text-align: right;\n",
       "    }\n",
       "</style>\n",
       "<table border=\"1\" class=\"dataframe\">\n",
       "  <thead>\n",
       "    <tr style=\"text-align: right;\">\n",
       "      <th></th>\n",
       "      <th>Unnamed: 0</th>\n",
       "      <th>ID</th>\n",
       "      <th>Name</th>\n",
       "      <th>Age</th>\n",
       "      <th>Photo</th>\n",
       "      <th>Nationality</th>\n",
       "      <th>Flag</th>\n",
       "      <th>Overall</th>\n",
       "      <th>Potential</th>\n",
       "      <th>Club</th>\n",
       "      <th>...</th>\n",
       "      <th>Composure</th>\n",
       "      <th>Marking</th>\n",
       "      <th>StandingTackle</th>\n",
       "      <th>SlidingTackle</th>\n",
       "      <th>GKDiving</th>\n",
       "      <th>GKHandling</th>\n",
       "      <th>GKKicking</th>\n",
       "      <th>GKPositioning</th>\n",
       "      <th>GKReflexes</th>\n",
       "      <th>Release Clause</th>\n",
       "    </tr>\n",
       "  </thead>\n",
       "  <tbody>\n",
       "    <tr>\n",
       "      <th>0</th>\n",
       "      <td>0</td>\n",
       "      <td>158023</td>\n",
       "      <td>L. Messi</td>\n",
       "      <td>31</td>\n",
       "      <td>https://cdn.sofifa.org/players/4/19/158023.png</td>\n",
       "      <td>Argentina</td>\n",
       "      <td>https://cdn.sofifa.org/flags/52.png</td>\n",
       "      <td>94</td>\n",
       "      <td>94</td>\n",
       "      <td>FC Barcelona</td>\n",
       "      <td>...</td>\n",
       "      <td>96.0</td>\n",
       "      <td>33.0</td>\n",
       "      <td>28.0</td>\n",
       "      <td>26.0</td>\n",
       "      <td>6.0</td>\n",
       "      <td>11.0</td>\n",
       "      <td>15.0</td>\n",
       "      <td>14.0</td>\n",
       "      <td>8.0</td>\n",
       "      <td>€226.5M</td>\n",
       "    </tr>\n",
       "    <tr>\n",
       "      <th>1</th>\n",
       "      <td>1</td>\n",
       "      <td>20801</td>\n",
       "      <td>Cristiano Ronaldo</td>\n",
       "      <td>33</td>\n",
       "      <td>https://cdn.sofifa.org/players/4/19/20801.png</td>\n",
       "      <td>Portugal</td>\n",
       "      <td>https://cdn.sofifa.org/flags/38.png</td>\n",
       "      <td>94</td>\n",
       "      <td>94</td>\n",
       "      <td>Juventus</td>\n",
       "      <td>...</td>\n",
       "      <td>95.0</td>\n",
       "      <td>28.0</td>\n",
       "      <td>31.0</td>\n",
       "      <td>23.0</td>\n",
       "      <td>7.0</td>\n",
       "      <td>11.0</td>\n",
       "      <td>15.0</td>\n",
       "      <td>14.0</td>\n",
       "      <td>11.0</td>\n",
       "      <td>€127.1M</td>\n",
       "    </tr>\n",
       "    <tr>\n",
       "      <th>2</th>\n",
       "      <td>2</td>\n",
       "      <td>190871</td>\n",
       "      <td>Neymar Jr</td>\n",
       "      <td>26</td>\n",
       "      <td>https://cdn.sofifa.org/players/4/19/190871.png</td>\n",
       "      <td>Brazil</td>\n",
       "      <td>https://cdn.sofifa.org/flags/54.png</td>\n",
       "      <td>92</td>\n",
       "      <td>93</td>\n",
       "      <td>Paris Saint-Germain</td>\n",
       "      <td>...</td>\n",
       "      <td>94.0</td>\n",
       "      <td>27.0</td>\n",
       "      <td>24.0</td>\n",
       "      <td>33.0</td>\n",
       "      <td>9.0</td>\n",
       "      <td>9.0</td>\n",
       "      <td>15.0</td>\n",
       "      <td>15.0</td>\n",
       "      <td>11.0</td>\n",
       "      <td>€228.1M</td>\n",
       "    </tr>\n",
       "    <tr>\n",
       "      <th>3</th>\n",
       "      <td>3</td>\n",
       "      <td>193080</td>\n",
       "      <td>De Gea</td>\n",
       "      <td>27</td>\n",
       "      <td>https://cdn.sofifa.org/players/4/19/193080.png</td>\n",
       "      <td>Spain</td>\n",
       "      <td>https://cdn.sofifa.org/flags/45.png</td>\n",
       "      <td>91</td>\n",
       "      <td>93</td>\n",
       "      <td>Manchester United</td>\n",
       "      <td>...</td>\n",
       "      <td>68.0</td>\n",
       "      <td>15.0</td>\n",
       "      <td>21.0</td>\n",
       "      <td>13.0</td>\n",
       "      <td>90.0</td>\n",
       "      <td>85.0</td>\n",
       "      <td>87.0</td>\n",
       "      <td>88.0</td>\n",
       "      <td>94.0</td>\n",
       "      <td>€138.6M</td>\n",
       "    </tr>\n",
       "    <tr>\n",
       "      <th>4</th>\n",
       "      <td>4</td>\n",
       "      <td>192985</td>\n",
       "      <td>K. De Bruyne</td>\n",
       "      <td>27</td>\n",
       "      <td>https://cdn.sofifa.org/players/4/19/192985.png</td>\n",
       "      <td>Belgium</td>\n",
       "      <td>https://cdn.sofifa.org/flags/7.png</td>\n",
       "      <td>91</td>\n",
       "      <td>92</td>\n",
       "      <td>Manchester City</td>\n",
       "      <td>...</td>\n",
       "      <td>88.0</td>\n",
       "      <td>68.0</td>\n",
       "      <td>58.0</td>\n",
       "      <td>51.0</td>\n",
       "      <td>15.0</td>\n",
       "      <td>13.0</td>\n",
       "      <td>5.0</td>\n",
       "      <td>10.0</td>\n",
       "      <td>13.0</td>\n",
       "      <td>€196.4M</td>\n",
       "    </tr>\n",
       "  </tbody>\n",
       "</table>\n",
       "<p>5 rows × 89 columns</p>\n",
       "</div>"
      ],
      "text/plain": [
       "   Unnamed: 0      ID               Name  Age  \\\n",
       "0           0  158023           L. Messi   31   \n",
       "1           1   20801  Cristiano Ronaldo   33   \n",
       "2           2  190871          Neymar Jr   26   \n",
       "3           3  193080             De Gea   27   \n",
       "4           4  192985       K. De Bruyne   27   \n",
       "\n",
       "                                            Photo Nationality  \\\n",
       "0  https://cdn.sofifa.org/players/4/19/158023.png   Argentina   \n",
       "1   https://cdn.sofifa.org/players/4/19/20801.png    Portugal   \n",
       "2  https://cdn.sofifa.org/players/4/19/190871.png      Brazil   \n",
       "3  https://cdn.sofifa.org/players/4/19/193080.png       Spain   \n",
       "4  https://cdn.sofifa.org/players/4/19/192985.png     Belgium   \n",
       "\n",
       "                                  Flag  Overall  Potential  \\\n",
       "0  https://cdn.sofifa.org/flags/52.png       94         94   \n",
       "1  https://cdn.sofifa.org/flags/38.png       94         94   \n",
       "2  https://cdn.sofifa.org/flags/54.png       92         93   \n",
       "3  https://cdn.sofifa.org/flags/45.png       91         93   \n",
       "4   https://cdn.sofifa.org/flags/7.png       91         92   \n",
       "\n",
       "                  Club  ... Composure Marking StandingTackle  SlidingTackle  \\\n",
       "0         FC Barcelona  ...      96.0    33.0           28.0           26.0   \n",
       "1             Juventus  ...      95.0    28.0           31.0           23.0   \n",
       "2  Paris Saint-Germain  ...      94.0    27.0           24.0           33.0   \n",
       "3    Manchester United  ...      68.0    15.0           21.0           13.0   \n",
       "4      Manchester City  ...      88.0    68.0           58.0           51.0   \n",
       "\n",
       "  GKDiving  GKHandling  GKKicking  GKPositioning GKReflexes Release Clause  \n",
       "0      6.0        11.0       15.0           14.0        8.0        €226.5M  \n",
       "1      7.0        11.0       15.0           14.0       11.0        €127.1M  \n",
       "2      9.0         9.0       15.0           15.0       11.0        €228.1M  \n",
       "3     90.0        85.0       87.0           88.0       94.0        €138.6M  \n",
       "4     15.0        13.0        5.0           10.0       13.0        €196.4M  \n",
       "\n",
       "[5 rows x 89 columns]"
      ]
     },
     "execution_count": 10,
     "metadata": {},
     "output_type": "execute_result"
    }
   ],
   "source": [
    "fifa = pd.read_csv('fifa_data.csv')\n",
    "fifa.head()"
   ]
  },
  {
   "cell_type": "code",
   "execution_count": 11,
   "id": "8706e7e4",
   "metadata": {},
   "outputs": [
    {
     "name": "stdout",
     "output_type": "stream",
     "text": [
      "The no. of rows in this data are:  18207 \n",
      "The no. of coloumns in this data are: 89\n"
     ]
    }
   ],
   "source": [
    "rows = fifa.shape[0]\n",
    "coloumn = fifa.shape[1]\n",
    "print('The no. of rows in this data are: ', rows, '\\nThe no. of coloumns in this data are:', coloumn)"
   ]
  },
  {
   "cell_type": "markdown",
   "id": "00b43bfd",
   "metadata": {},
   "source": [
    "## Histogram\n",
    "To know more on how to plot histograms refer to [Link](https://matplotlib.org/stable/api/_as_gen/matplotlib.pyplot.hist.html#matplotlib.pyplot.hist)"
   ]
  },
  {
   "cell_type": "code",
   "execution_count": 10,
   "id": "70d042e9",
   "metadata": {},
   "outputs": [
    {
     "data": {
      "image/png": "[encoded data removed]",
      "text/plain": [
       "<Figure size 432x288 with 1 Axes>"
      ]
     },
     "metadata": {
      "needs_background": "light"
     },
     "output_type": "display_data"
    }
   ],
   "source": [
    "# Plotting a histogram\n",
    "plt.hist(fifa.Overall)\n",
    "\n",
    "# Selecting intervals that we want to include on our axis\n",
    "plt.xticks([x for x in range(10,100,10)])\n",
    "plt.yticks([x for x in range(1000,5500,1000)])\n",
    "\n",
    "# Plotting X & Y-axis\n",
    "plt.xlabel('Overall score')\n",
    "plt.ylabel('No. of players')\n",
    "\n",
    "plt.show()"
   ]
  },
  {
   "cell_type": "code",
   "execution_count": 11,
   "id": "7e004929",
   "metadata": {},
   "outputs": [
    {
     "data": {
      "image/png": "[encoded data removed]",
      "text/plain": [
       "<Figure size 576x432 with 1 Axes>"
      ]
     },
     "metadata": {
      "needs_background": "light"
     },
     "output_type": "display_data"
    }
   ],
   "source": [
    "plt.figure(figsize = (8,6))\n",
    "\n",
    "# Plotting a histogram\n",
    "plt.hist(fifa.Overall)\n",
    "\n",
    "# Selecting intervals that we want to include on our axis\n",
    "plt.xticks([x for x in range(40,100,10)])\n",
    "plt.yticks([x for x in range(1000,5500,1000)])\n",
    "\n",
    "# Plotting X & Y-axis\n",
    "plt.xlabel('Overall score')\n",
    "plt.ylabel('No. of players')\n",
    "\n",
    "plt.show()"
   ]
  },
  {
   "cell_type": "code",
   "execution_count": 12,
   "id": "1346a8fb",
   "metadata": {},
   "outputs": [
    {
     "data": {
      "image/png": "[encoded data removed]",
      "text/plain": [
       "<Figure size 504x432 with 1 Axes>"
      ]
     },
     "metadata": {
      "needs_background": "light"
     },
     "output_type": "display_data"
    }
   ],
   "source": [
    "# bins = [10,20,30,40,50,60,70,80,90,100]\n",
    "bins = [40,50,60,70,80,90,100]\n",
    "\n",
    "plt.figure(figsize=(7,6))\n",
    "\n",
    "# Plotting a histogram\n",
    "plt.hist(fifa.Overall, bins = bins, color = '#abcd')\n",
    "\n",
    "plt.xticks(bins)\n",
    "\n",
    "# Plotting X & Y-axis\n",
    "plt.xlabel('Overall score')\n",
    "plt.ylabel('No. of players')\n",
    "\n",
    "plt.title('Distribution of player-skills in FIFA 2018')\n",
    "plt.show()"
   ]
  },
  {
   "cell_type": "markdown",
   "id": "e88cbcd7",
   "metadata": {},
   "source": [
    "## Pie-charts\n",
    "We will compare weights of all players in our data and plot a pie chart based on which category they fall in.\n",
    "To know more on how to plot pie-charts refer to [Link](https://matplotlib.org/stable/api/_as_gen/matplotlib.pyplot.pie.html#matplotlib.pyplot.pie)"
   ]
  },
  {
   "cell_type": "code",
   "execution_count": 13,
   "id": "8202355c",
   "metadata": {},
   "outputs": [
    {
     "data": {
      "text/html": [
       "<div>\n",
       "<style scoped>\n",
       "    .dataframe tbody tr th:only-of-type {\n",
       "        vertical-align: middle;\n",
       "    }\n",
       "\n",
       "    .dataframe tbody tr th {\n",
       "        vertical-align: top;\n",
       "    }\n",
       "\n",
       "    .dataframe thead th {\n",
       "        text-align: right;\n",
       "    }\n",
       "</style>\n",
       "<table border=\"1\" class=\"dataframe\">\n",
       "  <thead>\n",
       "    <tr style=\"text-align: right;\">\n",
       "      <th></th>\n",
       "      <th>Unnamed: 0</th>\n",
       "      <th>ID</th>\n",
       "      <th>Name</th>\n",
       "      <th>Age</th>\n",
       "      <th>Photo</th>\n",
       "      <th>Nationality</th>\n",
       "      <th>Flag</th>\n",
       "      <th>Overall</th>\n",
       "      <th>Potential</th>\n",
       "      <th>Club</th>\n",
       "      <th>...</th>\n",
       "      <th>Composure</th>\n",
       "      <th>Marking</th>\n",
       "      <th>StandingTackle</th>\n",
       "      <th>SlidingTackle</th>\n",
       "      <th>GKDiving</th>\n",
       "      <th>GKHandling</th>\n",
       "      <th>GKKicking</th>\n",
       "      <th>GKPositioning</th>\n",
       "      <th>GKReflexes</th>\n",
       "      <th>Release Clause</th>\n",
       "    </tr>\n",
       "  </thead>\n",
       "  <tbody>\n",
       "    <tr>\n",
       "      <th>0</th>\n",
       "      <td>0</td>\n",
       "      <td>158023</td>\n",
       "      <td>L. Messi</td>\n",
       "      <td>31</td>\n",
       "      <td>https://cdn.sofifa.org/players/4/19/158023.png</td>\n",
       "      <td>Argentina</td>\n",
       "      <td>https://cdn.sofifa.org/flags/52.png</td>\n",
       "      <td>94</td>\n",
       "      <td>94</td>\n",
       "      <td>FC Barcelona</td>\n",
       "      <td>...</td>\n",
       "      <td>96.0</td>\n",
       "      <td>33.0</td>\n",
       "      <td>28.0</td>\n",
       "      <td>26.0</td>\n",
       "      <td>6.0</td>\n",
       "      <td>11.0</td>\n",
       "      <td>15.0</td>\n",
       "      <td>14.0</td>\n",
       "      <td>8.0</td>\n",
       "      <td>€226.5M</td>\n",
       "    </tr>\n",
       "    <tr>\n",
       "      <th>1</th>\n",
       "      <td>1</td>\n",
       "      <td>20801</td>\n",
       "      <td>Cristiano Ronaldo</td>\n",
       "      <td>33</td>\n",
       "      <td>https://cdn.sofifa.org/players/4/19/20801.png</td>\n",
       "      <td>Portugal</td>\n",
       "      <td>https://cdn.sofifa.org/flags/38.png</td>\n",
       "      <td>94</td>\n",
       "      <td>94</td>\n",
       "      <td>Juventus</td>\n",
       "      <td>...</td>\n",
       "      <td>95.0</td>\n",
       "      <td>28.0</td>\n",
       "      <td>31.0</td>\n",
       "      <td>23.0</td>\n",
       "      <td>7.0</td>\n",
       "      <td>11.0</td>\n",
       "      <td>15.0</td>\n",
       "      <td>14.0</td>\n",
       "      <td>11.0</td>\n",
       "      <td>€127.1M</td>\n",
       "    </tr>\n",
       "    <tr>\n",
       "      <th>2</th>\n",
       "      <td>2</td>\n",
       "      <td>190871</td>\n",
       "      <td>Neymar Jr</td>\n",
       "      <td>26</td>\n",
       "      <td>https://cdn.sofifa.org/players/4/19/190871.png</td>\n",
       "      <td>Brazil</td>\n",
       "      <td>https://cdn.sofifa.org/flags/54.png</td>\n",
       "      <td>92</td>\n",
       "      <td>93</td>\n",
       "      <td>Paris Saint-Germain</td>\n",
       "      <td>...</td>\n",
       "      <td>94.0</td>\n",
       "      <td>27.0</td>\n",
       "      <td>24.0</td>\n",
       "      <td>33.0</td>\n",
       "      <td>9.0</td>\n",
       "      <td>9.0</td>\n",
       "      <td>15.0</td>\n",
       "      <td>15.0</td>\n",
       "      <td>11.0</td>\n",
       "      <td>€228.1M</td>\n",
       "    </tr>\n",
       "    <tr>\n",
       "      <th>3</th>\n",
       "      <td>3</td>\n",
       "      <td>193080</td>\n",
       "      <td>De Gea</td>\n",
       "      <td>27</td>\n",
       "      <td>https://cdn.sofifa.org/players/4/19/193080.png</td>\n",
       "      <td>Spain</td>\n",
       "      <td>https://cdn.sofifa.org/flags/45.png</td>\n",
       "      <td>91</td>\n",
       "      <td>93</td>\n",
       "      <td>Manchester United</td>\n",
       "      <td>...</td>\n",
       "      <td>68.0</td>\n",
       "      <td>15.0</td>\n",
       "      <td>21.0</td>\n",
       "      <td>13.0</td>\n",
       "      <td>90.0</td>\n",
       "      <td>85.0</td>\n",
       "      <td>87.0</td>\n",
       "      <td>88.0</td>\n",
       "      <td>94.0</td>\n",
       "      <td>€138.6M</td>\n",
       "    </tr>\n",
       "    <tr>\n",
       "      <th>4</th>\n",
       "      <td>4</td>\n",
       "      <td>192985</td>\n",
       "      <td>K. De Bruyne</td>\n",
       "      <td>27</td>\n",
       "      <td>https://cdn.sofifa.org/players/4/19/192985.png</td>\n",
       "      <td>Belgium</td>\n",
       "      <td>https://cdn.sofifa.org/flags/7.png</td>\n",
       "      <td>91</td>\n",
       "      <td>92</td>\n",
       "      <td>Manchester City</td>\n",
       "      <td>...</td>\n",
       "      <td>88.0</td>\n",
       "      <td>68.0</td>\n",
       "      <td>58.0</td>\n",
       "      <td>51.0</td>\n",
       "      <td>15.0</td>\n",
       "      <td>13.0</td>\n",
       "      <td>5.0</td>\n",
       "      <td>10.0</td>\n",
       "      <td>13.0</td>\n",
       "      <td>€196.4M</td>\n",
       "    </tr>\n",
       "    <tr>\n",
       "      <th>...</th>\n",
       "      <td>...</td>\n",
       "      <td>...</td>\n",
       "      <td>...</td>\n",
       "      <td>...</td>\n",
       "      <td>...</td>\n",
       "      <td>...</td>\n",
       "      <td>...</td>\n",
       "      <td>...</td>\n",
       "      <td>...</td>\n",
       "      <td>...</td>\n",
       "      <td>...</td>\n",
       "      <td>...</td>\n",
       "      <td>...</td>\n",
       "      <td>...</td>\n",
       "      <td>...</td>\n",
       "      <td>...</td>\n",
       "      <td>...</td>\n",
       "      <td>...</td>\n",
       "      <td>...</td>\n",
       "      <td>...</td>\n",
       "      <td>...</td>\n",
       "    </tr>\n",
       "    <tr>\n",
       "      <th>18202</th>\n",
       "      <td>18202</td>\n",
       "      <td>238813</td>\n",
       "      <td>J. Lundstram</td>\n",
       "      <td>19</td>\n",
       "      <td>https://cdn.sofifa.org/players/4/19/238813.png</td>\n",
       "      <td>England</td>\n",
       "      <td>https://cdn.sofifa.org/flags/14.png</td>\n",
       "      <td>47</td>\n",
       "      <td>65</td>\n",
       "      <td>Crewe Alexandra</td>\n",
       "      <td>...</td>\n",
       "      <td>45.0</td>\n",
       "      <td>40.0</td>\n",
       "      <td>48.0</td>\n",
       "      <td>47.0</td>\n",
       "      <td>10.0</td>\n",
       "      <td>13.0</td>\n",
       "      <td>7.0</td>\n",
       "      <td>8.0</td>\n",
       "      <td>9.0</td>\n",
       "      <td>€143K</td>\n",
       "    </tr>\n",
       "    <tr>\n",
       "      <th>18203</th>\n",
       "      <td>18203</td>\n",
       "      <td>243165</td>\n",
       "      <td>N. Christoffersson</td>\n",
       "      <td>19</td>\n",
       "      <td>https://cdn.sofifa.org/players/4/19/243165.png</td>\n",
       "      <td>Sweden</td>\n",
       "      <td>https://cdn.sofifa.org/flags/46.png</td>\n",
       "      <td>47</td>\n",
       "      <td>63</td>\n",
       "      <td>Trelleborgs FF</td>\n",
       "      <td>...</td>\n",
       "      <td>42.0</td>\n",
       "      <td>22.0</td>\n",
       "      <td>15.0</td>\n",
       "      <td>19.0</td>\n",
       "      <td>10.0</td>\n",
       "      <td>9.0</td>\n",
       "      <td>9.0</td>\n",
       "      <td>5.0</td>\n",
       "      <td>12.0</td>\n",
       "      <td>€113K</td>\n",
       "    </tr>\n",
       "    <tr>\n",
       "      <th>18204</th>\n",
       "      <td>18204</td>\n",
       "      <td>241638</td>\n",
       "      <td>B. Worman</td>\n",
       "      <td>16</td>\n",
       "      <td>https://cdn.sofifa.org/players/4/19/241638.png</td>\n",
       "      <td>England</td>\n",
       "      <td>https://cdn.sofifa.org/flags/14.png</td>\n",
       "      <td>47</td>\n",
       "      <td>67</td>\n",
       "      <td>Cambridge United</td>\n",
       "      <td>...</td>\n",
       "      <td>41.0</td>\n",
       "      <td>32.0</td>\n",
       "      <td>13.0</td>\n",
       "      <td>11.0</td>\n",
       "      <td>6.0</td>\n",
       "      <td>5.0</td>\n",
       "      <td>10.0</td>\n",
       "      <td>6.0</td>\n",
       "      <td>13.0</td>\n",
       "      <td>€165K</td>\n",
       "    </tr>\n",
       "    <tr>\n",
       "      <th>18205</th>\n",
       "      <td>18205</td>\n",
       "      <td>246268</td>\n",
       "      <td>D. Walker-Rice</td>\n",
       "      <td>17</td>\n",
       "      <td>https://cdn.sofifa.org/players/4/19/246268.png</td>\n",
       "      <td>England</td>\n",
       "      <td>https://cdn.sofifa.org/flags/14.png</td>\n",
       "      <td>47</td>\n",
       "      <td>66</td>\n",
       "      <td>Tranmere Rovers</td>\n",
       "      <td>...</td>\n",
       "      <td>46.0</td>\n",
       "      <td>20.0</td>\n",
       "      <td>25.0</td>\n",
       "      <td>27.0</td>\n",
       "      <td>14.0</td>\n",
       "      <td>6.0</td>\n",
       "      <td>14.0</td>\n",
       "      <td>8.0</td>\n",
       "      <td>9.0</td>\n",
       "      <td>€143K</td>\n",
       "    </tr>\n",
       "    <tr>\n",
       "      <th>18206</th>\n",
       "      <td>18206</td>\n",
       "      <td>246269</td>\n",
       "      <td>G. Nugent</td>\n",
       "      <td>16</td>\n",
       "      <td>https://cdn.sofifa.org/players/4/19/246269.png</td>\n",
       "      <td>England</td>\n",
       "      <td>https://cdn.sofifa.org/flags/14.png</td>\n",
       "      <td>46</td>\n",
       "      <td>66</td>\n",
       "      <td>Tranmere Rovers</td>\n",
       "      <td>...</td>\n",
       "      <td>43.0</td>\n",
       "      <td>40.0</td>\n",
       "      <td>43.0</td>\n",
       "      <td>50.0</td>\n",
       "      <td>10.0</td>\n",
       "      <td>15.0</td>\n",
       "      <td>9.0</td>\n",
       "      <td>12.0</td>\n",
       "      <td>9.0</td>\n",
       "      <td>€165K</td>\n",
       "    </tr>\n",
       "  </tbody>\n",
       "</table>\n",
       "<p>18207 rows × 89 columns</p>\n",
       "</div>"
      ],
      "text/plain": [
       "       Unnamed: 0      ID                Name  Age  \\\n",
       "0               0  158023            L. Messi   31   \n",
       "1               1   20801   Cristiano Ronaldo   33   \n",
       "2               2  190871           Neymar Jr   26   \n",
       "3               3  193080              De Gea   27   \n",
       "4               4  192985        K. De Bruyne   27   \n",
       "...           ...     ...                 ...  ...   \n",
       "18202       18202  238813        J. Lundstram   19   \n",
       "18203       18203  243165  N. Christoffersson   19   \n",
       "18204       18204  241638           B. Worman   16   \n",
       "18205       18205  246268      D. Walker-Rice   17   \n",
       "18206       18206  246269           G. Nugent   16   \n",
       "\n",
       "                                                Photo Nationality  \\\n",
       "0      https://cdn.sofifa.org/players/4/19/158023.png   Argentina   \n",
       "1       https://cdn.sofifa.org/players/4/19/20801.png    Portugal   \n",
       "2      https://cdn.sofifa.org/players/4/19/190871.png      Brazil   \n",
       "3      https://cdn.sofifa.org/players/4/19/193080.png       Spain   \n",
       "4      https://cdn.sofifa.org/players/4/19/192985.png     Belgium   \n",
       "...                                               ...         ...   \n",
       "18202  https://cdn.sofifa.org/players/4/19/238813.png     England   \n",
       "18203  https://cdn.sofifa.org/players/4/19/243165.png      Sweden   \n",
       "18204  https://cdn.sofifa.org/players/4/19/241638.png     England   \n",
       "18205  https://cdn.sofifa.org/players/4/19/246268.png     England   \n",
       "18206  https://cdn.sofifa.org/players/4/19/246269.png     England   \n",
       "\n",
       "                                      Flag  Overall  Potential  \\\n",
       "0      https://cdn.sofifa.org/flags/52.png       94         94   \n",
       "1      https://cdn.sofifa.org/flags/38.png       94         94   \n",
       "2      https://cdn.sofifa.org/flags/54.png       92         93   \n",
       "3      https://cdn.sofifa.org/flags/45.png       91         93   \n",
       "4       https://cdn.sofifa.org/flags/7.png       91         92   \n",
       "...                                    ...      ...        ...   \n",
       "18202  https://cdn.sofifa.org/flags/14.png       47         65   \n",
       "18203  https://cdn.sofifa.org/flags/46.png       47         63   \n",
       "18204  https://cdn.sofifa.org/flags/14.png       47         67   \n",
       "18205  https://cdn.sofifa.org/flags/14.png       47         66   \n",
       "18206  https://cdn.sofifa.org/flags/14.png       46         66   \n",
       "\n",
       "                      Club  ... Composure Marking StandingTackle  \\\n",
       "0             FC Barcelona  ...      96.0    33.0           28.0   \n",
       "1                 Juventus  ...      95.0    28.0           31.0   \n",
       "2      Paris Saint-Germain  ...      94.0    27.0           24.0   \n",
       "3        Manchester United  ...      68.0    15.0           21.0   \n",
       "4          Manchester City  ...      88.0    68.0           58.0   \n",
       "...                    ...  ...       ...     ...            ...   \n",
       "18202      Crewe Alexandra  ...      45.0    40.0           48.0   \n",
       "18203       Trelleborgs FF  ...      42.0    22.0           15.0   \n",
       "18204     Cambridge United  ...      41.0    32.0           13.0   \n",
       "18205      Tranmere Rovers  ...      46.0    20.0           25.0   \n",
       "18206      Tranmere Rovers  ...      43.0    40.0           43.0   \n",
       "\n",
       "       SlidingTackle GKDiving  GKHandling  GKKicking  GKPositioning  \\\n",
       "0               26.0      6.0        11.0       15.0           14.0   \n",
       "1               23.0      7.0        11.0       15.0           14.0   \n",
       "2               33.0      9.0         9.0       15.0           15.0   \n",
       "3               13.0     90.0        85.0       87.0           88.0   \n",
       "4               51.0     15.0        13.0        5.0           10.0   \n",
       "...              ...      ...         ...        ...            ...   \n",
       "18202           47.0     10.0        13.0        7.0            8.0   \n",
       "18203           19.0     10.0         9.0        9.0            5.0   \n",
       "18204           11.0      6.0         5.0       10.0            6.0   \n",
       "18205           27.0     14.0         6.0       14.0            8.0   \n",
       "18206           50.0     10.0        15.0        9.0           12.0   \n",
       "\n",
       "      GKReflexes Release Clause  \n",
       "0            8.0        €226.5M  \n",
       "1           11.0        €127.1M  \n",
       "2           11.0        €228.1M  \n",
       "3           94.0        €138.6M  \n",
       "4           13.0        €196.4M  \n",
       "...          ...            ...  \n",
       "18202        9.0          €143K  \n",
       "18203       12.0          €113K  \n",
       "18204       13.0          €165K  \n",
       "18205        9.0          €143K  \n",
       "18206        9.0          €165K  \n",
       "\n",
       "[18207 rows x 89 columns]"
      ]
     },
     "execution_count": 13,
     "metadata": {},
     "output_type": "execute_result"
    }
   ],
   "source": [
    "fifa"
   ]
  },
  {
   "cell_type": "code",
   "execution_count": 14,
   "id": "f255cad6",
   "metadata": {},
   "outputs": [
    {
     "data": {
      "image/png": "[encoded data removed]",
      "text/plain": [
       "<Figure size 432x288 with 1 Axes>"
      ]
     },
     "metadata": {},
     "output_type": "display_data"
    }
   ],
   "source": [
    "left = fifa.loc[fifa['Preferred Foot'] == 'Left'].count()[0]\n",
    "right = fifa.loc[fifa['Preferred Foot'] == 'Right'].count()[0]\n",
    "\n",
    "# plt.pie(fifa['Preferred Foot'])\n",
    "plt.pie([left, right])\n",
    "plt.show()"
   ]
  },
  {
   "cell_type": "code",
   "execution_count": 15,
   "id": "bc8fd4cf",
   "metadata": {},
   "outputs": [
    {
     "data": {
      "image/png": "[encoded data removed]",
      "text/plain": [
       "<Figure size 432x288 with 1 Axes>"
      ]
     },
     "metadata": {},
     "output_type": "display_data"
    }
   ],
   "source": [
    "# Adding labels to the pie-chart\n",
    "labels = ['Left', 'Right']\n",
    "\n",
    "# Adding different colors as per our choice\n",
    "# colors = ['red', 'green']\n",
    "colors = ['#aabbcc', '#abcdef']\n",
    "\n",
    "# Adding a title to pie-chart\n",
    "plt.title('Foot preference of Fifa players')\n",
    "\n",
    "# Plotting a pie-chart\n",
    "plt.pie([left, right], labels= labels, colors=colors, autopct='%.2f %%')\n",
    "plt.show()"
   ]
  },
  {
   "cell_type": "code",
   "execution_count": 16,
   "id": "19076b83",
   "metadata": {},
   "outputs": [
    {
     "data": {
      "text/plain": [
       "0    159lbs\n",
       "1    183lbs\n",
       "2    150lbs\n",
       "3    168lbs\n",
       "4    154lbs\n",
       "Name: Weight, dtype: object"
      ]
     },
     "execution_count": 16,
     "metadata": {},
     "output_type": "execute_result"
    }
   ],
   "source": [
    "fifa['Weight'].head()"
   ]
  },
  {
   "cell_type": "code",
   "execution_count": 13,
   "id": "9e942db1",
   "metadata": {},
   "outputs": [
    {
     "data": {
      "text/plain": [
       "0        159lbs\n",
       "1        183lbs\n",
       "2        150lbs\n",
       "3        168lbs\n",
       "4        154lbs\n",
       "          ...  \n",
       "18202    134lbs\n",
       "18203    170lbs\n",
       "18204    148lbs\n",
       "18205    154lbs\n",
       "18206    176lbs\n",
       "Name: Weight, Length: 18207, dtype: object"
      ]
     },
     "execution_count": 13,
     "metadata": {},
     "output_type": "execute_result"
    }
   ],
   "source": [
    "fifa['Weight']"
   ]
  },
  {
   "cell_type": "code",
   "execution_count": 14,
   "id": "598bdfa3",
   "metadata": {},
   "outputs": [],
   "source": [
    "fifa.Weight = [int(x.strip('lbs')) if type(x) == str else x for x in fifa.Weight]"
   ]
  },
  {
   "cell_type": "code",
   "execution_count": 15,
   "id": "0bdc9b40",
   "metadata": {},
   "outputs": [
    {
     "data": {
      "text/plain": [
       "0    159.0\n",
       "1    183.0\n",
       "2    150.0\n",
       "3    168.0\n",
       "4    154.0\n",
       "Name: Weight, dtype: float64"
      ]
     },
     "execution_count": 15,
     "metadata": {},
     "output_type": "execute_result"
    }
   ],
   "source": [
    "# Printing first 5 values\n",
    "fifa.Weight.head()"
   ]
  },
  {
   "cell_type": "code",
   "execution_count": 16,
   "id": "caf0fbc9",
   "metadata": {},
   "outputs": [
    {
     "data": {
      "image/png": "[encoded data removed]",
      "text/plain": [
       "<Figure size 504x432 with 1 Axes>"
      ]
     },
     "metadata": {},
     "output_type": "display_data"
    }
   ],
   "source": [
    "plt.figure(figsize=(7,6))\n",
    "\n",
    "plt.style.use('ggplot')\n",
    "\n",
    "light = fifa.loc[fifa['Weight'] < 125].count()[0]\n",
    "light_medium = fifa.loc[(fifa['Weight'] >= 125) & (fifa.Weight < 150)].count()[0]\n",
    "medium = fifa.loc[(fifa['Weight'] >= 150) & (fifa.Weight < 175)].count()[0]\n",
    "medium_heavy = fifa.loc[(fifa['Weight'] >= 175) & (fifa.Weight < 200)].count()[0]\n",
    "heavy = fifa.loc[fifa['Weight'] >= 200].count()[0]\n",
    "\n",
    "weights = [light, light_medium, medium, medium_heavy, heavy]\n",
    "labels = ['Under 125', '125-150', '150-175', '175-200', 'Over 200']\n",
    "\n",
    "explode = (0.15,0.15,0.15,0.15,0.15)\n",
    "# explode = (0.5, 0, 0, 0, 0.4)\n",
    "\n",
    "# Adding a title to pie-chart\n",
    "plt.title('Weight distribution of Fifa players in lbs')\n",
    "\n",
    "plt.pie(weights, labels = labels, autopct = '%.2f %%', pctdistance = 0.8, explode = explode)\n",
    "plt.show()"
   ]
  },
  {
   "cell_type": "code",
   "execution_count": 21,
   "id": "2ecfac5e",
   "metadata": {},
   "outputs": [
    {
     "data": {
      "text/plain": [
       "914"
      ]
     },
     "execution_count": 21,
     "metadata": {},
     "output_type": "execute_result"
    }
   ],
   "source": [
    "fifa.loc[fifa['Nationality'] == 'France'].count()[0]"
   ]
  },
  {
   "cell_type": "code",
   "execution_count": 17,
   "id": "37c92099",
   "metadata": {},
   "outputs": [
    {
     "data": {
      "text/plain": [
       "41"
      ]
     },
     "execution_count": 17,
     "metadata": {},
     "output_type": "execute_result"
    }
   ],
   "source": [
    "light"
   ]
  },
  {
   "cell_type": "code",
   "execution_count": null,
   "id": "09532d16",
   "metadata": {},
   "outputs": [],
   "source": []
  },
  {
   "cell_type": "markdown",
   "id": "db4600d4",
   "metadata": {},
   "source": [
    "## Box-whiskers\n",
    "In this, we will try to compare the overall performance of all players of a specific club with each other.<br>\n",
    "To know more on how to plot box-whiskers refer to [Link](https://matplotlib.org/stable/api/_as_gen/matplotlib.pyplot.boxplot.html#matplotlib.pyplot.boxplot)"
   ]
  },
  {
   "cell_type": "code",
   "execution_count": 23,
   "id": "a8c2a0d6",
   "metadata": {},
   "outputs": [
    {
     "data": {
      "image/png": "[encoded data removed]",
      "text/plain": [
       "<Figure size 600x900 with 1 Axes>"
      ]
     },
     "metadata": {},
     "output_type": "display_data"
    }
   ],
   "source": [
    "plt.style.use('default')\n",
    "\n",
    "plt.figure(figsize=(6,9))\n",
    "\n",
    "barcelona = fifa.loc[fifa.Club == 'FC Barcelona']['Overall']\n",
    "m_united = fifa.loc[fifa.Club == 'Manchester United']['Overall']\n",
    "madrid = fifa.loc[fifa.Club == 'Real Madrid']['Overall']\n",
    "chelsea = fifa.loc[fifa.Club == 'Chelsea']['Overall']\n",
    "\n",
    "teams = [barcelona, m_united, madrid, chelsea]\n",
    "\n",
    "labels = ['FC Barcelona', 'Manchester United', 'Real Madrid', 'Chelsea']\n",
    "\n",
    "plt.boxplot(teams, labels = labels)\n",
    "\n",
    "plt.title('Professional soccer team comparison')\n",
    "plt.ylabel('FIFA overall rating')\n",
    "\n",
    "plt.show()"
   ]
  },
  {
   "cell_type": "code",
   "execution_count": null,
   "id": "a0eca588",
   "metadata": {},
   "outputs": [],
   "source": []
  }
 ],
 "metadata": {
  "kernelspec": {
   "display_name": "Python 3",
   "language": "python",
   "name": "python3"
  },
  "language_info": {
   "codemirror_mode": {
    "name": "ipython",
    "version": 3
   },
   "file_extension": ".py",
   "mimetype": "text/x-python",
   "name": "python",
   "nbconvert_exporter": "python",
   "pygments_lexer": "ipython3",
   "version": "3.8.8"
  }
 },
 "nbformat": 4,
 "nbformat_minor": 5
}
