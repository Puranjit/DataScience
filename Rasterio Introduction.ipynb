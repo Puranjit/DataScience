{
 "cells": [
  {
   "cell_type": "markdown",
   "id": "34d83a69",
   "metadata": {},
   "source": [
    "# Rasterio Introduction\n",
    "Documentation for this library could be accesses using this [Link]()"
   ]
  },
  {
   "cell_type": "code",
   "execution_count": null,
   "id": "81d0052c",
   "metadata": {},
   "outputs": [],
   "source": [
    "import rasterio\n",
    "rasterio.__version__\n",
    "import matplotlib.pyplot as plt"
   ]
  },
  {
   "cell_type": "markdown",
   "id": "5b6009b2",
   "metadata": {},
   "source": [
    "### Reading a raster data"
   ]
  },
  {
   "cell_type": "code",
   "execution_count": null,
   "id": "d5417be1",
   "metadata": {},
   "outputs": [],
   "source": [
    "img1 = rasterio.open('Demo1.tif')\n",
    "img1"
   ]
  },
  {
   "cell_type": "code",
   "execution_count": null,
   "id": "47503621",
   "metadata": {},
   "outputs": [],
   "source": [
    "# Read the tif file as numpy array\n",
    "img_data1 = img1.read()"
   ]
  },
  {
   "cell_type": "code",
   "execution_count": null,
   "id": "51cf64aa",
   "metadata": {},
   "outputs": [],
   "source": [
    "img_data1"
   ]
  },
  {
   "cell_type": "code",
   "execution_count": null,
   "id": "45b6501c",
   "metadata": {},
   "outputs": [],
   "source": [
    "img_data1.shape"
   ]
  },
  {
   "cell_type": "markdown",
   "id": "c6efcf65",
   "metadata": {},
   "source": [
    "### Reading metadata of the raster"
   ]
  },
  {
   "cell_type": "code",
   "execution_count": null,
   "id": "029059da",
   "metadata": {},
   "outputs": [],
   "source": [
    "# Getting the number of bands in the image\n",
    "print('No. of bands in the image is: ', img1.count)"
   ]
  },
  {
   "cell_type": "code",
   "execution_count": null,
   "id": "b1fa18ab",
   "metadata": {},
   "outputs": [],
   "source": [
    "print('Width of image is: ', img1.width)"
   ]
  },
  {
   "cell_type": "code",
   "execution_count": null,
   "id": "8385de7b",
   "metadata": {},
   "outputs": [],
   "source": [
    "print('Height of image is: ', img1.height)"
   ]
  },
  {
   "cell_type": "code",
   "execution_count": null,
   "id": "3f6fa19c",
   "metadata": {},
   "outputs": [],
   "source": [
    "img_data1.dtype"
   ]
  },
  {
   "cell_type": "code",
   "execution_count": null,
   "id": "ff6bd3a5",
   "metadata": {},
   "outputs": [],
   "source": [
    "print('Minimum value in the img_data1 is: ', img_data1.min())"
   ]
  },
  {
   "cell_type": "code",
   "execution_count": null,
   "id": "706100de",
   "metadata": {
    "scrolled": true
   },
   "outputs": [],
   "source": [
    "print('Maximum value in the img_data1 is: ', img_data1.max())"
   ]
  },
  {
   "cell_type": "code",
   "execution_count": null,
   "id": "b7f5cd04",
   "metadata": {},
   "outputs": [],
   "source": [
    "# reading whole meta data \n",
    "img1.meta"
   ]
  },
  {
   "cell_type": "markdown",
   "id": "72290f59",
   "metadata": {},
   "source": [
    "### Visualization of raster data"
   ]
  },
  {
   "cell_type": "code",
   "execution_count": null,
   "id": "f6699c2a",
   "metadata": {},
   "outputs": [],
   "source": [
    "from rasterio.plot import show, show_hist\n",
    "\n",
    "show(img1)"
   ]
  },
  {
   "cell_type": "code",
   "execution_count": null,
   "id": "63543b73",
   "metadata": {},
   "outputs": [],
   "source": [
    "plt.figure(figsize = (10,8))\n",
    "show_hist(img1, bins = 10000)"
   ]
  },
  {
   "cell_type": "markdown",
   "id": "e508490c",
   "metadata": {},
   "source": [
    "### Writing raster data \n",
    "process to create a new .tif file"
   ]
  },
  {
   "cell_type": "code",
   "execution_count": null,
   "id": "3ea73cba",
   "metadata": {},
   "outputs": [],
   "source": [
    "with rasterio.open(r'output/O_1.tif', 'w',\n",
    "                  driver = img1.driver,\n",
    "                  height = img1.width,\n",
    "                  width = img1.height,\n",
    "                  count = img1.count,\n",
    "                  crs = img1.crs,\n",
    "                  transform = img1.transform, \n",
    "                  dtype = img_data1.dtype) as dst:\n",
    "    dst.write(img_data1)"
   ]
  },
  {
   "cell_type": "code",
   "execution_count": null,
   "id": "2a5473dc",
   "metadata": {},
   "outputs": [],
   "source": [
    "with rasterio.open(r'output/Output1.tif', 'w',\n",
    "                  driver = img1.driver,\n",
    "                  height = 452,\n",
    "                  width = 89,\n",
    "                  count = img1.count,\n",
    "                  crs = img1.crs,\n",
    "                  transform = img1.transform, \n",
    "                  dtype = img_data1.dtype) as dst:\n",
    "    dst.write(img_data1)"
   ]
  },
  {
   "cell_type": "markdown",
   "id": "94f3bfcd",
   "metadata": {},
   "source": [
    "### Reading a new .tif file\n",
    "The image read is a RGB image"
   ]
  },
  {
   "cell_type": "code",
   "execution_count": null,
   "id": "66bbb6ff",
   "metadata": {},
   "outputs": [],
   "source": [
    "img2 = rasterio.open('June8.tif')\n",
    "img2"
   ]
  },
  {
   "cell_type": "code",
   "execution_count": null,
   "id": "5bf14ec7",
   "metadata": {},
   "outputs": [],
   "source": [
    "img_data2 = img2.read()\n",
    "img_data2.shape"
   ]
  },
  {
   "cell_type": "code",
   "execution_count": null,
   "id": "48b058e5",
   "metadata": {},
   "outputs": [],
   "source": [
    "# Getting the number of bands in the image\n",
    "print('No. of bands in the image is: ', img2.count)"
   ]
  },
  {
   "cell_type": "code",
   "execution_count": null,
   "id": "64ca50b6",
   "metadata": {},
   "outputs": [],
   "source": [
    "print('Width of image is: ', img2.width)"
   ]
  },
  {
   "cell_type": "code",
   "execution_count": null,
   "id": "281362eb",
   "metadata": {},
   "outputs": [],
   "source": [
    "print('Height of image is: ', img2.height)"
   ]
  },
  {
   "cell_type": "code",
   "execution_count": null,
   "id": "696cbad5",
   "metadata": {},
   "outputs": [],
   "source": [
    "print('Minimum value in the data2 is: ', img_data2.min())"
   ]
  },
  {
   "cell_type": "code",
   "execution_count": null,
   "id": "67e3a507",
   "metadata": {},
   "outputs": [],
   "source": [
    "print('Maximum value in the data2 is: ', img_data2.max())"
   ]
  },
  {
   "cell_type": "code",
   "execution_count": null,
   "id": "d165402b",
   "metadata": {},
   "outputs": [],
   "source": [
    "show(img2)"
   ]
  },
  {
   "cell_type": "code",
   "execution_count": null,
   "id": "888eb9d0",
   "metadata": {},
   "outputs": [],
   "source": [
    "# Reading different bands in an image separetely\n",
    "img2a = img2.read(1)\n",
    "img2b = img2.read(2)\n",
    "img2c = img2.read(3)"
   ]
  },
  {
   "cell_type": "code",
   "execution_count": null,
   "id": "7a2f977e",
   "metadata": {},
   "outputs": [],
   "source": [
    "# results is a 3d array\n",
    "img_data2.shape"
   ]
  },
  {
   "cell_type": "code",
   "execution_count": null,
   "id": "3e66c977",
   "metadata": {},
   "outputs": [],
   "source": [
    "# result is a 2d array\n",
    "img2a.shape"
   ]
  },
  {
   "cell_type": "code",
   "execution_count": null,
   "id": "2207e8fa",
   "metadata": {},
   "outputs": [],
   "source": [
    "# Reading three different bands in sub-plots\n",
    "fig = plt.figure(figsize=(10,8))\n",
    "ax1 = fig.add_subplot(2,2,1)\n",
    "ax1.imshow(img2a)\n",
    "ax2 = fig.add_subplot(2,2,2)\n",
    "ax2.imshow(img2b)\n",
    "ax3 = fig.add_subplot(2,2,3)\n",
    "ax3.imshow(img2c)\n",
    "plt.show()"
   ]
  },
  {
   "cell_type": "markdown",
   "id": "9437b4de",
   "metadata": {},
   "source": [
    "## NDVI - Normalized difference vegetation index\n",
    "<b>NDVI is a common measure in remote sensing for agriculture — capturing how much more near infrared light is reflected compared to visible red. It helps differentiate bare soil from grass or forest, detect plants under stress, and differentiate between crops and crop stages.</b><br>\n",
    "<br><b>Formula </b>= (NIR-R) / (NIR+R)"
   ]
  },
  {
   "cell_type": "code",
   "execution_count": null,
   "id": "44ef71f8",
   "metadata": {},
   "outputs": [],
   "source": [
    "# Check datatype of 'img2a'\n",
    "img2a.dtype"
   ]
  },
  {
   "cell_type": "markdown",
   "id": "ac7917eb",
   "metadata": {},
   "source": [
    "We will convert the existing 'uint8' datatype into 'floating' datatype that will help us to tackle the round off errors in the calculation"
   ]
  },
  {
   "cell_type": "code",
   "execution_count": null,
   "id": "834b69f0",
   "metadata": {},
   "outputs": [],
   "source": [
    "# Converting the datatype\n",
    "NIR = img2a.astype('f8')\n",
    "R = img2b.astype('f8')"
   ]
  },
  {
   "cell_type": "code",
   "execution_count": null,
   "id": "496834cc",
   "metadata": {
    "scrolled": true
   },
   "outputs": [],
   "source": [
    "NIR.dtype"
   ]
  },
  {
   "cell_type": "code",
   "execution_count": null,
   "id": "53cafc50",
   "metadata": {},
   "outputs": [],
   "source": [
    "# Calculating NDVI\n",
    "# NDVI = NIR - R /(NIR + R)\n",
    "NDVI = (NIR - R) / (NIR + R)"
   ]
  },
  {
   "cell_type": "code",
   "execution_count": null,
   "id": "afa721b3",
   "metadata": {},
   "outputs": [],
   "source": [
    "NDVI.shape"
   ]
  },
  {
   "cell_type": "code",
   "execution_count": null,
   "id": "2eaa999a",
   "metadata": {},
   "outputs": [],
   "source": [
    "plt.imshow(NDVI)"
   ]
  },
  {
   "cell_type": "markdown",
   "id": "d7659b78",
   "metadata": {},
   "source": [
    "## GNDVI - Green normalized difference vegetation index \n",
    "GNDVI index uses visible green instead of visible red and near infrared. Useful for measuring rates of photosynthesis and monitoring the plant stress.<br>\n",
    "<b>Formula </b>= (NIR - G) / (NIR + G)\n",
    "\n",
    "## NDRE - Normalized difference red edge index \n",
    "The normalized difference red edge index (NDRE) is a metric that can be used to analyse whether images obtained from multi-spectral image sensors contain healthy vegetation or not.<br>\n",
    "<b>Formula </b> = (NIR - RedEdge) / (NIR + RedEdge)"
   ]
  },
  {
   "cell_type": "code",
   "execution_count": null,
   "id": "14818ebf",
   "metadata": {},
   "outputs": [],
   "source": []
  },
  {
   "cell_type": "code",
   "execution_count": null,
   "id": "63e4238d",
   "metadata": {},
   "outputs": [],
   "source": []
  },
  {
   "cell_type": "code",
   "execution_count": null,
   "id": "4530c366",
   "metadata": {},
   "outputs": [],
   "source": []
  },
  {
   "cell_type": "code",
   "execution_count": 28,
   "id": "442b4e18",
   "metadata": {},
   "outputs": [],
   "source": [
    "import rasterio\n",
    "from rasterio import mask\n",
    "import fiona\n",
    "import numpy as np\n",
    "import matplotlib.pyplot as plt"
   ]
  },
  {
   "cell_type": "code",
   "execution_count": 61,
   "id": "9fa9f988",
   "metadata": {},
   "outputs": [
    {
     "data": {
      "text/plain": [
       "{'driver': 'GTiff',\n",
       " 'dtype': 'float32',\n",
       " 'nodata': -10000.0,\n",
       " 'width': 4533,\n",
       " 'height': 7753,\n",
       " 'count': 1,\n",
       " 'crs': CRS.from_epsg(32614),\n",
       " 'transform': Affine(0.020450000000000003, 0.0, 572896.61659,\n",
       "        0.0, -0.020450000000000003, 4492579.35096)}"
      ]
     },
     "execution_count": 61,
     "metadata": {},
     "output_type": "execute_result"
    }
   ],
   "source": [
    "red = rasterio.open('UAV_images/0604_red.tif')\n",
    "red.meta"
   ]
  },
  {
   "cell_type": "code",
   "execution_count": 49,
   "id": "9bb03c01",
   "metadata": {},
   "outputs": [
    {
     "data": {
      "text/plain": [
       "(7753, 4533)"
      ]
     },
     "execution_count": 49,
     "metadata": {},
     "output_type": "execute_result"
    }
   ],
   "source": [
    "red = red.read(1)\n",
    "red.shape"
   ]
  },
  {
   "cell_type": "code",
   "execution_count": 50,
   "id": "74db2307",
   "metadata": {},
   "outputs": [
    {
     "data": {
      "text/plain": [
       "<matplotlib.image.AxesImage at 0x2ca119096a0>"
      ]
     },
     "execution_count": 50,
     "metadata": {},
     "output_type": "execute_result"
    }
   ],
   "source": [
    "plt.imshow(red, cmap = 'gray')"
   ]
  },
  {
   "cell_type": "code",
   "execution_count": null,
   "id": "582e967b",
   "metadata": {},
   "outputs": [],
   "source": [
    "red = np.reshape(red, (red.shape[1], red.shape[2]))"
   ]
  },
  {
   "cell_type": "code",
   "execution_count": 39,
   "id": "30a63ce2",
   "metadata": {},
   "outputs": [
    {
     "data": {
      "text/plain": [
       "array([[-10000., -10000., -10000., ..., -10000., -10000., -10000.],\n",
       "       [-10000., -10000., -10000., ..., -10000., -10000., -10000.],\n",
       "       [-10000., -10000., -10000., ..., -10000., -10000., -10000.],\n",
       "       ...,\n",
       "       [-10000., -10000., -10000., ..., -10000., -10000., -10000.],\n",
       "       [-10000., -10000., -10000., ..., -10000., -10000., -10000.],\n",
       "       [-10000., -10000., -10000., ..., -10000., -10000., -10000.]],\n",
       "      dtype=float32)"
      ]
     },
     "execution_count": 39,
     "metadata": {},
     "output_type": "execute_result"
    }
   ],
   "source": [
    "red"
   ]
  },
  {
   "cell_type": "code",
   "execution_count": null,
   "id": "2fba278c",
   "metadata": {},
   "outputs": [],
   "source": []
  },
  {
   "cell_type": "code",
   "execution_count": 52,
   "id": "ae47f1ef",
   "metadata": {},
   "outputs": [
    {
     "data": {
      "text/plain": [
       "0.0"
      ]
     },
     "execution_count": 52,
     "metadata": {},
     "output_type": "execute_result"
    }
   ],
   "source": [
    "red.min()"
   ]
  },
  {
   "cell_type": "code",
   "execution_count": 45,
   "id": "9752a04f",
   "metadata": {},
   "outputs": [
    {
     "data": {
      "text/plain": [
       "0.33227277"
      ]
     },
     "execution_count": 45,
     "metadata": {},
     "output_type": "execute_result"
    }
   ],
   "source": [
    "red.max()"
   ]
  },
  {
   "cell_type": "code",
   "execution_count": 51,
   "id": "8dfa4c2e",
   "metadata": {},
   "outputs": [
    {
     "data": {
      "text/plain": [
       "array([[0., 0., 0., ..., 0., 0., 0.],\n",
       "       [0., 0., 0., ..., 0., 0., 0.],\n",
       "       [0., 0., 0., ..., 0., 0., 0.],\n",
       "       ...,\n",
       "       [0., 0., 0., ..., 0., 0., 0.],\n",
       "       [0., 0., 0., ..., 0., 0., 0.],\n",
       "       [0., 0., 0., ..., 0., 0., 0.]], dtype=float32)"
      ]
     },
     "execution_count": 51,
     "metadata": {},
     "output_type": "execute_result"
    }
   ],
   "source": [
    "red = np.where(red>0, red, 0)\n",
    "red"
   ]
  },
  {
   "cell_type": "code",
   "execution_count": 7,
   "id": "b36c361b",
   "metadata": {},
   "outputs": [
    {
     "data": {
      "text/plain": [
       "(7753, 4533)"
      ]
     },
     "execution_count": 7,
     "metadata": {},
     "output_type": "execute_result"
    }
   ],
   "source": [
    "red = rasterio.open('UAV_images/0604_red.tif')\n",
    "out_meta = red.meta\n",
    "red = red.read(1)\n",
    "red.shape"
   ]
  },
  {
   "cell_type": "code",
   "execution_count": 46,
   "id": "d9226e66",
   "metadata": {},
   "outputs": [],
   "source": [
    "plt.figure(figsize=(10,10))\n",
    "plt.imshow(red, cmap = 'gray')\n",
    "plt.show()"
   ]
  },
  {
   "cell_type": "code",
   "execution_count": 9,
   "id": "0357306f",
   "metadata": {},
   "outputs": [
    {
     "data": {
      "text/plain": [
       "array([[-10000., -10000., -10000., ..., -10000., -10000., -10000.],\n",
       "       [-10000., -10000., -10000., ..., -10000., -10000., -10000.],\n",
       "       [-10000., -10000., -10000., ..., -10000., -10000., -10000.],\n",
       "       ...,\n",
       "       [-10000., -10000., -10000., ..., -10000., -10000., -10000.],\n",
       "       [-10000., -10000., -10000., ..., -10000., -10000., -10000.],\n",
       "       [-10000., -10000., -10000., ..., -10000., -10000., -10000.]],\n",
       "      dtype=float32)"
      ]
     },
     "execution_count": 9,
     "metadata": {},
     "output_type": "execute_result"
    }
   ],
   "source": [
    "red"
   ]
  },
  {
   "cell_type": "markdown",
   "id": "f3fbf4e3",
   "metadata": {},
   "source": [
    "<b>We want to view the image for the file we are opening using rasterio library, \n",
    "The problem being faced by us is that it has high negative values at the corners which prouces a BW image and does not produce a grayscale image of the field</b>"
   ]
  },
  {
   "cell_type": "code",
   "execution_count": 10,
   "id": "d7732bfd",
   "metadata": {},
   "outputs": [
    {
     "data": {
      "text/plain": [
       "-10000.0"
      ]
     },
     "execution_count": 10,
     "metadata": {},
     "output_type": "execute_result"
    }
   ],
   "source": [
    "red.min()"
   ]
  },
  {
   "cell_type": "code",
   "execution_count": 11,
   "id": "146747d6",
   "metadata": {},
   "outputs": [
    {
     "data": {
      "text/plain": [
       "0.33227277"
      ]
     },
     "execution_count": 11,
     "metadata": {},
     "output_type": "execute_result"
    }
   ],
   "source": [
    "red.max()"
   ]
  },
  {
   "cell_type": "code",
   "execution_count": 12,
   "id": "dbc06832",
   "metadata": {},
   "outputs": [
    {
     "data": {
      "text/plain": [
       "array([[0., 0., 0., ..., 0., 0., 0.],\n",
       "       [0., 0., 0., ..., 0., 0., 0.],\n",
       "       [0., 0., 0., ..., 0., 0., 0.],\n",
       "       ...,\n",
       "       [0., 0., 0., ..., 0., 0., 0.],\n",
       "       [0., 0., 0., ..., 0., 0., 0.],\n",
       "       [0., 0., 0., ..., 0., 0., 0.]], dtype=float32)"
      ]
     },
     "execution_count": 12,
     "metadata": {},
     "output_type": "execute_result"
    }
   ],
   "source": [
    "# We will change the values of (-10000) wherever it is present in the image - We do this using numpy library\n",
    "\n",
    "# np.where((locations where we do not want to see the change), (name of the array), (value to be assigned as replacement))\n",
    "red = np.where(red > 0, red, 0)\n",
    "red"
   ]
  },
  {
   "cell_type": "code",
   "execution_count": 13,
   "id": "d67997d6",
   "metadata": {},
   "outputs": [
    {
     "data": {
      "text/plain": [
       "0.0"
      ]
     },
     "execution_count": 13,
     "metadata": {},
     "output_type": "execute_result"
    }
   ],
   "source": [
    "red.min()"
   ]
  },
  {
   "cell_type": "code",
   "execution_count": 14,
   "id": "9b05288e",
   "metadata": {},
   "outputs": [
    {
     "data": {
      "text/plain": [
       "0.33227277"
      ]
     },
     "execution_count": 14,
     "metadata": {},
     "output_type": "execute_result"
    }
   ],
   "source": [
    "red.max()"
   ]
  },
  {
   "cell_type": "code",
   "execution_count": 54,
   "id": "0a1b403e",
   "metadata": {},
   "outputs": [],
   "source": [
    "nir = rasterio.open('UAV_images/0604_nir.tif')\n",
    "nir = nir.read(1)\n",
    "\n",
    "nir = np.where(nir > 0, nir, 0)"
   ]
  },
  {
   "cell_type": "code",
   "execution_count": 55,
   "id": "ec92d0c7",
   "metadata": {},
   "outputs": [
    {
     "data": {
      "text/plain": [
       "array([[0., 0., 0., ..., 0., 0., 0.],\n",
       "       [0., 0., 0., ..., 0., 0., 0.],\n",
       "       [0., 0., 0., ..., 0., 0., 0.],\n",
       "       ...,\n",
       "       [0., 0., 0., ..., 0., 0., 0.],\n",
       "       [0., 0., 0., ..., 0., 0., 0.],\n",
       "       [0., 0., 0., ..., 0., 0., 0.]], dtype=float32)"
      ]
     },
     "execution_count": 55,
     "metadata": {},
     "output_type": "execute_result"
    }
   ],
   "source": [
    "nir"
   ]
  },
  {
   "cell_type": "code",
   "execution_count": 56,
   "id": "773cd369",
   "metadata": {},
   "outputs": [
    {
     "name": "stderr",
     "output_type": "stream",
     "text": [
      "C:\\Users\\psingh24\\AppData\\Local\\Temp\\ipykernel_26652\\1342287713.py:1: RuntimeWarning: invalid value encountered in true_divide\n",
      "  ndvi = (nir-red)/(nir+red)\n"
     ]
    }
   ],
   "source": [
    "ndvi = (nir-red)/(nir+red)"
   ]
  },
  {
   "cell_type": "code",
   "execution_count": 58,
   "id": "f28a7765",
   "metadata": {},
   "outputs": [],
   "source": [
    "%matplotlib qt\n",
    "plt.figure(figsize=(10,10))\n",
    "plt.imshow(ndvi, cmap = 'gray')\n",
    "plt.show()"
   ]
  },
  {
   "cell_type": "code",
   "execution_count": 59,
   "id": "bd72cf47",
   "metadata": {},
   "outputs": [
    {
     "data": {
      "text/plain": [
       "(7753, 4533)"
      ]
     },
     "execution_count": 59,
     "metadata": {},
     "output_type": "execute_result"
    }
   ],
   "source": [
    "ndvi.shape"
   ]
  },
  {
   "cell_type": "code",
   "execution_count": 19,
   "id": "2814bc37",
   "metadata": {},
   "outputs": [
    {
     "data": {
      "text/plain": [
       "{'driver': 'GTiff',\n",
       " 'dtype': 'float32',\n",
       " 'nodata': -10000.0,\n",
       " 'width': 4533,\n",
       " 'height': 7753,\n",
       " 'count': 1,\n",
       " 'crs': CRS.from_epsg(32614),\n",
       " 'transform': Affine(0.020450000000000003, 0.0, 572896.61659,\n",
       "        0.0, -0.020450000000000003, 4492579.35096)}"
      ]
     },
     "execution_count": 19,
     "metadata": {},
     "output_type": "execute_result"
    }
   ],
   "source": [
    "out_meta"
   ]
  },
  {
   "cell_type": "code",
   "execution_count": 60,
   "id": "4e033b92",
   "metadata": {},
   "outputs": [
    {
     "data": {
      "text/plain": [
       "(1, 7753, 4533)"
      ]
     },
     "execution_count": 60,
     "metadata": {},
     "output_type": "execute_result"
    }
   ],
   "source": [
    "ndvi = np.reshape(ndvi, (1, ndvi.shape[0], ndvi.shape[1]))\n",
    "ndvi.shape"
   ]
  },
  {
   "cell_type": "code",
   "execution_count": 76,
   "id": "8c736ad7",
   "metadata": {},
   "outputs": [],
   "source": [
    "with rasterio.open('OutputClass/ndvi0604.tif', 'w', **out_meta) as dest:\n",
    "    dest.write(ndvi)"
   ]
  },
  {
   "cell_type": "markdown",
   "id": "5d39d08f",
   "metadata": {},
   "source": [
    "### You need to make these changes in each image before calculation of the respective VI's\n",
    "i.e. before performing calculations like -<b> ndvi = (nir-red)/(nir+red)</b>"
   ]
  },
  {
   "cell_type": "code",
   "execution_count": 63,
   "id": "8ce13101",
   "metadata": {},
   "outputs": [
    {
     "data": {
      "text/plain": [
       "<open Collection 'Shapefile/Treatment.shp:Treatment', mode 'r' at 0x2ca0f78e460>"
      ]
     },
     "execution_count": 63,
     "metadata": {},
     "output_type": "execute_result"
    }
   ],
   "source": [
    "shapefile = fiona.open('Shapefile/Treatment.shp', 'r')\n",
    "shapefile"
   ]
  },
  {
   "cell_type": "code",
   "execution_count": 65,
   "id": "671ad979",
   "metadata": {},
   "outputs": [
    {
     "name": "stdout",
     "output_type": "stream",
     "text": [
      "{'type': 'Feature', 'id': '0', 'properties': OrderedDict([('Id', 0), ('plotID', 101)]), 'geometry': {'type': 'Polygon', 'coordinates': [[(572909.0741400151, 4492451.823517375), (572913.770503574, 4492451.889663344), (572913.9106734619, 4492441.937601374), (572909.214309901, 4492441.871455407), (572909.0741400151, 4492451.823517375)]]}}\n"
     ]
    }
   ],
   "source": [
    "# Features are being read in the shapefile\n",
    "for features in shapefile:\n",
    "    print(features)\n",
    "    break"
   ]
  },
  {
   "cell_type": "code",
   "execution_count": 66,
   "id": "de336773",
   "metadata": {},
   "outputs": [
    {
     "data": {
      "text/plain": [
       "{'type': 'Feature',\n",
       " 'id': '0',\n",
       " 'properties': OrderedDict([('Id', 0), ('plotID', 101)]),\n",
       " 'geometry': {'type': 'Polygon',\n",
       "  'coordinates': [[(572909.0741400151, 4492451.823517375),\n",
       "    (572913.770503574, 4492451.889663344),\n",
       "    (572913.9106734619, 4492441.937601374),\n",
       "    (572909.214309901, 4492441.871455407),\n",
       "    (572909.0741400151, 4492451.823517375)]]}}"
      ]
     },
     "execution_count": 66,
     "metadata": {},
     "output_type": "execute_result"
    }
   ],
   "source": [
    "for features in shapefile:\n",
    "    x = features\n",
    "    break\n",
    "x"
   ]
  },
  {
   "cell_type": "code",
   "execution_count": 67,
   "id": "96072113",
   "metadata": {},
   "outputs": [
    {
     "data": {
      "text/plain": [
       "OrderedDict([('Id', 0), ('plotID', 101)])"
      ]
     },
     "execution_count": 67,
     "metadata": {},
     "output_type": "execute_result"
    }
   ],
   "source": [
    "x['properties']"
   ]
  },
  {
   "cell_type": "code",
   "execution_count": 68,
   "id": "fd90a4d3",
   "metadata": {},
   "outputs": [
    {
     "data": {
      "text/plain": [
       "{'type': 'Polygon',\n",
       " 'coordinates': [[(572909.0741400151, 4492451.823517375),\n",
       "   (572913.770503574, 4492451.889663344),\n",
       "   (572913.9106734619, 4492441.937601374),\n",
       "   (572909.214309901, 4492441.871455407),\n",
       "   (572909.0741400151, 4492451.823517375)]]}"
      ]
     },
     "execution_count": 68,
     "metadata": {},
     "output_type": "execute_result"
    }
   ],
   "source": [
    "x['geometry']"
   ]
  },
  {
   "cell_type": "markdown",
   "id": "a1453593",
   "metadata": {},
   "source": [
    "You can read about `List comprehension` topic using [Link](https://www.w3schools.com/python/python_lists_comprehension.asp)"
   ]
  },
  {
   "cell_type": "markdown",
   "id": "c7ad054f",
   "metadata": {},
   "source": [
    "Refer to [Link](https://rasterio.readthedocs.io/en/latest/topics/masking-by-shapefile.html) to know on how to make a raster using a shapefile"
   ]
  },
  {
   "cell_type": "code",
   "execution_count": 69,
   "id": "12eb42a6",
   "metadata": {},
   "outputs": [
    {
     "data": {
      "text/plain": [
       "[{'type': 'Feature',\n",
       "  'id': '0',\n",
       "  'properties': OrderedDict([('Id', 0), ('plotID', 101)]),\n",
       "  'geometry': {'type': 'Polygon',\n",
       "   'coordinates': [[(572909.0741400151, 4492451.823517375),\n",
       "     (572913.770503574, 4492451.889663344),\n",
       "     (572913.9106734619, 4492441.937601374),\n",
       "     (572909.214309901, 4492441.871455407),\n",
       "     (572909.0741400151, 4492451.823517375)]]}},\n",
       " {'type': 'Feature',\n",
       "  'id': '1',\n",
       "  'properties': OrderedDict([('Id', 0), ('plotID', 104)]),\n",
       "  'geometry': {'type': 'Polygon',\n",
       "   'coordinates': [[(572933.5806536706, 4492452.072106438),\n",
       "     (572938.2770172296, 4492452.138252407),\n",
       "     (572938.4171871174, 4492442.1861904375),\n",
       "     (572933.7208235565, 4492442.12004447),\n",
       "     (572933.5806536706, 4492452.072106438)]]}},\n",
       " {'type': 'Feature',\n",
       "  'id': '2',\n",
       "  'properties': OrderedDict([('Id', 0), ('plotID', 107)]),\n",
       "  'geometry': {'type': 'Polygon',\n",
       "   'coordinates': [[(572957.9185226327, 4492452.417986359),\n",
       "     (572962.6148861917, 4492452.484132329),\n",
       "     (572962.7550560795, 4492442.532070359),\n",
       "     (572958.0586925186, 4492442.4659243915),\n",
       "     (572957.9185226327, 4492452.417986359)]]}},\n",
       " {'type': 'Feature',\n",
       "  'id': '3',\n",
       "  'properties': OrderedDict([('Id', 0), ('plotID', 102)]),\n",
       "  'geometry': {'type': 'Polygon',\n",
       "   'coordinates': [[(572909.0259165554, 4492463.992391602),\n",
       "     (572913.7222801144, 4492464.058537572),\n",
       "     (572913.8624500022, 4492454.106475602),\n",
       "     (572909.1660864414, 4492454.040329634),\n",
       "     (572909.0259165554, 4492463.992391602)]]}},\n",
       " {'type': 'Feature',\n",
       "  'id': '4',\n",
       "  'properties': OrderedDict([('Id', 0), ('plotID', 105)]),\n",
       "  'geometry': {'type': 'Polygon',\n",
       "   'coordinates': [[(572933.3295239009, 4492464.240228356),\n",
       "     (572938.0258874599, 4492464.306374325),\n",
       "     (572938.1660573477, 4492454.354312356),\n",
       "     (572933.4696937868, 4492454.288166388),\n",
       "     (572933.3295239009, 4492464.240228356)]]}},\n",
       " {'type': 'Feature',\n",
       "  'id': '5',\n",
       "  'properties': OrderedDict([('Id', 0), ('plotID', 108)]),\n",
       "  'geometry': {'type': 'Polygon',\n",
       "   'coordinates': [[(572957.6813961676, 4492464.481142726),\n",
       "     (572962.3777597266, 4492464.547288695),\n",
       "     (572962.5179296144, 4492454.595226726),\n",
       "     (572957.8215660535, 4492454.529080758),\n",
       "     (572957.6813961676, 4492464.481142726)]]}},\n",
       " {'type': 'Feature',\n",
       "  'id': '6',\n",
       "  'properties': OrderedDict([('Id', 0), ('plotID', 103)]),\n",
       "  'geometry': {'type': 'Polygon',\n",
       "   'coordinates': [[(572908.9319869417, 4492476.89220966),\n",
       "     (572913.6283505007, 4492476.95835563),\n",
       "     (572913.7685203885, 4492467.00629366),\n",
       "     (572909.0721568277, 4492466.940147692),\n",
       "     (572908.9319869417, 4492476.89220966)]]}},\n",
       " {'type': 'Feature',\n",
       "  'id': '7',\n",
       "  'properties': OrderedDict([('Id', 0), ('plotID', 106)]),\n",
       "  'geometry': {'type': 'Polygon',\n",
       "   'coordinates': [[(572933.2320401133, 4492476.741653971),\n",
       "     (572937.9284036723, 4492476.807799941),\n",
       "     (572938.0685735601, 4492466.855737971),\n",
       "     (572933.3722099992, 4492466.789592003),\n",
       "     (572933.2320401133, 4492476.741653971)]]}},\n",
       " {'type': 'Feature',\n",
       "  'id': '8',\n",
       "  'properties': OrderedDict([('Id', 0), ('plotID', 109)]),\n",
       "  'geometry': {'type': 'Polygon',\n",
       "   'coordinates': [[(572957.5949221728, 4492476.578934897),\n",
       "     (572962.2912857318, 4492476.645080866),\n",
       "     (572962.4314556196, 4492466.6930188965),\n",
       "     (572957.7350920588, 4492466.626872929),\n",
       "     (572957.5949221728, 4492476.578934897)]]}},\n",
       " {'type': 'Feature',\n",
       "  'id': '9',\n",
       "  'properties': OrderedDict([('Id', 0), ('plotID', 207)]),\n",
       "  'geometry': {'type': 'Polygon',\n",
       "   'coordinates': [[(572957.4560047196, 4492501.226344507),\n",
       "     (572962.1523682786, 4492501.292490477),\n",
       "     (572962.2925381664, 4492491.340428507),\n",
       "     (572957.5961746055, 4492491.274282539),\n",
       "     (572957.4560047196, 4492501.226344507)]]}},\n",
       " {'type': 'Feature',\n",
       "  'id': '10',\n",
       "  'properties': OrderedDict([('Id', 0), ('plotID', 209)]),\n",
       "  'geometry': {'type': 'Polygon',\n",
       "   'coordinates': [[(572957.1357390761, 4492525.48326098),\n",
       "     (572961.8321026351, 4492525.549406949),\n",
       "     (572961.9722725229, 4492515.59734498),\n",
       "     (572957.275908962, 4492515.531199012),\n",
       "     (572957.1357390761, 4492525.48326098)]]}},\n",
       " {'type': 'Feature',\n",
       "  'id': '11',\n",
       "  'properties': OrderedDict([('Id', 0), ('plotID', 205)]),\n",
       "  'geometry': {'type': 'Polygon',\n",
       "   'coordinates': [[(572932.8544657723, 4492513.049304249),\n",
       "     (572937.5508293313, 4492513.115450218),\n",
       "     (572937.6909992191, 4492503.1633882485),\n",
       "     (572932.9946356582, 4492503.097242281),\n",
       "     (572932.8544657723, 4492513.049304249)]]}},\n",
       " {'type': 'Feature',\n",
       "  'id': '12',\n",
       "  'properties': OrderedDict([('Id', 0), ('plotID', 202)]),\n",
       "  'geometry': {'type': 'Polygon',\n",
       "   'coordinates': [[(572908.5357512663, 4492512.987208729),\n",
       "     (572913.2321148253, 4492513.053354698),\n",
       "     (572913.3722847131, 4492503.101292728),\n",
       "     (572908.6759211522, 4492503.035146761),\n",
       "     (572908.5357512663, 4492512.987208729)]]}},\n",
       " {'type': 'Feature',\n",
       "  'id': '13',\n",
       "  'properties': OrderedDict([('Id', 0), ('plotID', 208)]),\n",
       "  'geometry': {'type': 'Polygon',\n",
       "   'coordinates': [[(572957.111914594, 4492513.206904979),\n",
       "     (572961.808278153, 4492513.273050949),\n",
       "     (572961.9484480408, 4492503.320988979),\n",
       "     (572957.2520844799, 4492503.2548430115),\n",
       "     (572957.111914594, 4492513.206904979)]]}},\n",
       " {'type': 'Feature',\n",
       "  'id': '14',\n",
       "  'properties': OrderedDict([('Id', 0), ('plotID', 203)]),\n",
       "  'geometry': {'type': 'Polygon',\n",
       "   'coordinates': [[(572908.3967457641, 4492525.684344715),\n",
       "     (572913.0931093231, 4492525.750490685),\n",
       "     (572913.2332792109, 4492515.798428715),\n",
       "     (572908.53691565, 4492515.7322827475),\n",
       "     (572908.3967457641, 4492525.684344715)]]}},\n",
       " {'type': 'Feature',\n",
       "  'id': '15',\n",
       "  'properties': OrderedDict([('Id', 0), ('plotID', 204)]),\n",
       "  'geometry': {'type': 'Polygon',\n",
       "   'coordinates': [[(572933.0630873573, 4492500.84995152),\n",
       "     (572937.7594509163, 4492500.916097489),\n",
       "     (572937.8996208041, 4492490.964035519),\n",
       "     (572933.2032572433, 4492490.897889552),\n",
       "     (572933.0630873573, 4492500.84995152)]]}},\n",
       " {'type': 'Feature',\n",
       "  'id': '16',\n",
       "  'properties': OrderedDict([('Id', 0), ('plotID', 206)]),\n",
       "  'geometry': {'type': 'Polygon',\n",
       "   'coordinates': [[(572932.6723151489, 4492525.6512717325),\n",
       "     (572937.3686787079, 4492525.717417702),\n",
       "     (572937.5088485957, 4492515.765355732),\n",
       "     (572932.8124850348, 4492515.699209765),\n",
       "     (572932.6723151489, 4492525.6512717325)]]}},\n",
       " {'type': 'Feature',\n",
       "  'id': '17',\n",
       "  'properties': OrderedDict([('Id', 0), ('plotID', 201)]),\n",
       "  'geometry': {'type': 'Polygon',\n",
       "   'coordinates': [[(572908.5990818865, 4492500.632593268),\n",
       "     (572913.2954454455, 4492500.698739237),\n",
       "     (572913.4356153333, 4492490.746677267),\n",
       "     (572908.7392517724, 4492490.6805313),\n",
       "     (572908.5990818865, 4492500.632593268)]]}},\n",
       " {'type': 'Feature',\n",
       "  'id': '18',\n",
       "  'properties': OrderedDict([('Id', 0), ('plotID', 306)]),\n",
       "  'geometry': {'type': 'Polygon',\n",
       "   'coordinates': [[(572932.2979501734, 4492574.239176876),\n",
       "     (572936.9943137324, 4492574.3053228455),\n",
       "     (572937.1344836202, 4492564.353260876),\n",
       "     (572932.4381200593, 4492564.287114908),\n",
       "     (572932.2979501734, 4492574.239176876)]]}},\n",
       " {'type': 'Feature',\n",
       "  'id': '19',\n",
       "  'properties': OrderedDict([('Id', 0), ('plotID', 304)]),\n",
       "  'geometry': {'type': 'Polygon',\n",
       "   'coordinates': [[(572932.5566052173, 4492549.532587601),\n",
       "     (572937.2529687763, 4492549.59873357),\n",
       "     (572937.3931386641, 4492539.646671601),\n",
       "     (572932.6967751032, 4492539.580525633),\n",
       "     (572932.5566052173, 4492549.532587601)]]}},\n",
       " {'type': 'Feature',\n",
       "  'id': '20',\n",
       "  'properties': OrderedDict([('Id', 0), ('plotID', 302)]),\n",
       "  'geometry': {'type': 'Polygon',\n",
       "   'coordinates': [[(572908.1296362273, 4492561.559238841),\n",
       "     (572912.8259997863, 4492561.62538481),\n",
       "     (572912.9661696741, 4492551.673322841),\n",
       "     (572908.2698061132, 4492551.607176873),\n",
       "     (572908.1296362273, 4492561.559238841)]]}},\n",
       " {'type': 'Feature',\n",
       "  'id': '21',\n",
       "  'properties': OrderedDict([('Id', 0), ('plotID', 307)]),\n",
       "  'geometry': {'type': 'Polygon',\n",
       "   'coordinates': [[(572956.8593892996, 4492549.845999714),\n",
       "     (572961.5557528586, 4492549.912145684),\n",
       "     (572961.6959227464, 4492539.960083714),\n",
       "     (572956.9995591856, 4492539.893937746),\n",
       "     (572956.8593892996, 4492549.845999714)]]}},\n",
       " {'type': 'Feature',\n",
       "  'id': '22',\n",
       "  'properties': OrderedDict([('Id', 0), ('plotID', 301)]),\n",
       "  'geometry': {'type': 'Polygon',\n",
       "   'coordinates': [[(572908.1929668474, 4492549.252248474),\n",
       "     (572912.8893304064, 4492549.318394444),\n",
       "     (572913.0295002942, 4492539.366332474),\n",
       "     (572908.3331367334, 4492539.3001865065),\n",
       "     (572908.1929668474, 4492549.252248474)]]}},\n",
       " {'type': 'Feature',\n",
       "  'id': '23',\n",
       "  'properties': OrderedDict([('Id', 0), ('plotID', 305)]),\n",
       "  'geometry': {'type': 'Polygon',\n",
       "   'coordinates': [[(572932.4166006699, 4492561.668959456),\n",
       "     (572937.1129642288, 4492561.735105425),\n",
       "     (572937.2531341166, 4492551.783043455),\n",
       "     (572932.5567705558, 4492551.716897488),\n",
       "     (572932.4166006699, 4492561.668959456)]]}},\n",
       " {'type': 'Feature',\n",
       "  'id': '24',\n",
       "  'properties': OrderedDict([('Id', 0), ('plotID', 308)]),\n",
       "  'geometry': {'type': 'Polygon',\n",
       "   'coordinates': [[(572956.756751142, 4492562.183757986),\n",
       "     (572961.453114701, 4492562.2499039555),\n",
       "     (572961.5932845888, 4492552.297841986),\n",
       "     (572956.8969210279, 4492552.231696018),\n",
       "     (572956.756751142, 4492562.183757986)]]}},\n",
       " {'type': 'Feature',\n",
       "  'id': '25',\n",
       "  'properties': OrderedDict([('Id', 0), ('plotID', 303)]),\n",
       "  'geometry': {'type': 'Polygon',\n",
       "   'coordinates': [[(572907.9112555663, 4492574.383375081),\n",
       "     (572912.6076191253, 4492574.449521051),\n",
       "     (572912.7477890131, 4492564.497459081),\n",
       "     (572908.0514254522, 4492564.431313113),\n",
       "     (572907.9112555663, 4492574.383375081)]]}},\n",
       " {'type': 'Feature',\n",
       "  'id': '26',\n",
       "  'properties': OrderedDict([('Id', 0), ('plotID', 309)]),\n",
       "  'geometry': {'type': 'Polygon',\n",
       "   'coordinates': [[(572956.5959942704, 4492574.64476976),\n",
       "     (572961.2923578294, 4492574.710915729),\n",
       "     (572961.4325277172, 4492564.75885376),\n",
       "     (572956.7361641563, 4492564.692707792),\n",
       "     (572956.5959942704, 4492574.64476976)]]}}]"
      ]
     },
     "execution_count": 69,
     "metadata": {},
     "output_type": "execute_result"
    }
   ],
   "source": [
    "x = []\n",
    "for features in shapefile:\n",
    "    x.append(features)\n",
    "x"
   ]
  },
  {
   "cell_type": "code",
   "execution_count": null,
   "id": "8fa35531",
   "metadata": {},
   "outputs": [],
   "source": []
  },
  {
   "cell_type": "code",
   "execution_count": null,
   "id": "75940bf5",
   "metadata": {},
   "outputs": [],
   "source": [
    "shapes = [feature[\"geometry\"] for feature in shapefile]\n",
    "shapes"
   ]
  },
  {
   "cell_type": "code",
   "execution_count": null,
   "id": "242e8130",
   "metadata": {},
   "outputs": [],
   "source": []
  },
  {
   "cell_type": "code",
   "execution_count": 70,
   "id": "7a36e578",
   "metadata": {},
   "outputs": [],
   "source": [
    "src = rasterio.open('OutputClass/ndvi0604.tiff')"
   ]
  },
  {
   "cell_type": "code",
   "execution_count": 71,
   "id": "34ce2f49",
   "metadata": {},
   "outputs": [],
   "source": [
    "shapefile = fiona.open('Shapefile/Treatment.shp', 'r')\n",
    "shapes = [[features['geometry'] for features in shapefile][3]]"
   ]
  },
  {
   "cell_type": "code",
   "execution_count": 72,
   "id": "6b0f65de",
   "metadata": {},
   "outputs": [
    {
     "data": {
      "text/plain": [
       "[{'type': 'Polygon',\n",
       "  'coordinates': [[(572909.0259165554, 4492463.992391602),\n",
       "    (572913.7222801144, 4492464.058537572),\n",
       "    (572913.8624500022, 4492454.106475602),\n",
       "    (572909.1660864414, 4492454.040329634),\n",
       "    (572909.0259165554, 4492463.992391602)]]}]"
      ]
     },
     "execution_count": 72,
     "metadata": {},
     "output_type": "execute_result"
    }
   ],
   "source": [
    "shapes"
   ]
  },
  {
   "cell_type": "code",
   "execution_count": 73,
   "id": "27494fbe",
   "metadata": {},
   "outputs": [],
   "source": [
    "out_image, out_transform = rasterio.mask.mask(src, shapes, nodata = 0, crop=True)\n",
    "out_meta = src.meta"
   ]
  },
  {
   "cell_type": "code",
   "execution_count": 74,
   "id": "50d16d7d",
   "metadata": {},
   "outputs": [
    {
     "data": {
      "text/plain": [
       "0.3049037"
      ]
     },
     "execution_count": 74,
     "metadata": {},
     "output_type": "execute_result"
    }
   ],
   "source": [
    "NDVI = np.mean(out_image)\n",
    "NDVI"
   ]
  },
  {
   "cell_type": "code",
   "execution_count": null,
   "id": "87750b81",
   "metadata": {},
   "outputs": [],
   "source": []
  },
  {
   "cell_type": "code",
   "execution_count": 75,
   "id": "9e817873",
   "metadata": {
    "scrolled": false
   },
   "outputs": [
    {
     "data": {
      "text/plain": [
       "[0.31581283,\n",
       " 0.30257696,\n",
       " 0.268008,\n",
       " 0.3049037,\n",
       " 0.313353,\n",
       " 0.29154968,\n",
       " 0.319431,\n",
       " 0.30421206,\n",
       " 0.28624967,\n",
       " 0.26714793,\n",
       " 0.27466214,\n",
       " 0.3006376,\n",
       " 0.3129768,\n",
       " 0.28472227,\n",
       " 0.3296955,\n",
       " 0.3004247,\n",
       " 0.30489644,\n",
       " 0.31538534,\n",
       " 0.28375635,\n",
       " 0.297198,\n",
       " 0.30480778,\n",
       " 0.29009163,\n",
       " 0.31765205,\n",
       " 0.29891682,\n",
       " 0.2877331,\n",
       " 0.33190984,\n",
       " 0.2819581]"
      ]
     },
     "execution_count": 75,
     "metadata": {},
     "output_type": "execute_result"
    }
   ],
   "source": [
    "NDVI = []\n",
    "for i in range(27):\n",
    "    src = rasterio.open('OutputClass/ndvi0604.tiff')\n",
    "    shapefile = fiona.open('Shapefile/Treatment.shp', 'r')\n",
    "    shapes = [[features['geometry'] for features in shapefile][i]]\n",
    "    \n",
    "    out_image, out_transform = rasterio.mask.mask(src, shapes, nodata = 0, crop=True)\n",
    "    out_meta = src.meta\n",
    "    \n",
    "    NDVI.append(np.mean(out_image))\n",
    "NDVI"
   ]
  },
  {
   "cell_type": "code",
   "execution_count": null,
   "id": "33ab093b",
   "metadata": {},
   "outputs": [],
   "source": [
    "NDVI = np.array(NDVI)\n",
    "NDVI.size"
   ]
  },
  {
   "cell_type": "code",
   "execution_count": null,
   "id": "02fbd8cc",
   "metadata": {},
   "outputs": [],
   "source": []
  }
 ],
 "metadata": {
  "kernelspec": {
   "display_name": "Python 3 (ipykernel)",
   "language": "python",
   "name": "python3"
  },
  "language_info": {
   "codemirror_mode": {
    "name": "ipython",
    "version": 3
   },
   "file_extension": ".py",
   "mimetype": "text/x-python",
   "name": "python",
   "nbconvert_exporter": "python",
   "pygments_lexer": "ipython3",
   "version": "3.9.10"
  }
 },
 "nbformat": 4,
 "nbformat_minor": 5
}
