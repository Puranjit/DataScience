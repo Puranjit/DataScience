{
 "cells": [
  {
   "cell_type": "markdown",
   "id": "8dc36101",
   "metadata": {},
   "source": [
    "# Introduction to geopandas\n",
    "\n",
    "### [Installation guide for Geopnadas](https://geopandas.org/en/stable/getting_started.html)\n",
    "You'll need to import these libraries if working in a new environment"
   ]
  },
  {
   "cell_type": "code",
   "execution_count": null,
   "id": "64c80ac1",
   "metadata": {},
   "outputs": [],
   "source": [
    "# !pip install numpy\n",
    "# !pip install matplotlib\n",
    "# !pip install pandas"
   ]
  },
  {
   "cell_type": "code",
   "execution_count": null,
   "id": "5397093d",
   "metadata": {},
   "outputs": [],
   "source": [
    "import geopandas as gpd\n",
    "import numpy as np\n",
    "import matplotlib.pyplot as plt\n",
    "import pandas as pd"
   ]
  },
  {
   "cell_type": "markdown",
   "id": "e6fa1015",
   "metadata": {},
   "source": [
    "<b>.shp is a mandatory Esri file that gives features their geometry. Every Shapefile has its own .shp file that represent spatial vector data. For example, it could be points, lines and polygons in a map.</b><br>\n",
    "For more reference : [Link](https://desktop.arcgis.com/en/arcmap/latest/manage-data/shapefiles/what-is-a-shapefile.htm)"
   ]
  },
  {
   "cell_type": "code",
   "execution_count": null,
   "id": "85f2b328",
   "metadata": {},
   "outputs": [],
   "source": [
    "# Reading the shapefiles in your notebook\n",
    "Nebraska = gpd.read_file('SOCIO_County_CENSUS_2010.shp')\n",
    "Nebraska.head()"
   ]
  },
  {
   "cell_type": "code",
   "execution_count": null,
   "id": "b99f83e5",
   "metadata": {},
   "outputs": [],
   "source": [
    "Nebraska.plot()\n",
    "plt.show()"
   ]
  },
  {
   "cell_type": "code",
   "execution_count": null,
   "id": "9535d722",
   "metadata": {},
   "outputs": [],
   "source": [
    "Nebraska.plot(color = 'red')"
   ]
  },
  {
   "cell_type": "code",
   "execution_count": null,
   "id": "48246512",
   "metadata": {},
   "outputs": [],
   "source": [
    "Nebraska.plot(color = 'white', edgecolor =  'black', figsize =  (14,12))\n",
    "plt.show()"
   ]
  },
  {
   "cell_type": "code",
   "execution_count": null,
   "id": "cb727caa",
   "metadata": {},
   "outputs": [],
   "source": [
    "Nebraska.head()"
   ]
  },
  {
   "cell_type": "code",
   "execution_count": null,
   "id": "dfc82a55",
   "metadata": {},
   "outputs": [],
   "source": [
    "Nebraska['NAMELSAD10']"
   ]
  },
  {
   "cell_type": "code",
   "execution_count": null,
   "id": "71dd7b9d",
   "metadata": {},
   "outputs": [],
   "source": [
    "# Finding area of each county using geopandas\n",
    "gdf = gpd.read_file(\"SOCIO_County_CENSUS_2010.shp\")\n",
    "gdf = gdf['geometry'].to_crs({'proj':'cea'})\n",
    "\n",
    "# This area is in km^2\n",
    "gdf.area / (1e6)"
   ]
  },
  {
   "cell_type": "code",
   "execution_count": null,
   "id": "c73fbfff",
   "metadata": {},
   "outputs": [],
   "source": [
    "Nebraska.plot(cmap = 'jet', edgecolor = 'black', column = 'NAMELSAD10', figsize = (25,20), \n",
    "              legend = True, legend_kwds = {'loc': 'center left', 'bbox_to_anchor':(1,0.5)})"
   ]
  },
  {
   "cell_type": "code",
   "execution_count": null,
   "id": "ccdadfa2",
   "metadata": {},
   "outputs": [],
   "source": [
    "# Nebraska.plot(cmap = 'jet', edgecolor = 'black', column = 'OBJECTID')"
   ]
  },
  {
   "cell_type": "code",
   "execution_count": null,
   "id": "ca3bc403",
   "metadata": {},
   "outputs": [],
   "source": [
    "# Nebraska.plot(cmap = 'hsv', edgecolor = 'black', column = 'OBJECTID')"
   ]
  },
  {
   "cell_type": "code",
   "execution_count": null,
   "id": "5db5f163",
   "metadata": {},
   "outputs": [],
   "source": [
    "Nebraska.crs"
   ]
  },
  {
   "cell_type": "code",
   "execution_count": null,
   "id": "da55186d",
   "metadata": {},
   "outputs": [],
   "source": []
  }
 ],
 "metadata": {
  "kernelspec": {
   "display_name": "Python 3 (ipykernel)",
   "language": "python",
   "name": "python3"
  },
  "language_info": {
   "codemirror_mode": {
    "name": "ipython",
    "version": 3
   },
   "file_extension": ".py",
   "mimetype": "text/x-python",
   "name": "python",
   "nbconvert_exporter": "python",
   "pygments_lexer": "ipython3",
   "version": "3.10.2"
  }
 },
 "nbformat": 4,
 "nbformat_minor": 5
}
