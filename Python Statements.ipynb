{
 "cells": [
  {
   "cell_type": "markdown",
   "id": "c77aa554",
   "metadata": {},
   "source": [
    "# Python Statements - \n",
    "\n",
    "<font color = 'black'>In this jupyter notebook I'll be explaining on how to use python statements and giving some reference information while explaining these concepts...\n",
    "</font>\n",
    "\n",
    "## Comparison operators\n",
    "These comparison operators can be used for performing with various `boolean` operations\n",
    "1. Equals to - `==`<br>\n",
    "    This operator is for value equality. It's used to know if two objects have the same value <br><br>\n",
    "2. Not equal - `!=`<br>\n",
    "    In Python != is defined as not equal to operator. It returns True if operands on either side are not equal to each other, and returns False if they are equal.<br><br>\n",
    "3. Less than - `<`<br>\n",
    "    Less than: True if the left operand is less than the right<br><br>\n",
    "4. Less than or equal to -> `<=`<br>\n",
    "    Less than or equal to True if the left operand is less than or equal to the right<br><br>\n",
    "5. Greater than - `>`<br>\n",
    "    Greater than: True if the right operand is less than the left<br><br>\n",
    "6. Greater than or equal to - `>=`<br>\n",
    "    Greater than or equal to True if the left operand is greater than or equal to the right<br><br>\n",
    "    \n",
    "There's a small exercise that you can access through this [Link](https://www.w3schools.com/python/gloss_python_comparison_operators.asp) for a small exercise related to Python comparison operators"
   ]
  },
  {
   "cell_type": "markdown",
   "id": "195ecec9",
   "metadata": {},
   "source": [
    "## 1. if, elif, else Statements\n",
    "\n",
    "`if` Statements in Python allows us to tell the computer to perform alternative actions based on a certain set of results.\n",
    "\n",
    "Verbally, we can imagine that we are giving instructions to the computer to perform certain actions:\n",
    "\n",
    "\"Hey!! if this case happens, perform some action\"\n",
    "\n",
    "We can then expand the idea further with `elif` and `else` statements, which allow us to tell the computer:\n",
    "\n",
    "\"Hey if this case happens, perform some action. Else, if another case happens, perform some other action. Else, if *none* of the above cases happened, perform this action.\"\n",
    "\n",
    "Basic syntax of `if` statements to get a better idea\n",
    "\n",
    "    if case1:\n",
    "        perform action1\n",
    "    elif case2:\n",
    "        perform action2\n",
    "    else: \n",
    "        perform action3\n",
    "        \n",
    "More documentation on these statements [Link](https://www.w3schools.com/python/python_conditions.asp)\n",
    "        \n",
    "### First example"
   ]
  },
  {
   "cell_type": "code",
   "execution_count": 1,
   "id": "1d330c83",
   "metadata": {},
   "outputs": [
    {
     "data": {
      "text/plain": [
       "1"
      ]
     },
     "execution_count": 1,
     "metadata": {},
     "output_type": "execute_result"
    }
   ],
   "source": [
    "x = 17\n",
    "# modulo operation\n",
    "x % 2"
   ]
  },
  {
   "cell_type": "code",
   "execution_count": 2,
   "id": "b52a583f",
   "metadata": {},
   "outputs": [
    {
     "data": {
      "text/plain": [
       "2"
      ]
     },
     "execution_count": 2,
     "metadata": {},
     "output_type": "execute_result"
    }
   ],
   "source": [
    "x % 3"
   ]
  },
  {
   "cell_type": "code",
   "execution_count": 3,
   "id": "7f2ece43",
   "metadata": {},
   "outputs": [
    {
     "data": {
      "text/plain": [
       "1"
      ]
     },
     "execution_count": 3,
     "metadata": {},
     "output_type": "execute_result"
    }
   ],
   "source": [
    "x % 4"
   ]
  },
  {
   "cell_type": "code",
   "execution_count": 4,
   "id": "8d4b5ecc",
   "metadata": {},
   "outputs": [
    {
     "name": "stdout",
     "output_type": "stream",
     "text": [
      "x is odd\n"
     ]
    }
   ],
   "source": [
    "x = 13 # Assignment operator used here\n",
    "\n",
    "if x % 2 == 0:\n",
    "    print('x is even')\n",
    "else:\n",
    "    print('x is odd')"
   ]
  },
  {
   "cell_type": "markdown",
   "id": "a59f48f6",
   "metadata": {},
   "source": [
    "### Multiple branches\n",
    "\n",
    "Use case for if, elif and else statements used in a nested structure"
   ]
  },
  {
   "cell_type": "code",
   "execution_count": 5,
   "id": "26837f8e",
   "metadata": {},
   "outputs": [
    {
     "name": "stdout",
     "output_type": "stream",
     "text": [
      "You are facing North!!\n"
     ]
    }
   ],
   "source": [
    "Direction = 'North'\n",
    "\n",
    "if Direction == 'South':\n",
    "    print('You are facing South!!')\n",
    "    \n",
    "elif Direction == 'West':\n",
    "    print('You are facing West!!')\n",
    "    \n",
    "elif Direction == 'East':\n",
    "    print('You are facing East!!')\n",
    "    \n",
    "else:\n",
    "    print('You are facing North!!')"
   ]
  },
  {
   "cell_type": "markdown",
   "id": "041ffae4",
   "metadata": {},
   "source": [
    "This is how nested `if` statements are each checked until a True boolean causes the nested code below it to run. \n",
    "We can put in as many `elif` statements before you close off with an `else`"
   ]
  },
  {
   "cell_type": "code",
   "execution_count": 6,
   "id": "b3d4f598",
   "metadata": {},
   "outputs": [
    {
     "name": "stdout",
     "output_type": "stream",
     "text": [
      "Hi Jack, how are you?\n"
     ]
    }
   ],
   "source": [
    "name = 'Jack'\n",
    "\n",
    "if name == 'Jack':\n",
    "    print('Hi Jack, how are you?')\n",
    "    \n",
    "else:\n",
    "    print(\"Hey!! What's your name?\")"
   ]
  },
  {
   "cell_type": "code",
   "execution_count": 7,
   "id": "80964845",
   "metadata": {},
   "outputs": [
    {
     "name": "stdout",
     "output_type": "stream",
     "text": [
      "Hi Jack, how are you?\n"
     ]
    }
   ],
   "source": [
    "name = 'Josh'\n",
    "\n",
    "if name == 'Josh':\n",
    "    print('Hi Jack, how are you?')\n",
    "    \n",
    "elif name == 'Jack':\n",
    "    print('Hi Jack, how are you?')\n",
    "    \n",
    "else:\n",
    "    print(\"Hey!! What's your name?\")"
   ]
  },
  {
   "cell_type": "markdown",
   "id": "97d738ff",
   "metadata": {},
   "source": [
    "### Indentation\n",
    "\n",
    "It is important to keep a good understanding of how indentation works in Python to maintain the structure and order of your code. We will touch on this topic again when we start building out functions!<br>\n",
    "Learn more about the indentation in Python using [Link](https://www.w3schools.com/python/gloss_python_indentation.asp)\n",
    "\n",
    "## Array\n",
    "An array is basically a data structure which can hold more than one value at a time. It is a collection of ordered series of elements of the same type\n",
    "\n",
    "## Important -\n",
    "Elements in an array are stored in their specific index values which is always unique.<br>\n",
    "Example - Let `array1 = (1,2,3,4,5)` be an array where the element present at the first place is stored at the `0th` index in the array, second element present is stored at `1st` index and so on.....\n",
    "So for the above array the values are stored in the array as -<br> \n",
    "    `0th` index - 1<br>\n",
    "    `1st` index - 2<br>\n",
    "    `2nd` index - 3<br>\n",
    "    `3rd` index - 4<br>\n",
    "    `4th` index - 5<br>\n",
    "    <br>\n",
    "This concept is quite important to understand and keep in mind for future references and understanding of arrays, loops used in programming languages\n",
    "An array is basically a data structure which can hold more than oner value at a time. It is a collection of ordered series of elements of the same type<br>\n",
    "Learn more about arrays using [Link](https://www.tutorialspoint.com/python/python_arrays.htm)"
   ]
  },
  {
   "cell_type": "code",
   "execution_count": 8,
   "id": "c5379cfc",
   "metadata": {},
   "outputs": [],
   "source": [
    "import array as A\n",
    "from array import *"
   ]
  },
  {
   "cell_type": "markdown",
   "id": "47278e8e",
   "metadata": {},
   "source": [
    "When we define an array we need to define the data type of the elements in an array, so we write an 'i' which denotes integer because we are inserting integer values into an array"
   ]
  },
  {
   "cell_type": "code",
   "execution_count": 9,
   "id": "ae05e1b5",
   "metadata": {},
   "outputs": [
    {
     "data": {
      "text/plain": [
       "array('i', [1, 2, 3, 4, 5, 6, 7])"
      ]
     },
     "execution_count": 9,
     "metadata": {},
     "output_type": "execute_result"
    }
   ],
   "source": [
    "a = A.array('i',[1,2,3,4,5,6,7])\n",
    "a"
   ]
  },
  {
   "cell_type": "markdown",
   "id": "01c4a272",
   "metadata": {},
   "source": [
    "### Accessing array elements \n",
    "Elements in an array are accessed based on which index value they are stored in an array"
   ]
  },
  {
   "cell_type": "code",
   "execution_count": 10,
   "id": "b3d1a4f4",
   "metadata": {},
   "outputs": [
    {
     "data": {
      "text/plain": [
       "5"
      ]
     },
     "execution_count": 10,
     "metadata": {},
     "output_type": "execute_result"
    }
   ],
   "source": [
    "# getting 5th element in an array, as a[4] fetches out the element present at 5th index value in an array\n",
    "a[4]"
   ]
  },
  {
   "cell_type": "code",
   "execution_count": 11,
   "id": "3a44981c",
   "metadata": {},
   "outputs": [
    {
     "data": {
      "text/plain": [
       "7"
      ]
     },
     "execution_count": 11,
     "metadata": {},
     "output_type": "execute_result"
    }
   ],
   "source": [
    "# Accessing last element in an array\n",
    "a[-1]"
   ]
  },
  {
   "cell_type": "code",
   "execution_count": 12,
   "id": "abdad9bc",
   "metadata": {},
   "outputs": [
    {
     "data": {
      "text/plain": [
       "5"
      ]
     },
     "execution_count": 12,
     "metadata": {},
     "output_type": "execute_result"
    }
   ],
   "source": [
    "# Accessing 4th last element in an array\n",
    "a[-3]"
   ]
  },
  {
   "cell_type": "code",
   "execution_count": 13,
   "id": "ce872401",
   "metadata": {},
   "outputs": [
    {
     "data": {
      "text/plain": [
       "array('i', [1, 2, 3, 4, 5, 6, 7])"
      ]
     },
     "execution_count": 13,
     "metadata": {},
     "output_type": "execute_result"
    }
   ],
   "source": [
    "# Printing out array\n",
    "a"
   ]
  },
  {
   "cell_type": "markdown",
   "id": "4f8d4124",
   "metadata": {},
   "source": [
    "### Basic array operations\n",
    "__1. Finding the length of an array__"
   ]
  },
  {
   "cell_type": "code",
   "execution_count": 14,
   "id": "6072dd4f",
   "metadata": {},
   "outputs": [
    {
     "data": {
      "text/plain": [
       "array('i', [1, 2, 3, 4, 5, 6, 7])"
      ]
     },
     "execution_count": 14,
     "metadata": {},
     "output_type": "execute_result"
    }
   ],
   "source": [
    "len(a)\n",
    "a"
   ]
  },
  {
   "cell_type": "markdown",
   "id": "04aa32be",
   "metadata": {},
   "source": [
    "__2. Adding elements of an array__"
   ]
  },
  {
   "cell_type": "code",
   "execution_count": 15,
   "id": "95d6046b",
   "metadata": {},
   "outputs": [
    {
     "name": "stdout",
     "output_type": "stream",
     "text": [
      "Array is:  array('i', [1, 2, 3, 4, 5, 6, 7, 3])\n"
     ]
    }
   ],
   "source": [
    "# Append method adds an additional elements in the end of an array as the last element\n",
    "a.append(3)\n",
    "print('Array is: ', a)"
   ]
  },
  {
   "cell_type": "code",
   "execution_count": 16,
   "id": "50fa6080",
   "metadata": {},
   "outputs": [
    {
     "name": "stdout",
     "output_type": "stream",
     "text": [
      "Array is:  array('i', [1, 2, 3, 4, 5, 6, 7, 3, 4, 8, 9])\n"
     ]
    }
   ],
   "source": [
    "a.extend([4,8,9])\n",
    "print('Array is: ', a)"
   ]
  },
  {
   "cell_type": "code",
   "execution_count": 17,
   "id": "b5bd5af0",
   "metadata": {},
   "outputs": [
    {
     "name": "stdout",
     "output_type": "stream",
     "text": [
      "Array is:  array('i', [1, 2, 3, 3, 4, 5, 6, 7, 3, 4, 8, 9])\n"
     ]
    }
   ],
   "source": [
    "a.insert(2,3)\n",
    "print('Array is: ', a)"
   ]
  },
  {
   "cell_type": "markdown",
   "id": "1b1eb809",
   "metadata": {},
   "source": [
    "__3. Removing/deleting elements of an array__"
   ]
  },
  {
   "cell_type": "code",
   "execution_count": 18,
   "id": "667f0e7c",
   "metadata": {},
   "outputs": [
    {
     "name": "stdout",
     "output_type": "stream",
     "text": [
      "Array is:  array('i', [1, 2, 3, 3, 4, 5, 6, 7, 3, 4, 8])\n"
     ]
    }
   ],
   "source": [
    "a.pop()\n",
    "print('Array is: ', a)"
   ]
  },
  {
   "cell_type": "code",
   "execution_count": 19,
   "id": "0053ca05",
   "metadata": {},
   "outputs": [
    {
     "name": "stdout",
     "output_type": "stream",
     "text": [
      "Array is:  array('i', [2, 3, 3, 4, 5, 6, 7, 3, 4, 8])\n"
     ]
    }
   ],
   "source": [
    "a.remove(1)\n",
    "print('Array is: ', a)"
   ]
  },
  {
   "cell_type": "markdown",
   "id": "5b6f55ea",
   "metadata": {},
   "source": [
    "__4. Array concatenation (similar data types only)__"
   ]
  },
  {
   "cell_type": "code",
   "execution_count": 20,
   "id": "6c8e44d7",
   "metadata": {},
   "outputs": [],
   "source": [
    "a = A.array('i', [1,2,3,4,5])\n",
    "b = A.array('i', [6,7,8,9,10])\n",
    "# We create an empty aray that can have int data type values in it\n",
    "c = A.array('i')"
   ]
  },
  {
   "cell_type": "code",
   "execution_count": 21,
   "id": "5e6e07ad",
   "metadata": {},
   "outputs": [
    {
     "name": "stdout",
     "output_type": "stream",
     "text": [
      "Array c is:  array('i', [1, 2, 3, 4, 5, 6, 7, 8, 9, 10])\n"
     ]
    }
   ],
   "source": [
    "c = a+b\n",
    "print('Array c is: ',c)"
   ]
  },
  {
   "cell_type": "markdown",
   "id": "138ee3ae",
   "metadata": {},
   "source": [
    "#### 5. Slicing"
   ]
  },
  {
   "cell_type": "code",
   "execution_count": 22,
   "id": "20fd3846",
   "metadata": {},
   "outputs": [
    {
     "name": "stdout",
     "output_type": "stream",
     "text": [
      "c is:  array('i', [1, 2, 3, 4, 5, 6, 7, 8, 9, 10])\n"
     ]
    }
   ],
   "source": [
    "print('c is: ', c)\n",
    "d = c[0:4]"
   ]
  },
  {
   "cell_type": "code",
   "execution_count": 23,
   "id": "7d927a41",
   "metadata": {},
   "outputs": [
    {
     "name": "stdout",
     "output_type": "stream",
     "text": [
      "c is:  array('i', [1, 3, 5])\n",
      "c is:  array('i', [1, 2, 3, 4, 5, 6, 7, 8])\n"
     ]
    }
   ],
   "source": [
    "print('c is: ', c[0:6:2])\n",
    "print('c is: ', c[0:-2])"
   ]
  },
  {
   "cell_type": "code",
   "execution_count": 24,
   "id": "413a175d",
   "metadata": {},
   "outputs": [],
   "source": [
    "li1 = [1.0,2.0,3,6]\n",
    "li2 = ['aa',1]"
   ]
  },
  {
   "cell_type": "code",
   "execution_count": 25,
   "id": "7d84e4bc",
   "metadata": {},
   "outputs": [
    {
     "data": {
      "text/plain": [
       "[1.0, 2.0, 3, 6, 'aa', 1]"
      ]
     },
     "execution_count": 25,
     "metadata": {},
     "output_type": "execute_result"
    }
   ],
   "source": [
    "li3 = li1+li2\n",
    "li3"
   ]
  },
  {
   "cell_type": "markdown",
   "id": "c3bad460",
   "metadata": {},
   "source": [
    "__6. Looping through an array__ \n",
    "\n",
    "### for loop\n",
    "\n",
    "A `for` loop acts as an iterator in Python; it goes through items that are in a *sequence* or any other iterable item. Objects that we've learned about that we can iterate over include arrays, strings, lists, tuples, and even built-in iterables for dictionaries, such as keys or values.\n",
    "\n",
    "Here's the general format for a `for` loop in Python:\n",
    "\n",
    "    for item in object:\n",
    "        statements to do stuff\n",
    "I would highly recommend you guys to visit the link given below and read more about this concept in the documentation     \n",
    "[more resources](https://www.geeksforgeeks.org/python-for-loops/?ref=lbp)"
   ]
  },
  {
   "cell_type": "code",
   "execution_count": 26,
   "id": "b7329180",
   "metadata": {},
   "outputs": [
    {
     "name": "stdout",
     "output_type": "stream",
     "text": [
      "1\n",
      "2\n",
      "3\n",
      "4\n",
      "5\n",
      "6\n",
      "7\n",
      "8\n",
      "9\n",
      "10\n"
     ]
    }
   ],
   "source": [
    "for item in c:\n",
    "    print(item)"
   ]
  },
  {
   "cell_type": "code",
   "execution_count": 27,
   "id": "f5330ec4",
   "metadata": {},
   "outputs": [
    {
     "name": "stdout",
     "output_type": "stream",
     "text": [
      "0 index position - 1\n",
      "1 index position - 2\n",
      "2 index position - 3\n",
      "3 index position - 4\n",
      "4 index position - 5\n",
      "5 index position - 6\n",
      "6 index position - 7\n",
      "7 index position - 8\n",
      "8 index position - 9\n",
      "9 index position - 10\n"
     ]
    }
   ],
   "source": [
    "# If we want to print both the index position at which numbers are present along with the elements in an array,\n",
    "# we can run the following command\n",
    "for i,j in enumerate(c):\n",
    "    print(i,'index position -', j)"
   ]
  },
  {
   "cell_type": "code",
   "execution_count": 28,
   "id": "6b7fdbad",
   "metadata": {},
   "outputs": [
    {
     "name": "stdout",
     "output_type": "stream",
     "text": [
      "1\n",
      "2\n",
      "3\n",
      "4\n"
     ]
    }
   ],
   "source": [
    "for item in c[0:4]:\n",
    "    print(item)"
   ]
  },
  {
   "cell_type": "code",
   "execution_count": 29,
   "id": "ee4929df",
   "metadata": {},
   "outputs": [
    {
     "name": "stdout",
     "output_type": "stream",
     "text": [
      "2\n",
      "4\n",
      "6\n",
      "8\n",
      "10\n"
     ]
    }
   ],
   "source": [
    "# Using condition inside of a loop\n",
    "for num in c:\n",
    "    if num%2==0:\n",
    "        print(num)"
   ]
  },
  {
   "cell_type": "code",
   "execution_count": 30,
   "id": "c3134ae2",
   "metadata": {},
   "outputs": [
    {
     "name": "stdout",
     "output_type": "stream",
     "text": [
      "Number is odd:   1\n",
      "Number is even:  2\n",
      "Number is odd:   3\n",
      "Number is even:  4\n",
      "Number is odd:   5\n",
      "Number is even:  6\n",
      "Number is odd:   7\n",
      "Number is even:  8\n",
      "Number is odd:   9\n",
      "Number is even:  10\n"
     ]
    }
   ],
   "source": [
    "for num in c:\n",
    "    if num % 2 == 0:\n",
    "        print('Number is even: ', num)\n",
    "    else:\n",
    "        print('Number is odd:  ', num)"
   ]
  },
  {
   "cell_type": "code",
   "execution_count": 31,
   "id": "777fc241",
   "metadata": {},
   "outputs": [
    {
     "name": "stdout",
     "output_type": "stream",
     "text": [
      "55\n"
     ]
    }
   ],
   "source": [
    "sum1 = 0\n",
    "for num in c:\n",
    "    sum1 = sum1+num\n",
    "#     sum1 += num   \n",
    "print(sum1)"
   ]
  },
  {
   "cell_type": "code",
   "execution_count": 32,
   "id": "1c23b717",
   "metadata": {},
   "outputs": [
    {
     "name": "stdout",
     "output_type": "stream",
     "text": [
      "T\n",
      "h\n",
      "i\n",
      "s\n",
      " \n",
      "i\n",
      "s\n",
      " \n",
      "a\n",
      " \n",
      "s\n",
      "t\n",
      "r\n",
      "i\n",
      "n\n",
      "g\n",
      "!\n",
      "!\n"
     ]
    }
   ],
   "source": [
    "for letter in ('This is a string!!'):\n",
    "    print(letter)"
   ]
  },
  {
   "cell_type": "code",
   "execution_count": 33,
   "id": "11c70a35",
   "metadata": {},
   "outputs": [
    {
     "name": "stdout",
     "output_type": "stream",
     "text": [
      "0 index position  T\n",
      "1 index position  h\n",
      "2 index position  i\n",
      "3 index position  s\n",
      "4 index position   \n",
      "5 index position  i\n",
      "6 index position  s\n",
      "7 index position   \n",
      "8 index position  a\n",
      "9 index position   \n",
      "10 index position  s\n",
      "11 index position  t\n",
      "12 index position  r\n",
      "13 index position  i\n",
      "14 index position  n\n",
      "15 index position  g\n",
      "16 index position  !\n",
      "17 index position  !\n"
     ]
    }
   ],
   "source": [
    "String1 = 'This is a string!!'\n",
    "for index, letter in enumerate(String1):\n",
    "    print(index, 'index position ', letter)"
   ]
  },
  {
   "cell_type": "code",
   "execution_count": 34,
   "id": "c859b6a1",
   "metadata": {},
   "outputs": [
    {
     "name": "stdout",
     "output_type": "stream",
     "text": [
      "(0, 'T')\n",
      "(1, 'h')\n",
      "(2, 'i')\n",
      "(3, 's')\n",
      "(4, ' ')\n",
      "(5, 'i')\n",
      "(6, 's')\n",
      "(7, ' ')\n",
      "(8, 'a')\n",
      "(9, ' ')\n",
      "(10, 's')\n",
      "(11, 't')\n",
      "(12, 'r')\n",
      "(13, 'i')\n",
      "(14, 'n')\n",
      "(15, 'g')\n",
      "(16, '!')\n",
      "(17, '!')\n"
     ]
    }
   ],
   "source": [
    "# It does the same task as above but prints out a tupe of both the element in array along with index in a tuple\n",
    "for letter in enumerate(String1):\n",
    "    print(letter)"
   ]
  },
  {
   "cell_type": "markdown",
   "id": "e3425f4a",
   "metadata": {},
   "source": [
    "### while loop\n",
    "The `while` statement in Python is one of most general ways to perform iteration. A `while` statement will repeatedly execute a single statement or group of statements as long as the condition is true. The reason it is called a 'loop' is because the code statements are looped through over and over again until the condition is no longer met.\n",
    "\n",
    "The general format of a while loop is:\n",
    "\n",
    "    while condition:\n",
    "        code statements\n",
    "    else:\n",
    "        final code statements"
   ]
  },
  {
   "cell_type": "code",
   "execution_count": 35,
   "id": "45de8c51",
   "metadata": {},
   "outputs": [
    {
     "data": {
      "text/plain": [
       "array('i', [1, 2, 3, 4, 5, 6, 7, 8, 9, 10])"
      ]
     },
     "execution_count": 35,
     "metadata": {},
     "output_type": "execute_result"
    }
   ],
   "source": [
    "c"
   ]
  },
  {
   "cell_type": "code",
   "execution_count": 36,
   "id": "2b9be616",
   "metadata": {},
   "outputs": [
    {
     "name": "stdout",
     "output_type": "stream",
     "text": [
      "1\n",
      "2\n",
      "3\n",
      "4\n"
     ]
    }
   ],
   "source": [
    "temp = 0\n",
    "while temp < 4:\n",
    "    print(c[temp])\n",
    "    temp += 1"
   ]
  },
  {
   "cell_type": "code",
   "execution_count": 37,
   "id": "21f2655d",
   "metadata": {},
   "outputs": [
    {
     "name": "stdout",
     "output_type": "stream",
     "text": [
      "x is currently:  0\n",
      "x is still less than 10, adding 1 to x\n",
      "x is currently:  1\n",
      "x is still less than 10, adding 1 to x\n",
      "x is currently:  2\n",
      "x is still less than 10, adding 1 to x\n",
      "x is currently:  3\n",
      "x is still less than 10, adding 1 to x\n",
      "x is currently:  4\n",
      "x is still less than 10, adding 1 to x\n",
      "x is currently:  5\n",
      "x is still less than 10, adding 1 to x\n",
      "x is currently:  6\n",
      "x is still less than 10, adding 1 to x\n",
      "x is currently:  7\n",
      "x is still less than 10, adding 1 to x\n",
      "x is currently:  8\n",
      "x is still less than 10, adding 1 to x\n",
      "x is currently:  9\n",
      "x is still less than 10, adding 1 to x\n"
     ]
    }
   ],
   "source": [
    "x = 0\n",
    "while x < 10:\n",
    "    print('x is currently: ',x)\n",
    "    print('x is still less than 10, adding 1 to x')\n",
    "    x+=1"
   ]
  },
  {
   "cell_type": "code",
   "execution_count": 38,
   "id": "8cc851a4",
   "metadata": {},
   "outputs": [
    {
     "name": "stdout",
     "output_type": "stream",
     "text": [
      "x is currently:  0\n",
      " x is still less than 10, adding 1 to x\n",
      "x is currently:  1\n",
      " x is still less than 10, adding 1 to x\n",
      "x is currently:  2\n",
      " x is still less than 10, adding 1 to x\n",
      "x is currently:  3\n",
      " x is still less than 10, adding 1 to x\n",
      "x is currently:  4\n",
      " x is still less than 10, adding 1 to x\n",
      "x is currently:  5\n",
      " x is still less than 10, adding 1 to x\n",
      "x is currently:  6\n",
      " x is still less than 10, adding 1 to x\n",
      "x is currently:  7\n",
      " x is still less than 10, adding 1 to x\n",
      "x is currently:  8\n",
      " x is still less than 10, adding 1 to x\n",
      "x is currently:  9\n",
      " x is still less than 10, adding 1 to x\n",
      "All Done!\n"
     ]
    }
   ],
   "source": [
    "x = 0\n",
    "\n",
    "while x < 10:\n",
    "    print('x is currently: ',x)\n",
    "    print(' x is still less than 10, adding 1 to x')\n",
    "    x+=1\n",
    "else:\n",
    "    print('All Done!')"
   ]
  },
  {
   "cell_type": "markdown",
   "id": "5ba98f53",
   "metadata": {},
   "source": [
    "### break, continue, pass\n",
    "\n",
    "We can use `break`, `continue`, and `pass` statements in our loops to add additional functionality for various cases. The three statements are defined by:\n",
    "\n",
    "    break: Breaks out of the current closest enclosing loop.\n",
    "    continue: Goes to the top of the closest enclosing loop.\n",
    "    pass: Does nothing at all.\n",
    "    \n",
    "    \n",
    "Thinking about `break` and `continue` statements, the general format of the `while` loop looks like this:\n",
    "\n",
    "    while test: \n",
    "        code statement\n",
    "        if test: \n",
    "            break\n",
    "        if test: \n",
    "            continue \n",
    "    else:\n",
    "\n",
    "`break` and `continue` statements can appear anywhere inside the loop’s body, but we will usually put them further nested in conjunction with an `if` statement to perform an action based on some condition.\n"
   ]
  },
  {
   "cell_type": "code",
   "execution_count": 39,
   "id": "20061e60",
   "metadata": {},
   "outputs": [
    {
     "name": "stdout",
     "output_type": "stream",
     "text": [
      "x is currently:  0\n",
      " x is still less than 10, adding 1 to x\n",
      "continuing...\n",
      "x is currently:  1\n",
      " x is still less than 10, adding 1 to x\n",
      "continuing...\n",
      "x is currently:  2\n",
      " x is still less than 10, adding 1 to x\n",
      "x==3\n",
      "x is currently:  3\n",
      " x is still less than 10, adding 1 to x\n",
      "continuing...\n",
      "x is currently:  4\n",
      " x is still less than 10, adding 1 to x\n",
      "continuing...\n",
      "x is currently:  5\n",
      " x is still less than 10, adding 1 to x\n",
      "continuing...\n",
      "x is currently:  6\n",
      " x is still less than 10, adding 1 to x\n",
      "continuing...\n",
      "x is currently:  7\n",
      " x is still less than 10, adding 1 to x\n",
      "continuing...\n",
      "x is currently:  8\n",
      " x is still less than 10, adding 1 to x\n",
      "continuing...\n",
      "x is currently:  9\n",
      " x is still less than 10, adding 1 to x\n",
      "continuing...\n"
     ]
    }
   ],
   "source": [
    "x = 0\n",
    "\n",
    "while x < 10:\n",
    "    print('x is currently: ',x)\n",
    "    print(' x is still less than 10, adding 1 to x')\n",
    "    x+=1\n",
    "    if x==3:\n",
    "        print('x==3')\n",
    "    else:\n",
    "        print('continuing...')\n",
    "        continue\n",
    "        print('hello') # This line will not be executed and loop[ will be return to next iteration"
   ]
  },
  {
   "cell_type": "code",
   "execution_count": 40,
   "id": "0d51501b",
   "metadata": {},
   "outputs": [
    {
     "name": "stdout",
     "output_type": "stream",
     "text": [
      "x is currently:  0\n",
      " x is still less than 10, adding 1 to x\n",
      "continuing...\n",
      "x is currently:  1\n",
      " x is still less than 10, adding 1 to x\n",
      "continuing...\n",
      "x is currently:  2\n",
      " x is still less than 10, adding 1 to x\n",
      "Breaking because x==3\n"
     ]
    }
   ],
   "source": [
    "x = 0\n",
    "\n",
    "while x < 10:\n",
    "    print('x is currently: ',x)\n",
    "    print(' x is still less than 10, adding 1 to x')\n",
    "    x+=1\n",
    "    if x==3:\n",
    "        print('Breaking because x==3')\n",
    "        break\n",
    "    else:\n",
    "        print('continuing...')\n",
    "        continue"
   ]
  },
  {
   "cell_type": "markdown",
   "id": "0741b88c",
   "metadata": {},
   "source": [
    "These are some more resources that could be referred to learn more about (`for` and `while`) loops<br>\n",
    "[More resources](http://www.tutorialspoint.com/python/python_for_loop.htm)"
   ]
  },
  {
   "cell_type": "code",
   "execution_count": 41,
   "id": "3fa16afe",
   "metadata": {},
   "outputs": [
    {
     "name": "stdout",
     "output_type": "stream",
     "text": [
      "Insert input: abc\n"
     ]
    }
   ],
   "source": [
    "a = input('Insert input: ')"
   ]
  },
  {
   "cell_type": "code",
   "execution_count": 42,
   "id": "c0a99e66",
   "metadata": {},
   "outputs": [
    {
     "data": {
      "text/plain": [
       "str"
      ]
     },
     "execution_count": 42,
     "metadata": {},
     "output_type": "execute_result"
    }
   ],
   "source": [
    "type(a)"
   ]
  },
  {
   "cell_type": "code",
   "execution_count": 43,
   "id": "0bb54562",
   "metadata": {},
   "outputs": [
    {
     "ename": "TypeError",
     "evalue": "can only concatenate str (not \"int\") to str",
     "output_type": "error",
     "traceback": [
      "\u001b[1;31m---------------------------------------------------------------------------\u001b[0m",
      "\u001b[1;31mTypeError\u001b[0m                                 Traceback (most recent call last)",
      "\u001b[1;32m~\\AppData\\Local\\Temp/ipykernel_2604/2143622436.py\u001b[0m in \u001b[0;36m<module>\u001b[1;34m\u001b[0m\n\u001b[0;32m      1\u001b[0m \u001b[1;31m# This will generate an error because a string and an integer value cannot be concatenated\u001b[0m\u001b[1;33m\u001b[0m\u001b[1;33m\u001b[0m\u001b[1;33m\u001b[0m\u001b[0m\n\u001b[1;32m----> 2\u001b[1;33m \u001b[0ma\u001b[0m \u001b[1;33m+\u001b[0m \u001b[1;36m123\u001b[0m\u001b[1;33m\u001b[0m\u001b[1;33m\u001b[0m\u001b[0m\n\u001b[0m",
      "\u001b[1;31mTypeError\u001b[0m: can only concatenate str (not \"int\") to str"
     ]
    }
   ],
   "source": [
    "# This will generate an error because a string and an integer value cannot be concatenated\n",
    "a + 123"
   ]
  },
  {
   "cell_type": "markdown",
   "id": "73387a05",
   "metadata": {},
   "source": [
    "# Important \n",
    "From these outputs we get to know that the input fetched using input command is always stored as a `string` in the variable and that is why we cannot perform the addition task in the above command where we wanted to `sum` the `input` and `123` value.\n",
    "In order to store the input value as an integer value we will write the following code<br>\n"
   ]
  },
  {
   "cell_type": "code",
   "execution_count": 44,
   "id": "a14fea1d",
   "metadata": {},
   "outputs": [
    {
     "name": "stdout",
     "output_type": "stream",
     "text": [
      "Enter Input: qwerty\n"
     ]
    },
    {
     "ename": "ValueError",
     "evalue": "invalid literal for int() with base 10: 'qwerty'",
     "output_type": "error",
     "traceback": [
      "\u001b[1;31m---------------------------------------------------------------------------\u001b[0m",
      "\u001b[1;31mValueError\u001b[0m                                Traceback (most recent call last)",
      "\u001b[1;32m~\\AppData\\Local\\Temp/ipykernel_2604/493969261.py\u001b[0m in \u001b[0;36m<module>\u001b[1;34m\u001b[0m\n\u001b[0;32m      1\u001b[0m \u001b[1;31m# This command will automatically generate an error if we do not insert a valid input in our case if we do not insert values\u001b[0m\u001b[1;33m\u001b[0m\u001b[1;33m\u001b[0m\u001b[1;33m\u001b[0m\u001b[0m\n\u001b[0;32m      2\u001b[0m \u001b[1;31m# that are integere than this commadn is gonna show an error\u001b[0m\u001b[1;33m\u001b[0m\u001b[1;33m\u001b[0m\u001b[1;33m\u001b[0m\u001b[0m\n\u001b[1;32m----> 3\u001b[1;33m \u001b[0ma\u001b[0m \u001b[1;33m=\u001b[0m \u001b[0mint\u001b[0m\u001b[1;33m(\u001b[0m\u001b[0minput\u001b[0m\u001b[1;33m(\u001b[0m\u001b[1;34m'Enter Input: '\u001b[0m\u001b[1;33m)\u001b[0m\u001b[1;33m)\u001b[0m\u001b[1;33m\u001b[0m\u001b[1;33m\u001b[0m\u001b[0m\n\u001b[0m",
      "\u001b[1;31mValueError\u001b[0m: invalid literal for int() with base 10: 'qwerty'"
     ]
    }
   ],
   "source": [
    "# This command will automatically generate an error if we do not insert a valid input in our case if we do not insert values \n",
    "# that are integere than this commadn is gonna show an error\n",
    "a = int(input('Enter Input: '))"
   ]
  },
  {
   "cell_type": "code",
   "execution_count": 45,
   "id": "00cefe5e",
   "metadata": {},
   "outputs": [
    {
     "name": "stdout",
     "output_type": "stream",
     "text": [
      "Enter Input: 123\n"
     ]
    }
   ],
   "source": [
    "# We will need to insert an integer value here than only this command will run without generating an error\n",
    "a = int(input('Enter Input: '))"
   ]
  },
  {
   "cell_type": "code",
   "execution_count": 46,
   "id": "1f431f5c",
   "metadata": {},
   "outputs": [
    {
     "data": {
      "text/plain": [
       "int"
      ]
     },
     "execution_count": 46,
     "metadata": {},
     "output_type": "execute_result"
    }
   ],
   "source": [
    "type(a)"
   ]
  },
  {
   "cell_type": "code",
   "execution_count": 47,
   "id": "18746469",
   "metadata": {},
   "outputs": [
    {
     "data": {
      "text/plain": [
       "246"
      ]
     },
     "execution_count": 47,
     "metadata": {},
     "output_type": "execute_result"
    }
   ],
   "source": [
    "a + 123"
   ]
  },
  {
   "cell_type": "markdown",
   "id": "5fc76d2e",
   "metadata": {},
   "source": [
    "## Exercise\n",
    "1. Take in input from a user of an area of the field in hectares and convert that area into acres as an output.\n",
    "2. Take in input temperature from the user in degree celsius and convert the temperature to degree fahrenheit.\n",
    "3. Take in input value from the user in kilograms and convert the weight into pounds.\n",
    "4. Take in a list of 3 temperature values from the user in degree celsius and form a new list of these converted celsius degree temperature into fahrenheit scale.\n",
    "(Refer to this [link1](https://www.geeksforgeeks.org/taking-multiple-inputs-from-user-in-python/)and [link2](https://python.plainenglish.io/taking-multiple-inputs-from-user-in-python-3-6cbe02d03a95) for the final part of exrecise)"
   ]
  }
 ],
 "metadata": {
  "kernelspec": {
   "display_name": "Python 3 (ipykernel)",
   "language": "python",
   "name": "python3"
  },
  "language_info": {
   "codemirror_mode": {
    "name": "ipython",
    "version": 3
   },
   "file_extension": ".py",
   "mimetype": "text/x-python",
   "name": "python",
   "nbconvert_exporter": "python",
   "pygments_lexer": "ipython3",
   "version": "3.9.5"
  }
 },
 "nbformat": 4,
 "nbformat_minor": 5
}
