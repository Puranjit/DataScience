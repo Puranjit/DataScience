{
 "cells": [
  {
   "cell_type": "markdown",
   "id": "c77aa554",
   "metadata": {},
   "source": [
    "# Python Statements - \n",
    "\n",
    "<font color = 'black'>In this jupyter notebook I'll be explaining on how to use python statements and giving some information while explaining these...\n",
    "</font>\n",
    "\n",
    "## Comparison operators\n",
    "1. Equals to -> `==`\n",
    "2. Not equal -> `!=`\n",
    "3. Less than -> `<`\n",
    "4. Less than or equal to -> `<=`\n",
    "5. Greater than -> `>`\n",
    "6. Greater than or equal to -> `>=`\n",
    "\n",
    "## 1. if, elif, else Statements\n",
    "We use `if` statements to make decisions in python \n",
    "\n",
    "`if` Statements in Python allows us to tell the computer to perform alternative actions based on a certain set of results.\n",
    "\n",
    "Verbally, we can imagine that we are giving instructions to the computer to perform certain actions:\n",
    "\n",
    "\"Hey!! if this case happens, perform some action\"\n",
    "\n",
    "We can then expand the idea further with `elif` and `else` statements, which allow us to tell the computer:\n",
    "\n",
    "\"Hey if this case happens, perform some action. Else, if another case happens, perform some other action. Else, if *none* of the above cases happened, perform this action.\"\n",
    "\n",
    "Basic syntax of `if` statements to get a better idea\n",
    "\n",
    "    if case1:\n",
    "        perform action1\n",
    "    elif case2:\n",
    "        perform action2\n",
    "    else: \n",
    "        perform action3\n",
    "        \n",
    "### First example"
   ]
  },
  {
   "cell_type": "code",
   "execution_count": 1,
   "id": "8d4b5ecc",
   "metadata": {},
   "outputs": [
    {
     "name": "stdout",
     "output_type": "stream",
     "text": [
      "x is odd\n"
     ]
    }
   ],
   "source": [
    "x = 13 # Assignment operator used here\n",
    "\n",
    "if x % 2 == 0:\n",
    "    print('x is even')\n",
    "else:\n",
    "    print('x is odd')"
   ]
  },
  {
   "cell_type": "markdown",
   "id": "a59f48f6",
   "metadata": {},
   "source": [
    "### Multiple branches\n",
    "\n",
    "Use case for if, elif and else statements used in a nested structure"
   ]
  },
  {
   "cell_type": "code",
   "execution_count": 2,
   "id": "26837f8e",
   "metadata": {},
   "outputs": [
    {
     "name": "stdout",
     "output_type": "stream",
     "text": [
      "You are facing North!!\n"
     ]
    }
   ],
   "source": [
    "Direction = 'North'\n",
    "\n",
    "if Direction == 'South':\n",
    "    print('You are facing South!!')\n",
    "elif Direction == 'West':\n",
    "    print('You are facing West!!')\n",
    "elif Direction == 'East':\n",
    "    print('You are facing East!!')\n",
    "else:\n",
    "    print('You are facing North!!')"
   ]
  },
  {
   "cell_type": "markdown",
   "id": "041ffae4",
   "metadata": {},
   "source": [
    "This is how nested `if` statements are each checked until a True boolean causes the nested code below it to run. \n",
    "We can put in as many `elif` statements before you close off with an `else`"
   ]
  },
  {
   "cell_type": "code",
   "execution_count": 3,
   "id": "b3d4f598",
   "metadata": {},
   "outputs": [
    {
     "name": "stdout",
     "output_type": "stream",
     "text": [
      "Hi Jack, how are you?\n"
     ]
    }
   ],
   "source": [
    "name = 'Jack'\n",
    "if name == 'Jack':\n",
    "    print('Hi Jack, how are you?')\n",
    "else:\n",
    "    print(\"Hey!! What's your name?\")"
   ]
  },
  {
   "cell_type": "code",
   "execution_count": 4,
   "id": "80964845",
   "metadata": {},
   "outputs": [
    {
     "name": "stdout",
     "output_type": "stream",
     "text": [
      "Hi Jack, how are you?\n"
     ]
    }
   ],
   "source": [
    "name = 'Josh'\n",
    "\n",
    "if name == 'Josh':\n",
    "    print('Hi Jack, how are you?')\n",
    "elif name == 'Jack':\n",
    "    print('Hi Jack, how are you?')\n",
    "else:\n",
    "    print(\"Hey!! What's your name?\")"
   ]
  },
  {
   "cell_type": "markdown",
   "id": "97d738ff",
   "metadata": {},
   "source": [
    "### Indentation\n",
    "\n",
    "It is important to keep a good understanding of how indentation works in Python to maintain the structure and order of your code. We will touch on this topic again when we start building out functions!"
   ]
  },
  {
   "cell_type": "code",
   "execution_count": 5,
   "id": "ae05e1b5",
   "metadata": {},
   "outputs": [
    {
     "data": {
      "text/plain": [
       "[1, 2, 3, 'data', 3.0, 'k']"
      ]
     },
     "execution_count": 5,
     "metadata": {},
     "output_type": "execute_result"
    }
   ],
   "source": [
    "list1 = [1,2,3,'data', 3.0,'k']\n",
    "list1"
   ]
  },
  {
   "cell_type": "markdown",
   "id": "01c4a272",
   "metadata": {},
   "source": [
    "### Accessing list elements"
   ]
  },
  {
   "cell_type": "code",
   "execution_count": 6,
   "id": "b3d1a4f4",
   "metadata": {},
   "outputs": [
    {
     "data": {
      "text/plain": [
       "1"
      ]
     },
     "execution_count": 6,
     "metadata": {},
     "output_type": "execute_result"
    }
   ],
   "source": [
    "# Accessing 1st element in an array\n",
    "list1[0]"
   ]
  },
  {
   "cell_type": "code",
   "execution_count": 7,
   "id": "3a44981c",
   "metadata": {},
   "outputs": [
    {
     "data": {
      "text/plain": [
       "'k'"
      ]
     },
     "execution_count": 7,
     "metadata": {},
     "output_type": "execute_result"
    }
   ],
   "source": [
    "# Accessing last element in an array\n",
    "list1[-1]"
   ]
  },
  {
   "cell_type": "code",
   "execution_count": 8,
   "id": "abdad9bc",
   "metadata": {},
   "outputs": [
    {
     "data": {
      "text/plain": [
       "'data'"
      ]
     },
     "execution_count": 8,
     "metadata": {},
     "output_type": "execute_result"
    }
   ],
   "source": [
    "# Accessing third last element in an array\n",
    "list1[-3]"
   ]
  },
  {
   "cell_type": "markdown",
   "id": "ce91903c",
   "metadata": {},
   "source": [
    "## Array\n",
    "An array is basically a data structure which can hold more than one value at a time. It is a collection of ordered series of elements of the same type\n",
    "\n",
    "## Important -\n",
    "Elements in an array are stored in their specific index values which is always unique.<br>\n",
    "Example - Let `array1 = (1,2,3,4,5)` be an array where the element present at the first place is stored at the `0th` index in the array, second element present is stored at `1st` index and so on.....\n",
    "So for the above array the values are stored in the array as -<br> \n",
    "    `0th` index - 1<br>\n",
    "    `1st` index - 2<br>\n",
    "    `2nd` index - 3<br>\n",
    "    `3rd` index - 4<br>\n",
    "    `4th` index - 5<br>\n",
    "This concept is quite important to understand and keep in mind for future references and understanding of arrays, loops used in programming languages"
   ]
  },
  {
   "cell_type": "code",
   "execution_count": 9,
   "id": "ce872401",
   "metadata": {},
   "outputs": [
    {
     "data": {
      "text/plain": [
       "array('i', [0, 1, 2, 3, 4, 5])"
      ]
     },
     "execution_count": 9,
     "metadata": {},
     "output_type": "execute_result"
    }
   ],
   "source": [
    "import array\n",
    "# We need to declare the data type of the elements we are going to insert in our array\n",
    "a = array.array('i', [0,1,2,3,4,5])\n",
    "# We defined 'i' in array which shows that all the elements inserted in this array belong to `integer` category\n",
    "a "
   ]
  },
  {
   "cell_type": "code",
   "execution_count": 10,
   "id": "ed49a7fb",
   "metadata": {},
   "outputs": [
    {
     "data": {
      "text/plain": [
       "0"
      ]
     },
     "execution_count": 10,
     "metadata": {},
     "output_type": "execute_result"
    }
   ],
   "source": [
    "# Element at 0th index\n",
    "a[0]"
   ]
  },
  {
   "cell_type": "code",
   "execution_count": 11,
   "id": "e2770acf",
   "metadata": {},
   "outputs": [
    {
     "data": {
      "text/plain": [
       "1"
      ]
     },
     "execution_count": 11,
     "metadata": {},
     "output_type": "execute_result"
    }
   ],
   "source": [
    "# Element at 1st index\n",
    "a[1]"
   ]
  },
  {
   "cell_type": "code",
   "execution_count": 12,
   "id": "f1f606e6",
   "metadata": {},
   "outputs": [
    {
     "data": {
      "text/plain": [
       "5"
      ]
     },
     "execution_count": 12,
     "metadata": {},
     "output_type": "execute_result"
    }
   ],
   "source": [
    "# Element at last index\n",
    "a[-1]"
   ]
  },
  {
   "cell_type": "code",
   "execution_count": 13,
   "id": "518a4d5f",
   "metadata": {},
   "outputs": [
    {
     "data": {
      "text/plain": [
       "4"
      ]
     },
     "execution_count": 13,
     "metadata": {},
     "output_type": "execute_result"
    }
   ],
   "source": [
    "# Element at 4tat index\n",
    "a[4]"
   ]
  },
  {
   "cell_type": "markdown",
   "id": "4f8d4124",
   "metadata": {},
   "source": [
    "### Basic array operations\n",
    "__1. Finding the length of an array__"
   ]
  },
  {
   "cell_type": "code",
   "execution_count": 14,
   "id": "6072dd4f",
   "metadata": {},
   "outputs": [
    {
     "name": "stdout",
     "output_type": "stream",
     "text": [
      "6\n"
     ]
    },
    {
     "data": {
      "text/plain": [
       "array('i', [0, 1, 2, 3, 4, 5])"
      ]
     },
     "execution_count": 14,
     "metadata": {},
     "output_type": "execute_result"
    }
   ],
   "source": [
    "print(len(a))\n",
    "a"
   ]
  },
  {
   "cell_type": "markdown",
   "id": "04aa32be",
   "metadata": {},
   "source": [
    "__2. Adding elements of an array__"
   ]
  },
  {
   "cell_type": "code",
   "execution_count": 15,
   "id": "b5bd5af0",
   "metadata": {},
   "outputs": [
    {
     "name": "stdout",
     "output_type": "stream",
     "text": [
      "Array is:  array('i', [0, 1, 2, 3, 4, 5, 3])\n"
     ]
    }
   ],
   "source": [
    "# append function adds an element that is given/inserted in the end of the array\n",
    "a.append(3)\n",
    "print('Array is: ', a)"
   ]
  },
  {
   "cell_type": "code",
   "execution_count": 16,
   "id": "fdc2c1ad",
   "metadata": {},
   "outputs": [
    {
     "name": "stdout",
     "output_type": "stream",
     "text": [
      "Array is:  array('i', [0, 1, 2, 3, 4, 5, 3, 4, 8, 9])\n"
     ]
    }
   ],
   "source": [
    "# extend function adds multiple values in one gpo in the array\n",
    "a.extend([4,8,9])\n",
    "print('Array is: ', a)"
   ]
  },
  {
   "cell_type": "code",
   "execution_count": 17,
   "id": "39aab8e6",
   "metadata": {},
   "outputs": [
    {
     "name": "stdout",
     "output_type": "stream",
     "text": [
      "Array is:  array('i', [0, 1, 3, 2, 3, 4, 5, 3, 4, 8, 9])\n"
     ]
    }
   ],
   "source": [
    "# insert function adds an element at a specific location as inserted by the user\n",
    "# a.insert(location, value)\n",
    "a.insert(2,3)\n",
    "print('Array is: ', a)"
   ]
  },
  {
   "cell_type": "markdown",
   "id": "1b1eb809",
   "metadata": {},
   "source": [
    "__3. Removing/deleting elements of an array__"
   ]
  },
  {
   "cell_type": "code",
   "execution_count": 18,
   "id": "667f0e7c",
   "metadata": {},
   "outputs": [
    {
     "name": "stdout",
     "output_type": "stream",
     "text": [
      "Array is:  array('i', [0, 1, 3, 2, 3, 4, 5, 3, 4, 8])\n"
     ]
    }
   ],
   "source": [
    "# pop function will remove the last element in an array\n",
    "a.pop()\n",
    "print('Array is: ', a)"
   ]
  },
  {
   "cell_type": "code",
   "execution_count": 19,
   "id": "a604e196",
   "metadata": {},
   "outputs": [
    {
     "name": "stdout",
     "output_type": "stream",
     "text": [
      "Array is:  array('i', [0, 3, 2, 3, 4, 5, 3, 4, 8])\n"
     ]
    }
   ],
   "source": [
    "# remove function will remove the element that is specified when it is called\n",
    "a.remove(1)\n",
    "print('Array is: ', a)"
   ]
  },
  {
   "cell_type": "markdown",
   "id": "5b6f55ea",
   "metadata": {},
   "source": [
    "__4. Array concatenation (similar data types only)__"
   ]
  },
  {
   "cell_type": "code",
   "execution_count": 20,
   "id": "e12dfeb0",
   "metadata": {},
   "outputs": [
    {
     "name": "stdout",
     "output_type": "stream",
     "text": [
      "Array c is:  array('i', [1, 2, 3, 4, 5, 6, 7, 8, 9, 10])\n"
     ]
    }
   ],
   "source": [
    "a = array.array('i', [1,2,3,4,5])\n",
    "b = array.array('i', [6,7,8,9,10])\n",
    "# We are only defining c as an array but have not stored any value in the array\n",
    "c = array.array('i')\n",
    "# Values of array a and b inserted into c\n",
    "c = a+b\n",
    "print('Array c is: ',c)"
   ]
  },
  {
   "cell_type": "code",
   "execution_count": 21,
   "id": "413a175d",
   "metadata": {},
   "outputs": [
    {
     "data": {
      "text/plain": [
       "[1.0, 2.0, 3, 6, 'aa', 1]"
      ]
     },
     "execution_count": 21,
     "metadata": {},
     "output_type": "execute_result"
    }
   ],
   "source": [
    "li1 = [1.0,2.0,3,6]\n",
    "li2 = ['aa',1]\n",
    "li3 = li1+li2\n",
    "li3"
   ]
  },
  {
   "cell_type": "markdown",
   "id": "d8ff6064",
   "metadata": {},
   "source": [
    "__5. Slicing__"
   ]
  },
  {
   "cell_type": "code",
   "execution_count": 22,
   "id": "7d84e4bc",
   "metadata": {},
   "outputs": [
    {
     "name": "stdout",
     "output_type": "stream",
     "text": [
      "c is:  array('i', [1, 2, 3, 4, 5, 6, 7, 8, 9, 10])\n",
      "array('i', [1, 2, 3, 4])\n"
     ]
    }
   ],
   "source": [
    "print('c is: ', c)\n",
    "# We want to print the first 5 elements in array c\n",
    "print(c[0:4])"
   ]
  },
  {
   "cell_type": "code",
   "execution_count": 23,
   "id": "78487c97",
   "metadata": {},
   "outputs": [
    {
     "name": "stdout",
     "output_type": "stream",
     "text": [
      "c is:  array('i', [1, 3, 5])\n"
     ]
    }
   ],
   "source": [
    "# Priniting every alternate element\n",
    "print('c is: ', c[0:6:2])"
   ]
  },
  {
   "cell_type": "code",
   "execution_count": 24,
   "id": "799cc126",
   "metadata": {},
   "outputs": [
    {
     "name": "stdout",
     "output_type": "stream",
     "text": [
      "c is:  array('i', [1, 2, 3, 4, 5, 6, 7, 8])\n",
      "Original array is:  array('i', [1, 2, 3, 4, 5, 6, 7, 8, 9, 10])\n"
     ]
    }
   ],
   "source": [
    "print('c is: ', c[0:-2])\n",
    "\n",
    "print('Original array is: ', c)"
   ]
  },
  {
   "cell_type": "markdown",
   "id": "c3bad460",
   "metadata": {},
   "source": [
    "__6. Looping through an array__ \n",
    "\n",
    "### for loop\n",
    "\n",
    "A `for` loop acts as an iterator in Python; it goes through items that are in a *sequence* or any other iterable item. Objects that we've learned about that we can iterate over include arrays, strings, lists, tuples, and even built-in iterables for dictionaries, such as keys or values.\n",
    "\n",
    "We've already seen the `for` statement a little bit in past lectures but now let's formalize our understanding.\n",
    "\n",
    "Here's the general format for a `for` loop in Python:\n",
    "\n",
    "    for item in object:\n",
    "        statements to do stuff\n",
    "        \n",
    "[more resources](https://www.geeksforgeeks.org/python-for-loops/?ref=lbp)"
   ]
  },
  {
   "cell_type": "code",
   "execution_count": 25,
   "id": "36f740d5",
   "metadata": {},
   "outputs": [
    {
     "name": "stdout",
     "output_type": "stream",
     "text": [
      "1\n",
      "2\n",
      "3\n",
      "4\n",
      "5\n",
      "6\n",
      "7\n",
      "8\n",
      "9\n",
      "10\n"
     ]
    }
   ],
   "source": [
    "for item in c:\n",
    "    print(item)"
   ]
  },
  {
   "cell_type": "code",
   "execution_count": 26,
   "id": "f5330ec4",
   "metadata": {},
   "outputs": [
    {
     "name": "stdout",
     "output_type": "stream",
     "text": [
      "0 1\n",
      "1 2\n",
      "2 3\n",
      "3 4\n",
      "4 5\n",
      "5 6\n",
      "6 7\n",
      "7 8\n",
      "8 9\n",
      "9 10\n"
     ]
    }
   ],
   "source": [
    "for i,j in enumerate(c):\n",
    "    print(i,j)"
   ]
  },
  {
   "cell_type": "code",
   "execution_count": 27,
   "id": "6b7fdbad",
   "metadata": {},
   "outputs": [
    {
     "name": "stdout",
     "output_type": "stream",
     "text": [
      "1\n",
      "2\n",
      "3\n",
      "4\n"
     ]
    }
   ],
   "source": [
    "for item in c[0:4]:\n",
    "    print(item)"
   ]
  },
  {
   "cell_type": "code",
   "execution_count": 28,
   "id": "ee4929df",
   "metadata": {},
   "outputs": [
    {
     "name": "stdout",
     "output_type": "stream",
     "text": [
      "2\n",
      "4\n",
      "6\n",
      "8\n",
      "10\n"
     ]
    }
   ],
   "source": [
    "for num in c:\n",
    "    if num%2==0:\n",
    "        print(num)"
   ]
  },
  {
   "cell_type": "code",
   "execution_count": 29,
   "id": "c3134ae2",
   "metadata": {},
   "outputs": [
    {
     "name": "stdout",
     "output_type": "stream",
     "text": [
      "Number is odd:   1\n",
      "Number is even:  2\n",
      "Number is odd:   3\n",
      "Number is even:  4\n",
      "Number is odd:   5\n",
      "Number is even:  6\n",
      "Number is odd:   7\n",
      "Number is even:  8\n",
      "Number is odd:   9\n",
      "Number is even:  10\n"
     ]
    }
   ],
   "source": [
    "for num in c:\n",
    "    if num%2==0:\n",
    "        print('Number is even: ', num)\n",
    "    else:\n",
    "        print('Number is odd:  ', num)"
   ]
  },
  {
   "cell_type": "code",
   "execution_count": 30,
   "id": "777fc241",
   "metadata": {},
   "outputs": [
    {
     "name": "stdout",
     "output_type": "stream",
     "text": [
      "55\n"
     ]
    }
   ],
   "source": [
    "sum1 = 0\n",
    "for num in c:\n",
    "    sum1 = sum1+num\n",
    "#     sum1 += num\n",
    "print(sum1)"
   ]
  },
  {
   "cell_type": "code",
   "execution_count": 31,
   "id": "1c23b717",
   "metadata": {},
   "outputs": [
    {
     "name": "stdout",
     "output_type": "stream",
     "text": [
      "T\n",
      "h\n",
      "i\n",
      "s\n",
      " \n",
      "i\n",
      "s\n",
      " \n",
      "a\n",
      " \n",
      "s\n",
      "t\n",
      "r\n",
      "i\n",
      "n\n",
      "g\n",
      "!\n",
      "!\n"
     ]
    }
   ],
   "source": [
    "for letter in ('This is a string!!'):\n",
    "    print(letter)\n",
    "    "
   ]
  },
  {
   "cell_type": "markdown",
   "id": "e3425f4a",
   "metadata": {},
   "source": [
    "### while loop\n",
    "The `while` statement in Python is one of most general ways to perform iteration. A `while` statement will repeatedly execute a single statement or group of statements as long as the condition is true. The reason it is called a 'loop' is because the code statements are looped through over and over again until the condition is no longer met.\n",
    "\n",
    "The general format of a while loop is:\n",
    "\n",
    "    while condition:\n",
    "        code statements\n",
    "    else:\n",
    "        final code statements"
   ]
  },
  {
   "cell_type": "code",
   "execution_count": 32,
   "id": "45de8c51",
   "metadata": {},
   "outputs": [
    {
     "data": {
      "text/plain": [
       "array('i', [1, 2, 3, 4, 5, 6, 7, 8, 9, 10])"
      ]
     },
     "execution_count": 32,
     "metadata": {},
     "output_type": "execute_result"
    }
   ],
   "source": [
    "c"
   ]
  },
  {
   "cell_type": "code",
   "execution_count": 33,
   "id": "2b9be616",
   "metadata": {},
   "outputs": [
    {
     "name": "stdout",
     "output_type": "stream",
     "text": [
      "1\n",
      "2\n",
      "3\n",
      "4\n"
     ]
    }
   ],
   "source": [
    "temp = 0\n",
    "while temp < 4:\n",
    "    print(c[temp])\n",
    "    temp += 1\n",
    "\n",
    "# temp = 0\n",
    "# while temp < 4:\n",
    "#     print(c[temp])\n",
    "#     temp += 1"
   ]
  },
  {
   "cell_type": "code",
   "execution_count": 34,
   "id": "21f2655d",
   "metadata": {},
   "outputs": [
    {
     "name": "stdout",
     "output_type": "stream",
     "text": [
      "x is currently:  0\n",
      "x is still less than 10, adding 1 to x\n",
      "x is currently:  1\n",
      "x is still less than 10, adding 1 to x\n",
      "x is currently:  2\n",
      "x is still less than 10, adding 1 to x\n",
      "x is currently:  3\n",
      "x is still less than 10, adding 1 to x\n",
      "x is currently:  4\n",
      "x is still less than 10, adding 1 to x\n",
      "x is currently:  5\n",
      "x is still less than 10, adding 1 to x\n",
      "x is currently:  6\n",
      "x is still less than 10, adding 1 to x\n",
      "x is currently:  7\n",
      "x is still less than 10, adding 1 to x\n",
      "x is currently:  8\n",
      "x is still less than 10, adding 1 to x\n",
      "x is currently:  9\n",
      "x is still less than 10, adding 1 to x\n"
     ]
    }
   ],
   "source": [
    "x = 0\n",
    "while x < 10:\n",
    "    print('x is currently: ',x)\n",
    "    print('x is still less than 10, adding 1 to x')\n",
    "    x+=1"
   ]
  },
  {
   "cell_type": "code",
   "execution_count": 35,
   "id": "8cc851a4",
   "metadata": {},
   "outputs": [
    {
     "name": "stdout",
     "output_type": "stream",
     "text": [
      "x is currently:  0\n",
      " x is still less than 10, adding 1 to x\n",
      "x is currently:  1\n",
      " x is still less than 10, adding 1 to x\n",
      "x is currently:  2\n",
      " x is still less than 10, adding 1 to x\n",
      "x is currently:  3\n",
      " x is still less than 10, adding 1 to x\n",
      "x is currently:  4\n",
      " x is still less than 10, adding 1 to x\n",
      "x is currently:  5\n",
      " x is still less than 10, adding 1 to x\n",
      "x is currently:  6\n",
      " x is still less than 10, adding 1 to x\n",
      "x is currently:  7\n",
      " x is still less than 10, adding 1 to x\n",
      "x is currently:  8\n",
      " x is still less than 10, adding 1 to x\n",
      "x is currently:  9\n",
      " x is still less than 10, adding 1 to x\n",
      "All Done!\n"
     ]
    }
   ],
   "source": [
    "x = 0\n",
    "\n",
    "while x < 10:\n",
    "    print('x is currently: ',x)\n",
    "    print(' x is still less than 10, adding 1 to x')\n",
    "    x+=1\n",
    "else:\n",
    "    print('All Done!')"
   ]
  },
  {
   "cell_type": "markdown",
   "id": "5ba98f53",
   "metadata": {},
   "source": [
    "### break, continue, pass\n",
    "\n",
    "We can use `break`, `continue`, and `pass` statements in our loops to add additional functionality for various cases. The three statements are defined by:\n",
    "\n",
    "    break: Breaks out of the current closest enclosing loop.\n",
    "    continue: Goes to the top of the closest enclosing loop.\n",
    "    pass: Does nothing at all.\n",
    "    \n",
    "    \n",
    "Thinking about `break` and `continue` statements, the general format of the `while` loop looks like this:\n",
    "\n",
    "    while test: \n",
    "        code statement\n",
    "        if test: \n",
    "            break\n",
    "        if test: \n",
    "            continue \n",
    "    else:\n",
    "\n",
    "`break` and `continue` statements can appear anywhere inside the loop’s body, but we will usually put them further nested in conjunction with an `if` statement to perform an action based on some condition.\n"
   ]
  },
  {
   "cell_type": "code",
   "execution_count": 36,
   "id": "20061e60",
   "metadata": {},
   "outputs": [
    {
     "name": "stdout",
     "output_type": "stream",
     "text": [
      "x is currently:  0\n",
      " x is still less than 10, adding 1 to x\n",
      "continuing...\n",
      "x is currently:  1\n",
      " x is still less than 10, adding 1 to x\n",
      "continuing...\n",
      "x is currently:  2\n",
      " x is still less than 10, adding 1 to x\n",
      "x==3\n",
      "x is currently:  3\n",
      " x is still less than 10, adding 1 to x\n",
      "continuing...\n",
      "x is currently:  4\n",
      " x is still less than 10, adding 1 to x\n",
      "continuing...\n",
      "x is currently:  5\n",
      " x is still less than 10, adding 1 to x\n",
      "continuing...\n",
      "x is currently:  6\n",
      " x is still less than 10, adding 1 to x\n",
      "continuing...\n",
      "x is currently:  7\n",
      " x is still less than 10, adding 1 to x\n",
      "continuing...\n",
      "x is currently:  8\n",
      " x is still less than 10, adding 1 to x\n",
      "continuing...\n",
      "x is currently:  9\n",
      " x is still less than 10, adding 1 to x\n",
      "continuing...\n"
     ]
    }
   ],
   "source": [
    "x = 0\n",
    "\n",
    "while x < 10:\n",
    "    print('x is currently: ',x)\n",
    "    print(' x is still less than 10, adding 1 to x')\n",
    "    x+=1\n",
    "    if x==3:\n",
    "        print('x==3')\n",
    "    else:\n",
    "        print('continuing...')\n",
    "        continue\n",
    "        print('hello') # This line will not be executed and loop[ will be return to next iteration"
   ]
  },
  {
   "cell_type": "code",
   "execution_count": 37,
   "id": "0d51501b",
   "metadata": {},
   "outputs": [
    {
     "name": "stdout",
     "output_type": "stream",
     "text": [
      "x is currently:  0\n",
      " x is still less than 10, adding 1 to x\n",
      "continuing...\n",
      "x is currently:  1\n",
      " x is still less than 10, adding 1 to x\n",
      "continuing...\n",
      "x is currently:  2\n",
      " x is still less than 10, adding 1 to x\n",
      "Breaking because x==3\n"
     ]
    }
   ],
   "source": [
    "x = 0\n",
    "\n",
    "while x < 10:\n",
    "    print('x is currently: ',x)\n",
    "    print(' x is still less than 10, adding 1 to x')\n",
    "    x+=1\n",
    "    if x==3:\n",
    "        print('Breaking because x==3')\n",
    "        break\n",
    "    else:\n",
    "        print('continuing...')\n",
    "        continue"
   ]
  },
  {
   "cell_type": "markdown",
   "id": "0741b88c",
   "metadata": {},
   "source": [
    "These are some more resources that could be referred to learn more about (`for` and `while`) loops<br>\n",
    "[More resources](http://www.tutorialspoint.com/python/python_for_loop.htm)"
   ]
  },
  {
   "cell_type": "code",
   "execution_count": 38,
   "id": "919c5ddd",
   "metadata": {},
   "outputs": [
    {
     "name": "stdout",
     "output_type": "stream",
     "text": [
      "Insert input: 123\n"
     ]
    }
   ],
   "source": [
    "a = input('Insert input: ')"
   ]
  },
  {
   "cell_type": "code",
   "execution_count": 39,
   "id": "b73c56d1",
   "metadata": {},
   "outputs": [
    {
     "data": {
      "text/plain": [
       "str"
      ]
     },
     "execution_count": 39,
     "metadata": {},
     "output_type": "execute_result"
    }
   ],
   "source": [
    "type(a)"
   ]
  },
  {
   "cell_type": "code",
   "execution_count": 40,
   "id": "bf790590",
   "metadata": {},
   "outputs": [
    {
     "ename": "TypeError",
     "evalue": "can only concatenate str (not \"int\") to str",
     "output_type": "error",
     "traceback": [
      "\u001b[1;31m---------------------------------------------------------------------------\u001b[0m",
      "\u001b[1;31mTypeError\u001b[0m                                 Traceback (most recent call last)",
      "\u001b[1;32m~\\AppData\\Local\\Temp/ipykernel_22508/2143622436.py\u001b[0m in \u001b[0;36m<module>\u001b[1;34m\u001b[0m\n\u001b[0;32m      1\u001b[0m \u001b[1;31m# This will generate an error because a string and an integer value cannot be concatenated\u001b[0m\u001b[1;33m\u001b[0m\u001b[1;33m\u001b[0m\u001b[1;33m\u001b[0m\u001b[0m\n\u001b[1;32m----> 2\u001b[1;33m \u001b[0ma\u001b[0m \u001b[1;33m+\u001b[0m \u001b[1;36m123\u001b[0m\u001b[1;33m\u001b[0m\u001b[1;33m\u001b[0m\u001b[0m\n\u001b[0m",
      "\u001b[1;31mTypeError\u001b[0m: can only concatenate str (not \"int\") to str"
     ]
    }
   ],
   "source": [
    "# This will generate an error because a string and an integer value cannot be concatenated\n",
    "a + 123"
   ]
  },
  {
   "cell_type": "markdown",
   "id": "c4a1f574",
   "metadata": {},
   "source": [
    "# Important \n",
    "From these outputs we get to know that the input fetched using input command is always stored as a `string` in the variable and that is why we cannot perform the addition task in the above command where we wanted to `sum` the `input` and `123` value.\n",
    "In order to store the input value as an integer value we will write the following code"
   ]
  },
  {
   "cell_type": "code",
   "execution_count": 41,
   "id": "24429c14",
   "metadata": {},
   "outputs": [
    {
     "name": "stdout",
     "output_type": "stream",
     "text": [
      "Enter Input: 123\n"
     ]
    }
   ],
   "source": [
    "a = int(input('Enter Input: '))"
   ]
  },
  {
   "cell_type": "code",
   "execution_count": 42,
   "id": "a3ea7c60",
   "metadata": {},
   "outputs": [
    {
     "data": {
      "text/plain": [
       "int"
      ]
     },
     "execution_count": 42,
     "metadata": {},
     "output_type": "execute_result"
    }
   ],
   "source": [
    "type(a)"
   ]
  },
  {
   "cell_type": "code",
   "execution_count": 43,
   "id": "5a039957",
   "metadata": {},
   "outputs": [
    {
     "data": {
      "text/plain": [
       "246"
      ]
     },
     "execution_count": 43,
     "metadata": {},
     "output_type": "execute_result"
    }
   ],
   "source": [
    "a + 123"
   ]
  },
  {
   "cell_type": "markdown",
   "id": "86de8630",
   "metadata": {},
   "source": [
    "## Exercise\n",
    "1. Take in input from a user of an area of the field in hectares and convert that area into acres as an output.\n",
    "2. Take in input temperature from the user in degree celsius and convert the temperature to degree fahrenheit.\n",
    "3. Take in input value from the user in kilograms and convert the weight into pounds.\n",
    "4. Take in a list of 3 temperature values from the user in degree celsius and form a new list of these converted celsius degree temperature into fahrenheit scale.\n",
    "(Refer to this [link1](https://www.geeksforgeeks.org/taking-multiple-inputs-from-user-in-python/)and [link2](https://python.plainenglish.io/taking-multiple-inputs-from-user-in-python-3-6cbe02d03a95) for the final part of exrecise)"
   ]
  },
  {
   "cell_type": "code",
   "execution_count": null,
   "id": "77415c27",
   "metadata": {},
   "outputs": [],
   "source": []
  }
 ],
 "metadata": {
  "kernelspec": {
   "display_name": "Python 3 (ipykernel)",
   "language": "python",
   "name": "python3"
  },
  "language_info": {
   "codemirror_mode": {
    "name": "ipython",
    "version": 3
   },
   "file_extension": ".py",
   "mimetype": "text/x-python",
   "name": "python",
   "nbconvert_exporter": "python",
   "pygments_lexer": "ipython3",
   "version": "3.9.5"
  }
 },
 "nbformat": 4,
 "nbformat_minor": 5
}
