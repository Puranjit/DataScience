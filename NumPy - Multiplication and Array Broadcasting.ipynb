{
 "cells": [
  {
   "cell_type": "markdown",
   "id": "5c867f30",
   "metadata": {},
   "source": [
    "# NumPy - Multiplication and Array Broadcasting\n",
    "This jupyter notebook presents two useful Linear Algebra operations by NumPy\n",
    "\n",
    "### Part A - Multiplication between N-dimensional arrays\n",
    "\n",
    "We describe the techniques for multiplying N-dimesional arrays using NumPy. Specifically we describe the follwing types of multiplications: \n",
    "    * Element-wise multiplication (Hadamard product)\n",
    "    * Dot product\n",
    "    * matrix multiplication\n",
    "    <br>\n",
    "<b>We'll start by importing NumPy</b>"
   ]
  },
  {
   "cell_type": "code",
   "execution_count": 1,
   "id": "3dc562fe",
   "metadata": {},
   "outputs": [],
   "source": [
    "import numpy as np"
   ]
  },
  {
   "cell_type": "markdown",
   "id": "5e2e50f8",
   "metadata": {},
   "source": [
    "### Element-wise multiplication (Hadamard product)\n",
    "\n",
    "The element-wise product or Hadamard product is a binary operation that takes two matrices of the same dimensions and produces another matrix of the same dimension as the operands, where each element i, j is the product of elements i, j of the original two matrices.\n",
    "\n",
    "We can use the following two NumPy techniques for performing element-wise multiplication.\n",
    "* *\n",
    "* np.multiply \n",
    "We will get the same result by using both techniques."
   ]
  },
  {
   "cell_type": "code",
   "execution_count": 2,
   "id": "f6d4e5c0",
   "metadata": {},
   "outputs": [
    {
     "name": "stdout",
     "output_type": "stream",
     "text": [
      "Matrix a is:\n",
      " [[3 3]\n",
      " [3 3]]\n",
      "Shape of a is:  (2, 2) \n",
      "\n",
      "Matrix b is:\n",
      " [[6 6]\n",
      " [6 6]]\n",
      "Shape of b is:  (2, 2) \n",
      "\n",
      "a*b is:\n",
      " [[18 18]\n",
      " [18 18]] \n",
      "\n",
      "np.multiply(a,b) is:\n",
      " [[18 18]\n",
      " [18 18]]\n"
     ]
    }
   ],
   "source": [
    "# Create a 2D matrix\n",
    "a = np.array([[3,3],[3,3]])\n",
    "print('Matrix a is:\\n',a)\n",
    "print('Shape of a is: ', a.shape, '\\n')\n",
    "\n",
    "# Create another 2D matrix\n",
    "b = np.array([[6,6],[6,6]])\n",
    "print('Matrix b is:\\n',b)\n",
    "print('Shape of b is: ', b.shape, '\\n')\n",
    "\n",
    "# Element wise multiplication using *\n",
    "c = a*b\n",
    "print('a*b is:\\n', c, '\\n')\n",
    "\n",
    "# Element wise multiplication using np.multiply\n",
    "d = np.multiply(a,b)\n",
    "print('np.multiply(a,b) is:\\n', d)"
   ]
  },
  {
   "cell_type": "markdown",
   "id": "c15cb415",
   "metadata": {},
   "source": [
    "### Dot product:\n",
    "The dot product is an algebraic operation that takes two same-sized vectors (dimension 1D) and returns a single number.\n",
    "\n",
    "For computing a dot product between two vectors, we use the np.dot function.\n",
    "\n",
    "The np.dot function can also be used for computing the dot product between two ndarrays (matrices). This is shown later."
   ]
  },
  {
   "cell_type": "code",
   "execution_count": 3,
   "id": "4791851d",
   "metadata": {},
   "outputs": [
    {
     "name": "stdout",
     "output_type": "stream",
     "text": [
      "Vector a:  [2 2 2]\n",
      "Shape of a:  (3,) \n",
      "\n",
      "Vector b:  [4 4 4]\n",
      "Shape of b: (3,) \n",
      "\n",
      "np.dot(a, b):  24\n"
     ]
    }
   ],
   "source": [
    "# Create a vector\n",
    "a = np.array([2, 2, 2]) \n",
    "print(\"Vector a: \", a)\n",
    "print(\"Shape of a: \", a.shape, '\\n')\n",
    "\n",
    "# Create another vector\n",
    "b = np.array([4, 4, 4])  \n",
    "print(\"Vector b: \", b)\n",
    "print(\"Shape of b:\", b.shape, '\\n')\n",
    "\n",
    "\n",
    "# Dot product of a and b\n",
    "c = np.dot(a, b) \n",
    "print(\"np.dot(a, b): \", c)"
   ]
  },
  {
   "cell_type": "markdown",
   "id": "ecf821a7",
   "metadata": {},
   "source": [
    "### Matrix Multiplication\n",
    "It is the matrix version of the dot product. Unlike the scalar-valued result of a dot product, the result of matrix multiplication is a matrix.\n",
    "\n",
    "For performing matrix multiplication, we can use\n",
    "\n",
    "np.matmul function\n",
    "`@ operator`\n",
    "<br>\n",
    "The `@ operator` performs the same task the `np.matmul` performs. However, it is available only in python 3.5+"
   ]
  },
  {
   "cell_type": "code",
   "execution_count": 4,
   "id": "2ebf1e26",
   "metadata": {},
   "outputs": [
    {
     "name": "stdout",
     "output_type": "stream",
     "text": [
      "Matrix a:\n",
      " [[2 2]\n",
      " [2 2]]\n",
      "\n",
      "Shape of a:  (2, 2) \n",
      "\n",
      "Matrix b:\n",
      " [[4 4]\n",
      " [4 4]]\n",
      "\n",
      "Shape of b: (2, 2) \n",
      "\n",
      "np.matmul(a, b):\n",
      " [[16 16]\n",
      " [16 16]]\n",
      "\n",
      "a @ b:\n",
      " [[16 16]\n",
      " [16 16]]\n"
     ]
    }
   ],
   "source": [
    "# Create a 2D matrix\n",
    "a = np.array([[2, 2], [2, 2]]) \n",
    "print(\"Matrix a:\\n\", a)\n",
    "print(\"\\nShape of a: \", a.shape, '\\n')\n",
    "\n",
    "# Create another 2D matrix\n",
    "b = np.array([[4, 4], [4, 4]])  \n",
    "print(\"Matrix b:\\n\", b)\n",
    "print(\"\\nShape of b:\", b.shape, '\\n')\n",
    "\n",
    "# np.matmul\n",
    "d = np.matmul(a, b)\n",
    "print(\"np.matmul(a, b):\\n\", d)\n",
    "\n",
    "# @\n",
    "e = a @ b\n",
    "print(\"\\na @ b:\\n\", e)"
   ]
  },
  {
   "cell_type": "markdown",
   "id": "6d2fb3ec",
   "metadata": {},
   "source": [
    "### Comparison: Dot Product vs. Matrix Multiplication\n",
    "The np.dot and np.matmul (and @) functions give the same result. However, there is an important difference.\n",
    "\n",
    "The np.dot function behaves differently for matrices with dimensions higher than 2D. In such a case, np.matmul should be used.\n",
    "Following guideline could be useful for selecting a suitable function.\n",
    "\n",
    "np.dot: for computing a dot product between two 1D vectors\n",
    "np.matmul and @: for computing a matrix multiplication between two matrices (2D or higher)\n",
    "Example: Two 2D Matrices\n",
    "We will see that np.dot, np.matmul, and @ behave similarly when the dimension of the matrices is <=2D"
   ]
  },
  {
   "cell_type": "code",
   "execution_count": 5,
   "id": "a983a449",
   "metadata": {},
   "outputs": [
    {
     "name": "stdout",
     "output_type": "stream",
     "text": [
      "Matrix a:\n",
      " [[2 2]\n",
      " [2 2]]\n",
      "\n",
      "Shape of a:  (2, 2)\n",
      "\n",
      "Matrix b:\n",
      " [[4 4]\n",
      " [4 4]]\n",
      "\n",
      "Shape of b: (2, 2) \n",
      "\n",
      "np.dot(a, b):\n",
      " [[16 16]\n",
      " [16 16]] \n",
      "\n",
      "np.matmul(a, b):\n",
      " [[16 16]\n",
      " [16 16]]\n",
      "\n",
      "a @ b:\n",
      " [[16 16]\n",
      " [16 16]]\n"
     ]
    }
   ],
   "source": [
    "a = np.array([[2, 2], [2, 2]]) \n",
    "print(\"Matrix a:\\n\", a)\n",
    "print(\"\\nShape of a: \", a.shape)\n",
    "\n",
    "b = np.array([[4, 4], [4, 4]])  \n",
    "print(\"\\nMatrix b:\\n\", b)\n",
    "print(\"\\nShape of b:\", b.shape, '\\n')\n",
    "\n",
    "# np.dot\n",
    "c = np.dot(a, b) \n",
    "print(\"np.dot(a, b):\\n\", c, '\\n')\n",
    "\n",
    "# np.matmul\n",
    "d = np.matmul(a, b)\n",
    "print(\"np.matmul(a, b):\\n\", d)\n",
    "\n",
    "# @\n",
    "e = a @ b\n",
    "print(\"\\na @ b:\\n\", e)"
   ]
  },
  {
   "cell_type": "markdown",
   "id": "4bc6791b",
   "metadata": {},
   "source": [
    "### Example: Two 3D Matrices\n",
    "We will see that the np.dot behaves differently than np.matmul or @ when the dimension of the matrices is larger than 2D.\n",
    "\n",
    "Note: The np.dot function works for high dimensional matrices as follows. If a is an N-D array and b is an M-D array (where M>=2), it is a sum product over the last axis of a and the second-to-last axis of b:\n",
    "\n",
    "dot(a,b)[i,j,k,m]=sum(a[i,j,:]∗b[k,:,m])"
   ]
  },
  {
   "cell_type": "code",
   "execution_count": 6,
   "id": "f6212a9c",
   "metadata": {},
   "outputs": [
    {
     "name": "stdout",
     "output_type": "stream",
     "text": [
      "Matrix a: \n",
      " [[[2. 2.]\n",
      "  [2. 2.]]\n",
      "\n",
      " [[2. 2.]\n",
      "  [2. 2.]]\n",
      "\n",
      " [[2. 2.]\n",
      "  [2. 2.]]]\n",
      "Shape of a:  (3, 2, 2) \n",
      "\n",
      "Matrix b: \n",
      " [[[4. 4.]\n",
      "  [4. 4.]]\n",
      "\n",
      " [[4. 4.]\n",
      "  [4. 4.]]\n",
      "\n",
      " [[4. 4.]\n",
      "  [4. 4.]]]\n",
      "Shape of b:  (3, 2, 2) \n",
      "\n",
      "np.dot(a, b):\n",
      " [[[[16. 16.]\n",
      "   [16. 16.]\n",
      "   [16. 16.]]\n",
      "\n",
      "  [[16. 16.]\n",
      "   [16. 16.]\n",
      "   [16. 16.]]]\n",
      "\n",
      "\n",
      " [[[16. 16.]\n",
      "   [16. 16.]\n",
      "   [16. 16.]]\n",
      "\n",
      "  [[16. 16.]\n",
      "   [16. 16.]\n",
      "   [16. 16.]]]\n",
      "\n",
      "\n",
      " [[[16. 16.]\n",
      "   [16. 16.]\n",
      "   [16. 16.]]\n",
      "\n",
      "  [[16. 16.]\n",
      "   [16. 16.]\n",
      "   [16. 16.]]]]\n",
      "Shape of np.dot(a, b):  (3, 2, 3, 2) \n",
      "\n",
      "np.matmul(a, b):\n",
      " [[[16. 16.]\n",
      "  [16. 16.]]\n",
      "\n",
      " [[16. 16.]\n",
      "  [16. 16.]]\n",
      "\n",
      " [[16. 16.]\n",
      "  [16. 16.]]]\n",
      "Shape of np.matmul(a, b):  (3, 2, 2) \n",
      "\n",
      "a @ b:\n",
      " [[[16. 16.]\n",
      "  [16. 16.]]\n",
      "\n",
      " [[16. 16.]\n",
      "  [16. 16.]]\n",
      "\n",
      " [[16. 16.]\n",
      "  [16. 16.]]]\n",
      "Shape of a @ b:  (3, 2, 2)\n"
     ]
    }
   ],
   "source": [
    "a = np.ones(shape=(3, 2, 2), dtype=np.float32) * 2\n",
    "print(\"Matrix a: \\n\", a)\n",
    "print(\"Shape of a: \", a.shape, '\\n')\n",
    "\n",
    "b = np.ones(shape=(3, 2, 2), dtype=np.float32) * 4\n",
    "print(\"Matrix b: \\n\", b)\n",
    "print(\"Shape of b: \", b.shape, '\\n')\n",
    "\n",
    "# np.dot\n",
    "c = np.dot(a, b) \n",
    "print(\"np.dot(a, b):\\n\", c)\n",
    "print(\"Shape of np.dot(a, b): \", c.shape, '\\n')\n",
    "\n",
    "# np.matmul\n",
    "d = np.matmul(a, b)\n",
    "print(\"np.matmul(a, b):\\n\", d)\n",
    "print(\"Shape of np.matmul(a, b): \", d.shape, '\\n')\n",
    "\n",
    "# @\n",
    "e = a @ b\n",
    "print(\"a @ b:\\n\", e)\n",
    "print(\"Shape of a @ b: \", e.shape)"
   ]
  },
  {
   "cell_type": "markdown",
   "id": "2c6654ca",
   "metadata": {},
   "source": [
    "For more reference to NumPy 3D Matrix multiplication refer to [link](https://www.geeksforgeeks.org/numpy-3d-matrix-multiplication/)\n"
   ]
  },
  {
   "cell_type": "markdown",
   "id": "6ac337a3",
   "metadata": {},
   "source": [
    "## Part B - Array broadcasting\n",
    "NumPy provides a mechanism for performing mathematical operations on arrays of unequal shapes. This mechanism is known as array broadcasting or broadcasting.\n",
    "\n",
    "The term broadcasting describes how numpy treats arrays with different shapes during arithmetic operations. Subject to certain constraints, the smaller array is “broadcast” across the larger array so that they have compatible shapes.\n",
    "\n",
    "Broadcasting provides a means of vectorizing array operations so that looping occurs in C instead of Python. It does this without making needless copies of data and usually leads to efficient algorithm implementations.\n",
    "\n",
    "### General Broadcasting Rules\n",
    "When operating on two arrays, NumPy compares their shapes element-wise. It starts with the trailing (i.e., rightmost) dimensions and works its way left. Two dimensions are compatible when\n",
    "\n",
    "* they are equal, or\n",
    "* one of them is 1\n",
    "\n",
    "If these conditions are not met, following exception is thrown:\n",
    "\n",
    "    ValueError: operands could not be broadcast together\n",
    "\n",
    "It indicates that the arrays have incompatible shapes. The size of the resulting array is the size that is not 1 along each axis of the inputs.\n",
    "\n",
    "For more information: [link](https://numpy.org/doc/stable/user/basics.broadcasting.html)"
   ]
  },
  {
   "cell_type": "code",
   "execution_count": 7,
   "id": "5b250b54",
   "metadata": {},
   "outputs": [
    {
     "name": "stdout",
     "output_type": "stream",
     "text": [
      "x dimension:  (3,)\n",
      "y dimension:  (2,)\n"
     ]
    },
    {
     "ename": "ValueError",
     "evalue": "operands could not be broadcast together with shapes (3,) (2,) ",
     "output_type": "error",
     "traceback": [
      "\u001b[1;31m---------------------------------------------------------------------------\u001b[0m",
      "\u001b[1;31mValueError\u001b[0m                                Traceback (most recent call last)",
      "\u001b[1;32m<ipython-input-7-cf605b76ffa5>\u001b[0m in \u001b[0;36m<module>\u001b[1;34m\u001b[0m\n\u001b[0;32m      9\u001b[0m \u001b[0mprint\u001b[0m\u001b[1;33m(\u001b[0m\u001b[1;34m\"y dimension: \"\u001b[0m\u001b[1;33m,\u001b[0m \u001b[0my\u001b[0m\u001b[1;33m.\u001b[0m\u001b[0mshape\u001b[0m\u001b[1;33m)\u001b[0m\u001b[1;33m\u001b[0m\u001b[1;33m\u001b[0m\u001b[0m\n\u001b[0;32m     10\u001b[0m \u001b[1;33m\u001b[0m\u001b[0m\n\u001b[1;32m---> 11\u001b[1;33m \u001b[0mprint\u001b[0m\u001b[1;33m(\u001b[0m\u001b[0mx\u001b[0m\u001b[1;33m+\u001b[0m\u001b[0my\u001b[0m\u001b[1;33m)\u001b[0m\u001b[1;33m\u001b[0m\u001b[1;33m\u001b[0m\u001b[0m\n\u001b[0m",
      "\u001b[1;31mValueError\u001b[0m: operands could not be broadcast together with shapes (3,) (2,) "
     ]
    }
   ],
   "source": [
    "'''\n",
    "Dimensions of the two arrays are not compatible\n",
    "'''\n",
    "\n",
    "x = np.array([1,3,5])\n",
    "y = np.array([2,4])\n",
    "\n",
    "print(\"x dimension: \", x.shape)\n",
    "print(\"y dimension: \", y.shape)\n",
    "\n",
    "print(x+y)"
   ]
  },
  {
   "cell_type": "code",
   "execution_count": 8,
   "id": "f06e484f",
   "metadata": {},
   "outputs": [
    {
     "name": "stdout",
     "output_type": "stream",
     "text": [
      "x dimension:  (3,)\n",
      "y dimension:  (1,)\n",
      "[3 5 7]\n"
     ]
    }
   ],
   "source": [
    "'''\n",
    "Dimensions of the two arrays are compatible\n",
    "- because the dimension of the 2nd array is 1\n",
    "Here, dimensions with size 1 are stretched or “copied” to match the other.\n",
    "'''\n",
    "\n",
    "x = np.array([1,3,5])\n",
    "y = np.array([2,])\n",
    "\n",
    "print(\"x dimension: \", x.shape)\n",
    "print(\"y dimension: \", y.shape)\n",
    "\n",
    "print(x+y)"
   ]
  },
  {
   "cell_type": "code",
   "execution_count": 9,
   "id": "01f93631",
   "metadata": {},
   "outputs": [
    {
     "name": "stdout",
     "output_type": "stream",
     "text": [
      "x dimension:  (2, 3)\n",
      "y dimension:  (3,)\n",
      "[[ 3  4  8]\n",
      " [ 9  9 12]]\n"
     ]
    }
   ],
   "source": [
    "'''\n",
    "Dimensions of the two arrays are compatible\n",
    "- because the right-most dimensions are  equal\n",
    "\n",
    "Here the lining up the sizes of the trailing axes of these arrays according to the broadcast rules, \n",
    "shows that they are compatible.\n",
    "'''\n",
    "\n",
    "x = np.array([[1, 3, 5], [7, 8, 9]])\n",
    "y = np.array([2, 1, 3])\n",
    "\n",
    "print(\"x dimension: \", x.shape)\n",
    "print(\"y dimension: \", y.shape)\n",
    "\n",
    "print(x+y)"
   ]
  },
  {
   "cell_type": "markdown",
   "id": "eca7a73b",
   "metadata": {},
   "source": [
    "### Outer Product\n",
    "Broadcasting provides a convenient way of taking the outer product (or any other outer operation) of two arrays. The following example shows an outer addition operation of two 1-d arrays:\n",
    "\n",
    "Here the newaxis index operator inserts a new axis into x, making it a two-dimensional (4 x 1) array. Combining the 4x1 array with y, which has shape (3, ), yields a (4 x 3) array."
   ]
  },
  {
   "cell_type": "code",
   "execution_count": null,
   "id": "7a092ab9",
   "metadata": {},
   "outputs": [],
   "source": [
    "x = np.array([0.0, 10.0, 20.0, 30.0])\n",
    "y = np.array([1.0, 2.0, 3.0])\n",
    "\n",
    "print(\"x dimension: \", x.shape)\n",
    "print(\"y dimension: \", y.shape)\n",
    "\n",
    "# add a new axis\n",
    "x = x[:, np.newaxis]\n",
    "\n",
    "print(\"\\nx dimension: \", x.shape, '\\n')\n",
    "\n",
    "print(x + y)"
   ]
  },
  {
   "cell_type": "markdown",
   "id": "85f0a3cb",
   "metadata": {},
   "source": [
    "Alternatively, we may insert a new axis into y, making it a two-dimensional (3 x 1) array.\n",
    "\n",
    "Then, we combine the array x with shape (4, ) with the new y, yielding a (3 x 4) array."
   ]
  },
  {
   "cell_type": "code",
   "execution_count": null,
   "id": "cb5d360d",
   "metadata": {},
   "outputs": [],
   "source": [
    "x = np.array([0.0, 10.0, 20.0, 30.0])\n",
    "y = np.array([1.0, 2.0, 3.0])\n",
    "\n",
    "print(\"x dimension: \", x.shape)\n",
    "print(\"y dimension: \", y.shape)\n",
    "\n",
    "# add a new axis\n",
    "y = y[:, np.newaxis]\n",
    "\n",
    "print(\"\\ny dimension: \", y.shape, '\\n')\n",
    "\n",
    "print(x + y)"
   ]
  },
  {
   "cell_type": "code",
   "execution_count": null,
   "id": "1eff4be8",
   "metadata": {},
   "outputs": [],
   "source": []
  }
 ],
 "metadata": {
  "kernelspec": {
   "display_name": "Python 3",
   "language": "python",
   "name": "python3"
  },
  "language_info": {
   "codemirror_mode": {
    "name": "ipython",
    "version": 3
   },
   "file_extension": ".py",
   "mimetype": "text/x-python",
   "name": "python",
   "nbconvert_exporter": "python",
   "pygments_lexer": "ipython3",
   "version": "3.8.8"
  }
 },
 "nbformat": 4,
 "nbformat_minor": 5
}
